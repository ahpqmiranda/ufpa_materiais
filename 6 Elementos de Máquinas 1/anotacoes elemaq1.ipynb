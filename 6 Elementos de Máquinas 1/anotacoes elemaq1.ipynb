{
 "cells": [
  {
   "cell_type": "code",
   "execution_count": 1,
   "id": "initial_id",
   "metadata": {
    "collapsed": true,
    "ExecuteTime": {
     "end_time": "2023-09-27T00:54:42.144068015Z",
     "start_time": "2023-09-27T00:54:41.510749830Z"
    }
   },
   "outputs": [],
   "source": [
    "import numpy as np\n",
    "import pandas as pd\n",
    "import matplotlib.pyplot as plt\n",
    "import sympy as sp\n",
    "from sympy import symbols, solve, Eq, functions, Function\n",
    "from sympy.plotting import plot\n",
    "from sympy.physics.mechanics import *\n",
    "sp.init_printing(\n",
    "    use_unicode=True,\n",
    "    use_latex=\"mathjax\",\n",
    "    latex_mode=\"equation\",\n",
    "    pretty_print=True,\n",
    "    wrap_line=True,\n",
    "    num_columns=3,\n",
    "    )"
   ]
  },
  {
   "cell_type": "code",
   "execution_count": 2,
   "outputs": [],
   "source": [
    "# Define the symbols\n",
    "phi, theta, psi = dynamicsymbols('phi theta psi')\n",
    "\n",
    "# Define the angular velocities\n",
    "phidot, thetadot, psidot = dynamicsymbols('phi theta psi', 1)\n",
    "\n",
    "# Define the symbols for the constants\n",
    "I_x, I_y, I_z = symbols('I_x I_y I_z')\n",
    "m, g, l = symbols('m g l')\n",
    "omega = Function('omega')(m)"
   ],
   "metadata": {
    "collapsed": false,
    "ExecuteTime": {
     "end_time": "2023-09-27T00:54:42.157128133Z",
     "start_time": "2023-09-27T00:54:42.148267226Z"
    }
   },
   "id": "3cf0c9c3dda71b78"
  },
  {
   "cell_type": "markdown",
   "source": [
    "# Q1"
   ],
   "metadata": {
    "collapsed": false
   },
   "id": "3896e5c7d781e652"
  },
  {
   "cell_type": "code",
   "execution_count": 3,
   "outputs": [],
   "source": [
    "# parametrização do carregamento distribuído\n",
    "omega = 270 + (0 - 270) / (9) * m # N/m\n",
    "P_analise = 3 # m"
   ],
   "metadata": {
    "collapsed": false,
    "ExecuteTime": {
     "end_time": "2023-09-27T00:54:42.169737799Z",
     "start_time": "2023-09-27T00:54:42.153014051Z"
    }
   },
   "id": "4576e0780e808f36"
  },
  {
   "cell_type": "code",
   "execution_count": 4,
   "outputs": [
    {
     "name": "stdout",
     "output_type": "stream",
     "text": [
      "180.000000000000\n"
     ]
    }
   ],
   "source": [
    "val = omega.subs(m, P_analise)\n",
    "print(val)"
   ],
   "metadata": {
    "collapsed": false,
    "ExecuteTime": {
     "end_time": "2023-09-27T00:54:42.181535009Z",
     "start_time": "2023-09-27T00:54:42.163295061Z"
    }
   },
   "id": "b5bb6d9ab1957bd4"
  },
  {
   "cell_type": "markdown",
   "source": [
    "# Q2"
   ],
   "metadata": {
    "collapsed": false
   },
   "id": "e859533d7276e017"
  },
  {
   "cell_type": "code",
   "execution_count": 5,
   "outputs": [
    {
     "data": {
      "text/plain": "1\n2\n0\n.\n0\n0\n0\n0\n0\n0\n0\n0\n0\n0\n0\n0",
      "text/latex": "\\begin{equation}120.0\\end{equation}"
     },
     "execution_count": 5,
     "metadata": {},
     "output_type": "execute_result"
    }
   ],
   "source": [
    "omega = 180 + (0 - 180) / 6 * m # N/m\n",
    "omega.subs(m, 2)"
   ],
   "metadata": {
    "collapsed": false,
    "ExecuteTime": {
     "end_time": "2023-09-27T00:54:42.247787343Z",
     "start_time": "2023-09-27T00:54:42.183518447Z"
    }
   },
   "id": "fdcfacf715934986"
  },
  {
   "cell_type": "code",
   "execution_count": 6,
   "outputs": [
    {
     "data": {
      "text/plain": "3\n3\n0\n.\n0\n0\n0\n0\n0\n0\n0\n0\n0\n0\n0\n0",
      "text/latex": "\\begin{equation}330.0\\end{equation}"
     },
     "execution_count": 6,
     "metadata": {},
     "output_type": "execute_result"
    }
   ],
   "source": [
    "import functools\n",
    "\n",
    "F_resultante = functools.reduce(lambda x, y: x + y, [omega.subs(m, i) for i in range(0, 2)])\n",
    "F_resultante"
   ],
   "metadata": {
    "collapsed": false,
    "ExecuteTime": {
     "end_time": "2023-09-27T00:54:42.251075755Z",
     "start_time": "2023-09-27T00:54:42.230485062Z"
    }
   },
   "id": "979787a304bcdbb3"
  },
  {
   "cell_type": "code",
   "execution_count": 7,
   "outputs": [
    {
     "data": {
      "text/plain": "[\n1\n8\n0\n,\n \n1\n5\n0\n.\n0\n,\n \n1\n2\n0\n.\n0\n,\n \n9\n0\n.\n0\n]",
      "text/latex": "\\begin{equation}\\left[ 180, \\  150.0, \\  120.0, \\  90.0\\right]\\end{equation}"
     },
     "execution_count": 7,
     "metadata": {},
     "output_type": "execute_result"
    }
   ],
   "source": [
    "[omega.subs(m, i) for i in range(0, P_analise + 1)]"
   ],
   "metadata": {
    "collapsed": false,
    "ExecuteTime": {
     "end_time": "2023-09-27T00:54:42.251699599Z",
     "start_time": "2023-09-27T00:54:42.230910514Z"
    }
   },
   "id": "20d2e504d3d48342"
  },
  {
   "cell_type": "code",
   "execution_count": 8,
   "outputs": [],
   "source": [
    "# tensão normal por tração\n",
    "sigma, F, A, r = symbols('sigma F A r')\n",
    "sigma = F / A"
   ],
   "metadata": {
    "collapsed": false,
    "ExecuteTime": {
     "end_time": "2023-09-27T00:54:42.292611580Z",
     "start_time": "2023-09-27T00:54:42.231284827Z"
    }
   },
   "id": "510496e9fe7aa22e"
  },
  {
   "cell_type": "code",
   "execution_count": 9,
   "outputs": [
    {
     "data": {
      "text/plain": "0\n─\n \n\n.\n─\n \n\n3\n─\n \n\n1\n─\n \n\n8\n─\n \n\n3\n─\n \n\n0\n─\n \n\n9\n─\n \n\n8\n─\n \n\n8\n─\nr\n\n6\n─\n \n\n1\n─\n \n\n8\n─\n \n\n3\n─\n \n\n7\n─\n \n\n9\n─\n \n\n1\n─\n \n\n⋅\n─\n \n\nF\n─\n ",
      "text/latex": "\\begin{equation}\\frac{0.318309886183791 F}{r}\\end{equation}"
     },
     "execution_count": 9,
     "metadata": {},
     "output_type": "execute_result"
    }
   ],
   "source": [
    "sigma.subs(A, np.pi * r)"
   ],
   "metadata": {
    "collapsed": false,
    "ExecuteTime": {
     "end_time": "2023-09-27T00:54:42.293650481Z",
     "start_time": "2023-09-27T00:54:42.273911803Z"
    }
   },
   "id": "858847a8d7ae2d92"
  },
  {
   "cell_type": "code",
   "execution_count": 9,
   "outputs": [],
   "source": [],
   "metadata": {
    "collapsed": false,
    "ExecuteTime": {
     "end_time": "2023-09-27T00:54:42.293964033Z",
     "start_time": "2023-09-27T00:54:42.274370929Z"
    }
   },
   "id": "cd16ed06d39786bc"
  }
 ],
 "metadata": {
  "kernelspec": {
   "display_name": "Python 3",
   "language": "python",
   "name": "python3"
  },
  "language_info": {
   "codemirror_mode": {
    "name": "ipython",
    "version": 2
   },
   "file_extension": ".py",
   "mimetype": "text/x-python",
   "name": "python",
   "nbconvert_exporter": "python",
   "pygments_lexer": "ipython2",
   "version": "2.7.6"
  }
 },
 "nbformat": 4,
 "nbformat_minor": 5
}
