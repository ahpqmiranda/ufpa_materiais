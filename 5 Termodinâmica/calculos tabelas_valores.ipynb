{
 "cells": [
  {
   "cell_type": "code",
   "execution_count": 79,
   "metadata": {
    "collapsed": true,
    "pycharm": {
     "name": "#%%\n"
    }
   },
   "outputs": [],
   "source": [
    "import pandas as pd\n",
    "import numpy as np\n",
    "import matplotlib as plt"
   ]
  },
  {
   "cell_type": "code",
   "execution_count": 80,
   "outputs": [],
   "source": [
    "file = pd.read_csv('tabela temodinâmica do vapor dágua 100 a 200ºC.csv', sep=';', encoding='unicode_escape', on_bad_lines='skip')\n",
    "\n",
    "database = pd.DataFrame(file)\n"
   ],
   "metadata": {
    "collapsed": false,
    "pycharm": {
     "name": "#%%\n"
    }
   }
  },
  {
   "cell_type": "markdown",
   "source": [],
   "metadata": {
    "collapsed": false,
    "pycharm": {
     "name": "#%% md\n"
    }
   }
  },
  {
   "cell_type": "code",
   "execution_count": 81,
   "outputs": [],
   "source": [
    "def interpol_TxP():\n",
    "    # func = [[None for x in enumerate(T)] for x in enumerate(T)]\n",
    "    Tc = database.iloc[:, :1].squeeze()\n",
    "    Pbar = database.iloc[:, 1:2].squeeze()\n",
    "\n",
    "    a = pd.Series()\n",
    "    for index, value in range(Tc):\n",
    "        S\n",
    "        print(a)\n",
    "\n",
    "\n",
    "\n",
    "    return"
   ],
   "metadata": {
    "collapsed": false,
    "pycharm": {
     "name": "#%%\n"
    }
   }
  },
  {
   "cell_type": "code",
   "execution_count": 82,
   "outputs": [
    {
     "ename": "TypeError",
     "evalue": "'Series' object cannot be interpreted as an integer",
     "output_type": "error",
     "traceback": [
      "\u001B[1;31m---------------------------------------------------------------------------\u001B[0m",
      "\u001B[1;31mTypeError\u001B[0m                                 Traceback (most recent call last)",
      "Input \u001B[1;32mIn [82]\u001B[0m, in \u001B[0;36m<cell line: 1>\u001B[1;34m()\u001B[0m\n\u001B[1;32m----> 1\u001B[0m \u001B[43minterpol_TxP\u001B[49m\u001B[43m(\u001B[49m\u001B[43m)\u001B[49m\n",
      "Input \u001B[1;32mIn [81]\u001B[0m, in \u001B[0;36minterpol_TxP\u001B[1;34m()\u001B[0m\n\u001B[0;32m      4\u001B[0m Pbar \u001B[38;5;241m=\u001B[39m database\u001B[38;5;241m.\u001B[39miloc[:, \u001B[38;5;241m1\u001B[39m:\u001B[38;5;241m2\u001B[39m]\u001B[38;5;241m.\u001B[39msqueeze()\n\u001B[0;32m      6\u001B[0m a \u001B[38;5;241m=\u001B[39m np\u001B[38;5;241m.\u001B[39marray([])\n\u001B[1;32m----> 7\u001B[0m \u001B[38;5;28;01mfor\u001B[39;00m index, value \u001B[38;5;129;01min\u001B[39;00m \u001B[38;5;28;43mrange\u001B[39;49m\u001B[43m(\u001B[49m\u001B[43mTc\u001B[49m\u001B[43m)\u001B[49m:\n\u001B[0;32m      8\u001B[0m     a \u001B[38;5;241m=\u001B[39m np\u001B[38;5;241m.\u001B[39mappend(Tc[index]\u001B[38;5;241m*\u001B[39m\u001B[38;5;241m*\u001B[39mindex)\n\u001B[0;32m      9\u001B[0m     \u001B[38;5;28mprint\u001B[39m(a)\n",
      "\u001B[1;31mTypeError\u001B[0m: 'Series' object cannot be interpreted as an integer"
     ]
    }
   ],
   "source": [
    "\n",
    "interpol_TxP()"
   ],
   "metadata": {
    "collapsed": false,
    "pycharm": {
     "name": "#%%\n"
    }
   }
  },
  {
   "cell_type": "code",
   "execution_count": null,
   "outputs": [],
   "source": [],
   "metadata": {
    "collapsed": false,
    "pycharm": {
     "name": "#%%\n"
    }
   }
  }
 ],
 "metadata": {
  "kernelspec": {
   "display_name": "Python 3",
   "language": "python",
   "name": "python3"
  },
  "language_info": {
   "codemirror_mode": {
    "name": "ipython",
    "version": 2
   },
   "file_extension": ".py",
   "mimetype": "text/x-python",
   "name": "python",
   "nbconvert_exporter": "python",
   "pygments_lexer": "ipython2",
   "version": "2.7.6"
  }
 },
 "nbformat": 4,
 "nbformat_minor": 0
}