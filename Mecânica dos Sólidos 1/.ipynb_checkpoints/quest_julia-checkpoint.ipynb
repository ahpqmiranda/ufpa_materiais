{
 "cells": [
  {
   "cell_type": "code",
   "execution_count": 45,
   "metadata": {
    "collapsed": true
   },
   "outputs": [],
   "source": [
    "import sympy as sp"
   ]
  },
  {
   "cell_type": "code",
   "execution_count": 46,
   "metadata": {},
   "outputs": [],
   "source": [
    "sp.init_printing()\n",
    "T1, T2, K, phi, dx, dy, dz, mi, gamma = sp.symbols(\"T1 T2 K phi dx dy dz mi gamma\")"
   ]
  },
  {
   "cell_type": "code",
   "execution_count": 47,
   "metadata": {},
   "outputs": [],
   "source": [
    "# DADOS DA QUESTAO\n",
    "DATA = {\n",
    "    \"T1\": 350,  # [ºC]\n",
    "    \"K\": 235,   # [W/mK]\n",
    "    \"T2\": 25,   # [ºC]\n",
    "    \"phi\": 154, # [W/m²K]\n",
    "    \"dx\": 1,    # [m]\n",
    "    \"dy\": 50e-3,# [m]\n",
    "    \"dz\": 5e-3  # [m]\n",
    "\n",
    "}\n",
    "DATA2 = {\n",
    "    \"T1\": 350,  # [ºC]\n",
    "    \"K\": 235,   # [W/mK]\n",
    "    \"T2\": 25,   # [ºC]\n",
    "    \"phi\": 154, # [W/m²K]\n",
    "    \"dx\": 1,    # [m]\n",
    "    \"dy\": 50e-3,# [m]\n",
    "    \"dz\": 5e-3  # [m]\n",
    "\n"
   ]
  },
  {
   "cell_type": "code",
   "execution_count": 48,
   "metadata": {},
   "outputs": [
    {
     "data": {
      "image/png": "[encoded data removed]",
      "text/latex": [
       "$\\displaystyle 1.4142135623731 \\left(\\frac{\\phi}{K dz}\\right)^{0.5}$"
      ],
      "text/plain": [
       "                      0.5\n",
       "                ⎛ φ  ⎞   \n",
       "1.4142135623731⋅⎜────⎟   \n",
       "                ⎝K⋅dz⎠   "
      ]
     },
     "execution_count": 48,
     "metadata": {},
     "output_type": "execute_result"
    }
   ],
   "source": [
    "m = (2 * phi / (K * dz)) ** (1/2)\n",
    "m"
   ]
  },
  {
   "cell_type": "code",
   "execution_count": 49,
   "metadata": {},
   "outputs": [
    {
     "name": "stdout",
     "output_type": "stream",
     "text": [
      "o valor de m é: 16.190 m⁻¹\n"
     ]
    }
   ],
   "source": [
    "print(\"o valor de m é: {:.3f} m⁻¹\".format(m.subs(DATA)))"
   ]
  },
  {
   "cell_type": "code",
   "execution_count": 50,
   "metadata": {},
   "outputs": [
    {
     "data": {
      "image/png": "[encoded data removed]",
      "text/latex": [
       "$\\displaystyle dy + \\frac{dz}{2}$"
      ],
      "text/plain": [
       "     dz\n",
       "dy + ──\n",
       "     2 "
      ]
     },
     "execution_count": 50,
     "metadata": {},
     "output_type": "execute_result"
    }
   ],
   "source": [
    "Lc = dy + dz / 2\n",
    "Lc"
   ]
  },
  {
   "cell_type": "code",
   "execution_count": 51,
   "metadata": {},
   "outputs": [
    {
     "name": "stdout",
     "output_type": "stream",
     "text": [
      "O comprimento da aleta é: 0.052 m\n"
     ]
    }
   ],
   "source": [
    "print(\"O comprimento da aleta é: {:.3f} m\".format(Lc.subs(DATA)))"
   ]
  },
  {
   "cell_type": "code",
   "execution_count": 52,
   "metadata": {},
   "outputs": [
    {
     "data": {
      "image/png": "[encoded data removed]",
      "text/latex": [
       "$\\displaystyle 2 dy + dz$"
      ],
      "text/plain": [
       "2⋅dy + dz"
      ]
     },
     "execution_count": 52,
     "metadata": {},
     "output_type": "execute_result"
    }
   ],
   "source": [
    "Delta_aleta = 2 * Lc\n",
    "Delta_aleta"
   ]
  },
  {
   "cell_type": "code",
   "execution_count": 53,
   "metadata": {},
   "outputs": [
    {
     "name": "stdout",
     "output_type": "stream",
     "text": [
      "A área da aleta é: 0.105 m².\n"
     ]
    }
   ],
   "source": [
    "print(\"A área da aleta é: {:.3f} m².\".format(Delta_aleta.subs(DATA)))"
   ]
  },
  {
   "cell_type": "code",
   "execution_count": 54,
   "metadata": {},
   "outputs": [
    {
     "data": {
      "image/png": "[encoded data removed]",
      "text/latex": [
       "$\\displaystyle \\frac{0.707106781186547 \\tanh{\\left(1.4142135623731 \\left(\\frac{\\phi}{K dz}\\right)^{0.5} \\left(dy + \\frac{dz}{2}\\right) \\right)}}{\\left(\\frac{\\phi}{K dz}\\right)^{0.5} \\left(dy + \\frac{dz}{2}\\right)}$"
      ],
      "text/plain": [
       "                        -0.5     ⎛                      0.5          ⎞\n",
       "                  ⎛ φ  ⎞         ⎜                ⎛ φ  ⎞    ⎛     dz⎞⎟\n",
       "0.707106781186547⋅⎜────⎟    ⋅tanh⎜1.4142135623731⋅⎜────⎟   ⋅⎜dy + ──⎟⎟\n",
       "                  ⎝K⋅dz⎠         ⎝                ⎝K⋅dz⎠    ⎝     2 ⎠⎠\n",
       "──────────────────────────────────────────────────────────────────────\n",
       "                                    dz                                \n",
       "                               dy + ──                                \n",
       "                                    2                                 "
      ]
     },
     "execution_count": 54,
     "metadata": {},
     "output_type": "execute_result"
    }
   ],
   "source": [
    "# Coeficiente de rendimento\n",
    "\n",
    "n = sp.tanh(m * Lc) / (m * Lc)\n",
    "n"
   ]
  },
  {
   "cell_type": "code",
   "execution_count": 55,
   "metadata": {},
   "outputs": [
    {
     "name": "stdout",
     "output_type": "stream",
     "text": [
      "O coeficiente de rendimento da aleta é: 0.813\n"
     ]
    }
   ],
   "source": [
    "print(\"O coeficiente de rendimento da aleta é: {:.3f}\".format(n.subs(DATA)))"
   ]
  },
  {
   "cell_type": "code",
   "execution_count": 56,
   "metadata": {},
   "outputs": [
    {
     "data": {
      "image/png": "[encoded data removed]",
      "text/latex": [
       "$\\displaystyle \\frac{0.707106781186547 \\phi \\left(T_{1} - T_{2}\\right) \\left(2 dy + dz\\right) \\tanh{\\left(1.4142135623731 \\left(\\frac{\\phi}{K dz}\\right)^{0.5} \\left(dy + \\frac{dz}{2}\\right) \\right)}}{\\left(\\frac{\\phi}{K dz}\\right)^{0.5} \\left(dy + \\frac{dz}{2}\\right)}$"
      ],
      "text/plain": [
       "                          -0.5                           ⎛                    \n",
       "                    ⎛ φ  ⎞                               ⎜                ⎛ φ \n",
       "0.707106781186547⋅φ⋅⎜────⎟    ⋅(T₁ - T₂)⋅(2⋅dy + dz)⋅tanh⎜1.4142135623731⋅⎜───\n",
       "                    ⎝K⋅dz⎠                               ⎝                ⎝K⋅d\n",
       "──────────────────────────────────────────────────────────────────────────────\n",
       "                                                dz                            \n",
       "                                           dy + ──                            \n",
       "                                                2                             \n",
       "\n",
       "  0.5          ⎞\n",
       " ⎞    ⎛     dz⎞⎟\n",
       "─⎟   ⋅⎜dy + ──⎟⎟\n",
       "z⎠    ⎝     2 ⎠⎠\n",
       "────────────────\n",
       "                \n",
       "                \n",
       "                "
      ]
     },
     "execution_count": 56,
     "metadata": {},
     "output_type": "execute_result"
    }
   ],
   "source": [
    "# Cálculo do coeficiente de calor\n",
    "\n",
    "Q = n * phi * Delta_aleta * (T1 - T2)\n",
    "Q"
   ]
  },
  {
   "cell_type": "code",
   "execution_count": 57,
   "metadata": {},
   "outputs": [
    {
     "name": "stdout",
     "output_type": "stream",
     "text": [
      "A potência transferida pela aleta é: 4272.650 W\n"
     ]
    }
   ],
   "source": [
    "print(\"A potência transferida pela aleta é: {:.3f} W\".format(Q.subs(DATA)))"
   ]
  },
  {
   "cell_type": "code",
   "execution_count": 57,
   "metadata": {},
   "outputs": [],
   "source": []
  }
 ],
 "metadata": {
  "kernelspec": {
   "display_name": "Python 3 (ipykernel)",
   "language": "python",
   "name": "python3"
  },
  "language_info": {
   "codemirror_mode": {
    "name": "ipython",
    "version": 3
   },
   "file_extension": ".py",
   "mimetype": "text/x-python",
   "name": "python",
   "nbconvert_exporter": "python",
   "pygments_lexer": "ipython3",
   "version": "3.10.8"
  }
 },
 "nbformat": 4,
 "nbformat_minor": 1
}
