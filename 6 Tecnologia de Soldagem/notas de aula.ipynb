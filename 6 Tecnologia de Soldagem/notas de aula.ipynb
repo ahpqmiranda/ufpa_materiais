{
 "cells": [
  {
   "cell_type": "markdown",
   "source": [
    "16/11/2023\n",
    "\n",
    "# solda por arame tubular \n",
    "\n",
    "1. utiliza os mesmos equipamentos da solda migs\n",
    "2. a diferença entre mig e arame tubular, é que o material de solda no arame tubular forma escória, que também serve para a proteção da solda\n",
    "3. o fluxo dos arames tem funções similares a aquelas dos eletrodos revestidos, desoxidando e transferindo material de liga ao metal de solda\n",
    "4. estabilização do arco voltaico e homogeinidade da solda\n",
    "\n",
    "## arame tubular autoprotegido\n",
    "\n",
    "\n",
    "notas:\n",
    "1. apenas a tig utiliza a polaridade no polo negativo, os demais métodos utilizam o polo positivo \n",
    "2. a solda com arame tubular depende \n",
    "\n",
    "1ava -5.5\n",
    "dia 21 tem aula\n",
    "dia 23, quinta feira, não tem aula\n",
    "dia 28 é a segunda avaliação\n",
    "\n",
    "depois, seminários\n",
    "\n",
    "escolher um tema de processos especiais de solda \n",
    "solda por atrito, solda por explosão, aluminotermia, etc..."
   ],
   "metadata": {
    "collapsed": false
   },
   "id": "a5b0438caa7ee33c"
  }
 ],
 "metadata": {
  "kernelspec": {
   "display_name": "Python 3",
   "language": "python",
   "name": "python3"
  },
  "language_info": {
   "codemirror_mode": {
    "name": "ipython",
    "version": 2
   },
   "file_extension": ".py",
   "mimetype": "text/x-python",
   "name": "python",
   "nbconvert_exporter": "python",
   "pygments_lexer": "ipython2",
   "version": "2.7.6"
  }
 },
 "nbformat": 4,
 "nbformat_minor": 5
}
