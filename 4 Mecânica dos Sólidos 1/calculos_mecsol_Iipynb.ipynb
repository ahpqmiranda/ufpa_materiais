{
  "nbformat": 4,
  "nbformat_minor": 0,
  "metadata": {
    "colab": {
      "provenance": []
    },
    "kernelspec": {
      "name": "python3",
      "display_name": "Python 3"
    },
    "language_info": {
      "name": "python"
    }
  },
  "cells": [
    {
      "cell_type": "code",
      "execution_count": null,
      "metadata": {
        "id": "iJZa9fzcZND-"
      },
      "outputs": [],
      "source": [
        "import numpy as np\n",
        "import pandas as pd\n",
        "import math as m\n",
        "import sympy as sp"
      ]
    },
    {
      "cell_type": "code",
      "source": [
        "sp.init_printing(\"mathjax\")\n",
        "pi, E, I, L, b, h, P, sigma_adm, Ix, Iy, M, y = sp.symbols('pi E I L b h P sigma_adm Ix Iy M y')"
      ],
      "metadata": {
        "id": "6HxoJJdTZT9x"
      },
      "execution_count": null,
      "outputs": []
    },
    {
      "cell_type": "code",
      "source": [
        "#questão 1\n",
        "dic = {\n",
        "\"L\": 10, #[m]\n",
        "\"E\": 200*10**9, #[Pa]\n",
        "\"sigma_e\": 250*10**6, #[Pa]\n",
        "\"Dext\": 100*10**-3, #[m]\n",
        "\"Dint\": 80*10**-3, #[m]\n",
        "\"I\": 5.796*10**-6, #[m^4]\n",
        "\"pi\": m.pi  #[pi = 3.1415...]\n",
        "}"
      ],
      "metadata": {
        "id": "mLo-fpiuZihY"
      },
      "execution_count": null,
      "outputs": []
    },
    {
      "cell_type": "code",
      "source": [
        "cr = pi ** 2 * E * I / L ** 2\n",
        "cr"
      ],
      "metadata": {
        "colab": {
          "base_uri": "https://localhost:8080/",
          "height": 54
        },
        "id": "hS72U024Z8xI",
        "outputId": "78ff157b-a67e-4174-b3e4-25fa435a8b27"
      },
      "execution_count": null,
      "outputs": [
        {
          "output_type": "execute_result",
          "data": {
            "text/plain": [
              "     2\n",
              "E⋅I⋅π \n",
              "──────\n",
              "   2  \n",
              "  L   "
            ],
            "image/png": "[encoded data removed]",
            "text/latex": "$\\displaystyle \\frac{E I \\pi^{2}}{L^{2}}$"
          },
          "metadata": {},
          "execution_count": 125
        }
      ]
    },
    {
      "cell_type": "code",
      "source": [
        "a = cr.subs(dic)"
      ],
      "metadata": {
        "id": "aiBJc0WAaER4"
      },
      "execution_count": null,
      "outputs": []
    },
    {
      "cell_type": "code",
      "source": [
        "print(\"o Valor de esforço limite é: {:.3e}\".format(a))"
      ],
      "metadata": {
        "colab": {
          "base_uri": "https://localhost:8080/"
        },
        "id": "Et6-YWHYR8hZ",
        "outputId": "a3ba8737-f4dd-4aa8-ef7d-24bb9b29b266"
      },
      "execution_count": null,
      "outputs": [
        {
          "output_type": "stream",
          "name": "stdout",
          "text": [
            "o Valor de esforço limite é: 1.144e+5\n"
          ]
        }
      ]
    },
    {
      "cell_type": "code",
      "source": [
        "dic2 = {\n",
        "    \"A\":0.12, #[m²]\n",
        "    \"Iy\": 36e-4, #[m4]\n",
        "    \"Le\": 5, #[m]\n",
        "    \"me\": 45e-2, #[m]\n",
        "    \"mr\": 17e-2, #[m]\n",
        "    \"mc\": 30e-2, #[m]\n",
        "    \"E\": 200e+9 #[Pa]\n",
        "}"
      ],
      "metadata": {
        "id": "Khkw7B3QSUqw"
      },
      "execution_count": null,
      "outputs": []
    },
    {
      "cell_type": "code",
      "source": [
        "P, A, Iy, Le, me, mr, mc = sp.symbols(\"P A Iy Le me mr mc\")"
      ],
      "metadata": {
        "id": "myHoqpGdgHj-"
      },
      "execution_count": null,
      "outputs": []
    },
    {
      "cell_type": "code",
      "source": [
        "sigma_max = P/A * (1 + (mr * mc)/ mr ** 2 * sp.sec(Le/(2 * mr) * (P / (A * E)** (1/2))))"
      ],
      "metadata": {
        "id": "9k9rG8tjguWd"
      },
      "execution_count": null,
      "outputs": []
    },
    {
      "cell_type": "code",
      "source": [
        "sigma_max.subs(dic2)"
      ],
      "metadata": {
        "colab": {
          "base_uri": "https://localhost:8080/",
          "height": 39
        },
        "id": "fdWhwMR0hKkG",
        "outputId": "580ab9ae-4a2d-41c6-954c-a33592382514"
      },
      "execution_count": null,
      "outputs": [
        {
          "output_type": "execute_result",
          "data": {
            "text/plain": [
              "8.33333333333333⋅P⋅(1.76470588235294⋅sec(9.49260624070445e-5⋅P) + 1)"
            ],
            "image/png": "[encoded data removed]",
            "text/latex": "$\\displaystyle 8.33333333333333 P \\left(1.76470588235294 \\sec{\\left(9.49260624070445 \\cdot 10^{-5} P \\right)} + 1\\right)$"
          },
          "metadata": {},
          "execution_count": 131
        }
      ]
    },
    {
      "cell_type": "code",
      "source": [
        "area = {\n",
        "    \"b\": 60e-2,\n",
        "    \"h\": 30e-2\n",
        "}"
      ],
      "metadata": {
        "id": "u-9NRj6Lhkmm"
      },
      "execution_count": null,
      "outputs": []
    },
    {
      "cell_type": "code",
      "source": [
        "ix = b * h ** 3 / 12\n",
        "iy = h * b ** 3 / 12"
      ],
      "metadata": {
        "id": "HPU8dmiCXQbL"
      },
      "execution_count": null,
      "outputs": []
    },
    {
      "cell_type": "code",
      "source": [
        "x = ix.subs(area)\n",
        "y = iy.subs(area)"
      ],
      "metadata": {
        "id": "PPv0WpyeX_eK"
      },
      "execution_count": null,
      "outputs": []
    },
    {
      "cell_type": "code",
      "source": [
        "Mx = (250e+3) * (15e-2) / x\n",
        "Mx"
      ],
      "metadata": {
        "colab": {
          "base_uri": "https://localhost:8080/",
          "height": 37
        },
        "id": "CJDbRkBFYRHw",
        "outputId": "25179584-306b-4691-ccc9-cab142e7a84c"
      },
      "execution_count": null,
      "outputs": [
        {
          "output_type": "execute_result",
          "data": {
            "text/plain": [
              "27777777.7777778"
            ],
            "image/png": "[encoded data removed]",
            "text/latex": "$\\displaystyle 27777777.7777778$"
          },
          "metadata": {},
          "execution_count": 135
        }
      ]
    },
    {
      "cell_type": "code",
      "source": [
        "My = (250e+3) * (30e-2) / y\n",
        "My"
      ],
      "metadata": {
        "colab": {
          "base_uri": "https://localhost:8080/",
          "height": 37
        },
        "id": "VuN7Vv27ZBby",
        "outputId": "c72343cd-5e60-4324-c9d2-f9fff0ef503b"
      },
      "execution_count": null,
      "outputs": [
        {
          "output_type": "execute_result",
          "data": {
            "text/plain": [
              "13888888.8888889"
            ],
            "image/png": "[encoded data removed]",
            "text/latex": "$\\displaystyle 13888888.8888889$"
          },
          "metadata": {},
          "execution_count": 136
        }
      ]
    },
    {
      "cell_type": "code",
      "source": [
        "tensao = Mx - My\n",
        "tensao"
      ],
      "metadata": {
        "colab": {
          "base_uri": "https://localhost:8080/",
          "height": 37
        },
        "id": "VFBPBzRVZJgk",
        "outputId": "20ba8e65-b173-4372-c2b6-f514f8f0e0a9"
      },
      "execution_count": null,
      "outputs": [
        {
          "output_type": "execute_result",
          "data": {
            "text/plain": [
              "13888888.8888889"
            ],
            "image/png": "[encoded data removed]",
            "text/latex": "$\\displaystyle 13888888.8888889$"
          },
          "metadata": {},
          "execution_count": 137
        }
      ]
    },
    {
      "cell_type": "code",
      "source": [
        "dados = {\n",
        "    \"E\": 200e+9,\n",
        "    \"A\": 127000e-6,\n",
        "    \"Iy\":113e-8,\n",
        "    \"Ix\":36.6e-8,\n",
        "    \"L\":3,\n",
        "    \"sigma_adm\": 250e+6,\n",
        "    \"pi\": m.pi\n",
        "}"
      ],
      "metadata": {
        "id": "U5otu6dFbRNf"
      },
      "execution_count": null,
      "outputs": []
    },
    {
      "cell_type": "code",
      "source": [
        "icr = (pi ** 2) * E * (Ix +Iy) / (A * sigma_adm)"
      ],
      "metadata": {
        "id": "KqFQEbK_didG"
      },
      "execution_count": null,
      "outputs": []
    },
    {
      "cell_type": "code",
      "source": [
        "Icr = icr.subs(dados)"
      ],
      "metadata": {
        "id": "8LcW0tjt4iS_"
      },
      "execution_count": null,
      "outputs": []
    },
    {
      "cell_type": "code",
      "source": [
        "dados[\"Icr\"] = Icr"
      ],
      "metadata": {
        "id": "uoUl4Ft26L4_"
      },
      "execution_count": null,
      "outputs": []
    },
    {
      "cell_type": "code",
      "source": [
        "Fr = 4 * (pi ** 2) * E * (Ix) / L\n",
        "Fr"
      ],
      "metadata": {
        "colab": {
          "base_uri": "https://localhost:8080/",
          "height": 54
        },
        "id": "bFgkNcRF7FgY",
        "outputId": "74779668-9caa-4fdd-da67-d48d0867a70b"
      },
      "execution_count": null,
      "outputs": [
        {
          "output_type": "execute_result",
          "data": {
            "text/plain": [
              "        2\n",
              "4⋅E⋅Ix⋅π \n",
              "─────────\n",
              "    L    "
            ],
            "image/png": "[encoded data removed]",
            "text/latex": "$\\displaystyle \\frac{4 E Ix \\pi^{2}}{L}$"
          },
          "metadata": {},
          "execution_count": 142
        }
      ]
    },
    {
      "cell_type": "code",
      "source": [
        "Fr.subs(dados)"
      ],
      "metadata": {
        "colab": {
          "base_uri": "https://localhost:8080/",
          "height": 37
        },
        "id": "ZOjM3Yu87HJM",
        "outputId": "cdcacce1-5581-4ab4-c9de-21987d5744b6"
      },
      "execution_count": null,
      "outputs": [
        {
          "output_type": "execute_result",
          "data": {
            "text/plain": [
              "963273.389546321"
            ],
            "image/png": "[encoded data removed]",
            "text/latex": "$\\displaystyle 963273.389546321$"
          },
          "metadata": {},
          "execution_count": 143
        }
      ]
    },
    {
      "cell_type": "code",
      "source": [
        "sigma = M * y / I"
      ],
      "metadata": {
        "id": "JKYAp0WV7g4H"
      },
      "execution_count": null,
      "outputs": []
    },
    {
      "cell_type": "code",
      "source": [
        "DATA2 = {\n",
        "    \"I\": 7189.3e-8, #[m^4]\n",
        "    \"A\": 112e-4, #[m²]\n",
        "    \"F\":40e+3,    #[N]\n",
        "    \"M\":-30e+3,   #[Nm]\n",
        "    \"y\":17e-2     #[m]\n",
        "}"
      ],
      "metadata": {
        "id": "WGiPnrgvU2t3"
      },
      "execution_count": null,
      "outputs": []
    },
    {
      "cell_type": "code",
      "source": [
        "momento = sigma.subs(DATA2)\n",
        "compressao = DATA2.get(\"F\") / DATA2.get(\"A\")"
      ],
      "metadata": {
        "id": "xM9BN4rOWpLS"
      },
      "execution_count": null,
      "outputs": []
    },
    {
      "cell_type": "code",
      "source": [
        "momento + compressao, compressao - momento"
      ],
      "metadata": {
        "colab": {
          "base_uri": "https://localhost:8080/",
          "height": 37
        },
        "id": "YAxY4ix0WrrY",
        "outputId": "75b85e23-0206-4523-915d-6267d02c5fd1"
      },
      "execution_count": null,
      "outputs": [
        {
          "output_type": "execute_result",
          "data": {
            "text/plain": [
              "(1318079.84484879, 5824777.29800835)"
            ],
            "image/png": "[encoded data removed]",
            "text/latex": "$\\displaystyle \\left( 1318079.84484879, \\  5824777.29800835\\right)$"
          },
          "metadata": {},
          "execution_count": 151
        }
      ]
    },
    {
      "cell_type": "code",
      "source": [],
      "metadata": {
        "id": "2Rd8VV0qXGgw"
      },
      "execution_count": null,
      "outputs": []
    }
  ]
}