{
 "cells": [
  {
   "cell_type": "code",
   "execution_count": 99,
   "metadata": {
    "collapsed": true
   },
   "outputs": [],
   "source": [
    "import sympy as sp\n",
    "import numpy as np\n",
    "import math as m\n",
    "#declarando variáveis\n",
    "sp.init_printing()\n",
    "J, pi, c1, c2, c3, rho, T, A, L, G, E, F = sp.symbols(\"J pi c1 c2 c3 rho T A L G E F\")"
   ]
  },
  {
   "cell_type": "markdown",
   "source": [
    "### observações\n",
    "\n",
    "1. Materiais frágeis falham por máxima tensão normal\n",
    "2. Materiais dúcteis falham por máxima tensão de cisalhamento (rompe a 45º ao plano de tensão normal)\n",
    "\n",
    "3. vetor momento perpendicular ao eixo, este gera flexão\n",
    "4. vetor momento é coaxial ao eixo, este gera torque\n",
    "\n",
    "5. o equilibrio do sistema é dado pelos esforços internos da peça"
   ],
   "metadata": {
    "collapsed": false
   }
  },
  {
   "cell_type": "markdown",
   "source": [
    "### momento polar de inércia para o círculo:"
   ],
   "metadata": {
    "collapsed": false
   }
  },
  {
   "cell_type": "code",
   "execution_count": 100,
   "outputs": [
    {
     "data": {
      "text/plain": "  4  \nc₁ ⋅π\n─────\n  2  ",
      "image/png": "[encoded data removed]",
      "text/latex": "$\\displaystyle \\frac{c_{1}^{4} \\pi}{2}$"
     },
     "execution_count": 100,
     "metadata": {},
     "output_type": "execute_result"
    }
   ],
   "source": [
    "J = pi * c1 ** 4 / 2\n",
    "J"
   ],
   "metadata": {
    "collapsed": false
   }
  },
  {
   "cell_type": "markdown",
   "source": [
    "### momento polar de inércia para seção circular:"
   ],
   "metadata": {
    "collapsed": false
   }
  },
  {
   "cell_type": "code",
   "execution_count": 101,
   "outputs": [
    {
     "data": {
      "text/plain": "  ⎛  4     4⎞\nπ⋅⎝c₁  - c₂ ⎠\n─────────────\n      2      ",
      "image/png": "[encoded data removed]",
      "text/latex": "$\\displaystyle \\frac{\\pi \\left(c_{1}^{4} - c_{2}^{4}\\right)}{2}$"
     },
     "execution_count": 101,
     "metadata": {},
     "output_type": "execute_result"
    }
   ],
   "source": [
    "J2 = pi/2 *(c1 ** 4 - c2 ** 4)\n",
    "J2"
   ],
   "metadata": {
    "collapsed": false
   }
  },
  {
   "cell_type": "markdown",
   "source": [
    "### tensão máxima e mínima para seção circular"
   ],
   "metadata": {
    "collapsed": false
   }
  },
  {
   "cell_type": "code",
   "execution_count": 102,
   "outputs": [
    {
     "data": {
      "text/plain": "    2⋅T⋅c₁   \n─────────────\n  ⎛  4     4⎞\nπ⋅⎝c₁  - c₂ ⎠",
      "image/png": "[encoded data removed]",
      "text/latex": "$\\displaystyle \\frac{2 T c_{1}}{\\pi \\left(c_{1}^{4} - c_{2}^{4}\\right)}$"
     },
     "execution_count": 102,
     "metadata": {},
     "output_type": "execute_result"
    }
   ],
   "source": [
    "tau_maximo = T * c1 / J2\n",
    "tau_maximo"
   ],
   "metadata": {
    "collapsed": false
   }
  },
  {
   "cell_type": "code",
   "execution_count": 103,
   "outputs": [
    {
     "data": {
      "text/plain": "    2⋅T⋅c₂   \n─────────────\n  ⎛  4     4⎞\nπ⋅⎝c₁  - c₂ ⎠",
      "image/png": "[encoded data removed]",
      "text/latex": "$\\displaystyle \\frac{2 T c_{2}}{\\pi \\left(c_{1}^{4} - c_{2}^{4}\\right)}$"
     },
     "execution_count": 103,
     "metadata": {},
     "output_type": "execute_result"
    }
   ],
   "source": [
    "tau_minimo = T * c2 /J2\n",
    "tau_minimo"
   ],
   "metadata": {
    "collapsed": false
   }
  },
  {
   "cell_type": "code",
   "execution_count": 103,
   "outputs": [],
   "source": [],
   "metadata": {
    "collapsed": false
   }
  },
  {
   "cell_type": "markdown",
   "source": [
    "### tensões normais em torção\n",
    "1. barras submetidas a apenas torque, possuem um estado de cisalhamento puro"
   ],
   "metadata": {
    "collapsed": false
   }
  },
  {
   "cell_type": "markdown",
   "source": [
    "### ângulo de torção:"
   ],
   "metadata": {
    "collapsed": false
   }
  },
  {
   "cell_type": "code",
   "execution_count": 104,
   "outputs": [
    {
     "data": {
      "text/plain": " 2⋅L⋅T \n───────\n    4  \nG⋅c₁ ⋅π",
      "image/png": "[encoded data removed]",
      "text/latex": "$\\displaystyle \\frac{2 L T}{G c_{1}^{4} \\pi}$"
     },
     "execution_count": 104,
     "metadata": {},
     "output_type": "execute_result"
    }
   ],
   "source": [
    "theta = T * L / (G * J)\n",
    "theta"
   ],
   "metadata": {
    "collapsed": false
   }
  },
  {
   "cell_type": "markdown",
   "source": [
    "# deformação gerada em uma viga por carregamento coaxial"
   ],
   "metadata": {
    "collapsed": false
   }
  },
  {
   "cell_type": "code",
   "execution_count": 105,
   "outputs": [
    {
     "data": {
      "text/plain": "F⋅L\n───\nA⋅E",
      "image/png": "[encoded data removed]",
      "text/latex": "$\\displaystyle \\frac{F L}{A E}$"
     },
     "execution_count": 105,
     "metadata": {},
     "output_type": "execute_result"
    }
   ],
   "source": [
    "delta = F * L / (E * A)\n",
    "delta"
   ],
   "metadata": {
    "collapsed": false
   }
  },
  {
   "cell_type": "code",
   "execution_count": 106,
   "outputs": [],
   "source": [
    "deformacao = {\n",
    "    \"F\": 215.09e+3,\n",
    "    \"L\": 4.71,\n",
    "    \"A\": 2400e-6,\n",
    "    \"E\": 200e+9\n",
    "}"
   ],
   "metadata": {
    "collapsed": false
   }
  },
  {
   "cell_type": "code",
   "execution_count": 107,
   "outputs": [
    {
     "data": {
      "text/plain": "0.00211057062500000",
      "image/png": "[encoded data removed]",
      "text/latex": "$\\displaystyle 0.002110570625$"
     },
     "execution_count": 107,
     "metadata": {},
     "output_type": "execute_result"
    }
   ],
   "source": [
    "delta.subs(deformacao)"
   ],
   "metadata": {
    "collapsed": false
   }
  },
  {
   "cell_type": "code",
   "execution_count": 108,
   "outputs": [],
   "source": [
    "deformacao = {\n",
    "    \"F\": 182.4e+3,\n",
    "    \"L\": 4,\n",
    "    \"A\": 1800e-6,\n",
    "    \"E\": 200e+9\n",
    "}"
   ],
   "metadata": {
    "collapsed": false
   }
  },
  {
   "cell_type": "code",
   "execution_count": 109,
   "outputs": [
    {
     "data": {
      "text/plain": "0.00202666666666667",
      "image/png": "[encoded data removed]",
      "text/latex": "$\\displaystyle 0.00202666666666667$"
     },
     "execution_count": 109,
     "metadata": {},
     "output_type": "execute_result"
    }
   ],
   "source": [
    "delta.subs(deformacao)"
   ],
   "metadata": {
    "collapsed": false
   }
  },
  {
   "cell_type": "code",
   "execution_count": 109,
   "outputs": [],
   "source": [],
   "metadata": {
    "collapsed": false
   }
  }
 ],
 "metadata": {
  "kernelspec": {
   "display_name": "Python 3",
   "language": "python",
   "name": "python3"
  },
  "language_info": {
   "codemirror_mode": {
    "name": "ipython",
    "version": 2
   },
   "file_extension": ".py",
   "mimetype": "text/x-python",
   "name": "python",
   "nbconvert_exporter": "python",
   "pygments_lexer": "ipython2",
   "version": "2.7.6"
  }
 },
 "nbformat": 4,
 "nbformat_minor": 0
}
