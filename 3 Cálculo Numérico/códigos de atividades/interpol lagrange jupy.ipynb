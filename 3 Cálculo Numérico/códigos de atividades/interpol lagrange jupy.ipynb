{
 "cells": [
  {
   "cell_type": "code",
   "execution_count": null,
   "outputs": [],
   "source": [
    "import sympy as sy"
   ],
   "metadata": {
    "collapsed": false,
    "pycharm": {
     "name": "#%%\n"
    }
   }
  },
  {
   "cell_type": "code",
   "execution_count": null,
   "outputs": [],
   "source": [
    "x = sy.Symbol('x')\n",
    "sy.init_printing()"
   ],
   "metadata": {
    "collapsed": false,
    "pycharm": {
     "name": "#%%\n"
    }
   }
  },
  {
   "cell_type": "code",
   "execution_count": null,
   "outputs": [],
   "source": [
    "def interpol_lagrange(z, xn, lista_x, lista_y):\n",
    "    \"\"\"\n",
    "    Função que calcula a interpolação de Lagrange para um polinômio de grau m.\n",
    "    \"\"\"\n",
    "    # Calcula o polinômio de Lagrange\n",
    "    f = xn + z\n",
    "    n = xn\n",
    "    p = 0\n",
    "    for j in range(n, f):\n",
    "        interpol_L = 1\n",
    "        for i in range(0, z):\n",
    "            if xn != i:\n",
    "                interpol_L = interpol_L * ((x - lista_x[i]) / (lista_x[xn] - lista_x[i]))\n",
    "        p += (interpol_L * (lista_y[j]))\n",
    "        xn = xn + 1\n",
    "    print(p)\n",
    "\n",
    "    return p\n",
    "\n",
    "\n",
    "X = [0, 0.5, 1, 1.5, 2, 2.5, 3]\n",
    "Y = [1.8421, 2.4694, 2.4921, 1.9047, 0.8509, -0.4112, -1.5727]\n",
    "print(sy.expand(interpol_lagrange(3, 0, X, Y)))\n"
   ],
   "metadata": {
    "collapsed": false,
    "pycharm": {
     "name": "#%%\n"
    }
   }
  }
 ],
 "metadata": {
  "kernelspec": {
   "display_name": "Python 3",
   "language": "python",
   "name": "python3"
  },
  "language_info": {
   "codemirror_mode": {
    "name": "ipython",
    "version": 2
   },
   "file_extension": ".py",
   "mimetype": "text/x-python",
   "name": "python",
   "nbconvert_exporter": "python",
   "pygments_lexer": "ipython2",
   "version": "2.7.6"
  }
 },
 "nbformat": 4,
 "nbformat_minor": 0
}