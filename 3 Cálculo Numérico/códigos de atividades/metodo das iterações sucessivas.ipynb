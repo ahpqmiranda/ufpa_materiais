{
 "cells": [
  {
   "cell_type": "markdown",
   "metadata": {
    "collapsed": true,
    "pycharm": {
     "name": "#%% md\n"
    }
   },
   "source": [
    "# METODO DAS BISSECÇÕES\n",
    "***\n",
    "\n",
    "dada uma função f(x), o zero da função pode ser determinado pelo algoritmo:\n",
    "\n",
    "seja um [a,b] um intervalo pertencente ao dominio de fx\n",
    "a partir do teorema de bolzano:\n",
    "* c = f(a)*f(b)\n",
    "temos:\n",
    "\n",
    "se c < 0, há um zero da função no intervalo\n",
    "se c = 0, ou f(a) ou f(b) é um zero da função\n",
    "se c > 0, nada podemos afirmar\n",
    "\n",
    "**Cálculo do erro absoluto**\n",
    "erroABS = | x - x'| onde x é o numero real e x' é sua aproximação\n",
    "\n",
    "**Cálculo do erro relativo**\n",
    "\n",
    "erroREL = | x - x'| / |x| onde x =/= 0\n"
   ]
  },
  {
   "cell_type": "markdown",
   "source": [
    "**Declaração das bibliotecas utilizadas**\n",
    "biblioteca ```math``` para a utilização das funções:\n",
    " * raiz\n",
    " * potência\n",
    " * PI\n",
    " * conversões de ângulos em radianos para graus e vice-versa\n",
    "\n",
    "biblioteca ```numpy``` chamada no código como ```np```, voltada para manipulação de matrizes e vetores, e assim, permitir a utilização de recursos de álgebra linear"
   ],
   "metadata": {
    "collapsed": false,
    "pycharm": {
     "name": "#%% md\n"
    }
   }
  },
  {
   "cell_type": "code",
   "execution_count": 78,
   "outputs": [],
   "source": [
    "import math\n",
    "\n",
    "import numpy as np"
   ],
   "metadata": {
    "collapsed": false,
    "pycharm": {
     "name": "#%%\n"
    }
   }
  },
  {
   "cell_type": "markdown",
   "source": [
    "**Função de análise**\n",
    "trata-se da função em questão f(x) = e^x -x -2 em que buscamos o zero"
   ],
   "metadata": {
    "collapsed": false,
    "pycharm": {
     "name": "#%% md\n"
    }
   }
  },
  {
   "cell_type": "code",
   "execution_count": 79,
   "outputs": [],
   "source": [
    "def f(x):\n",
    "    return np.exp(x) - x - 2"
   ],
   "metadata": {
    "collapsed": false,
    "pycharm": {
     "name": "#%%\n"
    }
   }
  },
  {
   "cell_type": "markdown",
   "source": [
    "**Função Erro Relativo**\n",
    "Quociente do valor real de x e o valor aproximado de x em porcentos."
   ],
   "metadata": {
    "collapsed": false,
    "pycharm": {
     "name": "#%% md\n"
    }
   }
  },
  {
   "cell_type": "code",
   "execution_count": 80,
   "outputs": [],
   "source": [
    "def erro_relativo(m, n):\n",
    "    erro = math.sqrt(math.pow(m-n,2) / math.sqrt(pow(m,2))) * 100\n",
    "    return erro"
   ],
   "metadata": {
    "collapsed": false,
    "pycharm": {
     "name": "#%%\n"
    }
   }
  },
  {
   "cell_type": "markdown",
   "source": [
    "**Método da bisscação**\n",
    "a função 'bissec' no código a seguir é a struct que retorna o método das bissecções, onde:\n",
    "* a: é o limite inferior do intervalo de análise\n",
    "* b: é o limite superior do intervalo de análise\n",
    "* tolerância: é a ordem de magnitude do erro, ex: uma tolerância de -3, para o código, equivale a 0.001. tolerância -5, equivale a 0.00001.\n",
    "* n: é o número de iterações máximas que a função irá rodar.\n",
    "\n",
    "A função 'bissec' tem duas formas de truncamento, sendo elas:\n",
    "* 1ª: o erro de x aproximado ser inferior a tolerância especificada.\n",
    "* 2ª: o número de iterações atingir o seu máximo."
   ],
   "metadata": {
    "collapsed": false,
    "pycharm": {
     "name": "#%% md\n"
    }
   }
  },
  {
   "cell_type": "code",
   "execution_count": 81,
   "outputs": [],
   "source": [
    "def bissec(a, b, tolerancia, n):\n",
    "    i = 1\n",
    "    fa = f(a)\n",
    "    limite = math.pow(10,tolerancia)\n",
    "    while i <= n:\n",
    "        criteria = (b - a) / 2\n",
    "        s = a + criteria\n",
    "        fp = f(s)\n",
    "        if fp == 0 or criteria < limite:\n",
    "            return s, print('parada por limite de erro')\n",
    "        i = i + 1\n",
    "        teste_bolzano = fa * fp > 0\n",
    "        texto =' {} | {:5f} | {:5f} | {:5f} | {:5f} | {:5f}\\n'.format(i-1, a, b, s, fp, fa * fp, erro_relativo(a, s))\n",
    "        print(texto)\n",
    "        if teste_bolzano is True:\n",
    "            a = s\n",
    "            fa = fp\n",
    "        else:\n",
    "            b = s\n"
   ],
   "metadata": {
    "collapsed": false,
    "pycharm": {
     "name": "#%%\n"
    }
   }
  },
  {
   "cell_type": "markdown",
   "source": [
    "**Aquisição de dados do usuário**\n",
    "o bloco a seguir recebe informações sobre o intervalo de análise, a tolerância e o número máximo de iterações."
   ],
   "metadata": {
    "collapsed": false,
    "pycharm": {
     "name": "#%% md\n"
    }
   }
  },
  {
   "cell_type": "code",
   "execution_count": 82,
   "outputs": [],
   "source": [
    "p = float(input('digite o limite inferior:\\n'))\n",
    "q = float(input('digite o limite superior:\\n'))\n",
    "r = float(input('digite a ordem da tolerancia:\\n'))\n",
    "N = int(input('digite o numero maximo de iteracoes:\\n'))"
   ],
   "metadata": {
    "collapsed": false,
    "pycharm": {
     "name": "#%%\n"
    }
   }
  },
  {
   "cell_type": "markdown",
   "source": [
    "**Aplicação da função**\n",
    "a função 'bissec' aplicada com os dados fornecidos pelo usuário."
   ],
   "metadata": {
    "collapsed": false,
    "pycharm": {
     "name": "#%% md\n"
    }
   }
  },
  {
   "cell_type": "code",
   "execution_count": 83,
   "outputs": [
    {
     "name": "stdout",
     "output_type": "stream",
     "text": [
      " 1 | 1.000000 | 2.000000 | 1.500000 | 0.981689 | -0.276560\n",
      "\n",
      " 2 | 1.000000 | 1.500000 | 1.250000 | 0.240343 | -0.067709\n",
      "\n",
      " 3 | 1.000000 | 1.250000 | 1.125000 | -0.044783 | 0.012616\n",
      "\n",
      " 4 | 1.000000 | 1.125000 | 1.062500 | -0.168904 | 0.047583\n",
      "\n",
      " 5 | 1.000000 | 1.062500 | 1.031250 | -0.226681 | 0.063860\n",
      "\n",
      " 6 | 1.000000 | 1.031250 | 1.015625 | -0.254536 | 0.071708\n",
      "\n",
      " 7 | 1.000000 | 1.015625 | 1.007812 | -0.268211 | 0.075560\n",
      "\n",
      " 8 | 1.000000 | 1.007812 | 1.003906 | -0.274985 | 0.077468\n",
      "\n",
      " 9 | 1.000000 | 1.003906 | 1.001953 | -0.278357 | 0.078418\n",
      "\n",
      "parada por limite de erro\n"
     ]
    },
    {
     "data": {
      "text/plain": "(1.0009765625, None)"
     },
     "execution_count": 83,
     "metadata": {},
     "output_type": "execute_result"
    }
   ],
   "source": [
    "bissec(p,q,r,N)"
   ],
   "metadata": {
    "collapsed": false,
    "pycharm": {
     "name": "#%%\n"
    }
   }
  }
 ],
 "metadata": {
  "kernelspec": {
   "display_name": "Python 3",
   "language": "python",
   "name": "python3"
  },
  "language_info": {
   "codemirror_mode": {
    "name": "ipython",
    "version": 2
   },
   "file_extension": ".py",
   "mimetype": "text/x-python",
   "name": "python",
   "nbconvert_exporter": "python",
   "pygments_lexer": "ipython2",
   "version": "2.7.6"
  }
 },
 "nbformat": 4,
 "nbformat_minor": 0
}