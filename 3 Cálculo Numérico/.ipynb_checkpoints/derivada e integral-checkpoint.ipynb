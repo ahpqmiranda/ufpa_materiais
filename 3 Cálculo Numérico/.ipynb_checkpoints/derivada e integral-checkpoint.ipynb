{
 "cells": [
  {
   "cell_type": "markdown",
   "metadata": {
    "collapsed": true,
    "pycharm": {
     "name": "#%% md\n"
    }
   },
   "source": [
    "# Cálculo de Derivadas e Integrais com a biblioteca Sympy\n",
    "\n",
    "supondo uma função:&nbsp;\n",
    "```f(x) = cos(x)```&nbsp;\n",
    "a integral de f(x) sera:&nbsp;\n",
    "```sin(x) + C```&nbsp;\n",
    "Caso queiramos saber a área por baixo da curva de f(x) = cos (x);&nbsp;\n",
    "Determinamos entre os pontos de abcissas x = 0 e x = pi/2,&nbsp;\n",
    "basta calcularmos a Integral Definida considerando estes intervalos, que sera:&nbsp;\n",
    "```sin(PI/2) - sin(0) = 1```&nbsp;\n",
    "\n",
    "Realizando este processo em python, temos:&nbsp;"
   ]
  },
  {
   "cell_type": "code",
   "execution_count": 1,
   "metadata": {
    "pycharm": {
     "name": "#%%\n"
    }
   },
   "outputs": [],
   "source": [
    "import sympy as sp\n",
    "import math"
   ]
  },
  {
   "cell_type": "code",
   "execution_count": 2,
   "metadata": {
    "pycharm": {
     "name": "#%%\n"
    }
   },
   "outputs": [
    {
     "name": "stdout",
     "output_type": "stream",
     "text": [
      "a derivada da função f(x) = x^5 é 5*x**4\n"
     ]
    }
   ],
   "source": [
    "def main():\n",
    "    x = sp.symbols('x')\n",
    "    f = x ** 5\n",
    "    derivada = sp.diff(f, x)\n",
    "    texto = 'a derivada da função f(x) = x^5 é {}'.format(derivada)\n",
    "    print(texto)\n",
    "    return\n",
    "\n",
    "if __name__ == \"__main__\":\n",
    "    main()\n"
   ]
  }
 ],
 "metadata": {
  "kernelspec": {
   "display_name": "Python 3 (ipykernel)",
   "language": "python",
   "name": "python3"
  },
  "language_info": {
   "codemirror_mode": {
    "name": "ipython",
    "version": 3
   },
   "file_extension": ".py",
   "mimetype": "text/x-python",
   "name": "python",
   "nbconvert_exporter": "python",
   "pygments_lexer": "ipython3",
   "version": "3.9.11"
  }
 },
 "nbformat": 4,
 "nbformat_minor": 1
}
