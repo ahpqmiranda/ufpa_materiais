{
  "nbformat": 4,
  "nbformat_minor": 0,
  "metadata": {
    "colab": {
      "provenance": []
    },
    "kernelspec": {
      "name": "python3",
      "display_name": "Python 3"
    },
    "language_info": {
      "name": "python"
    }
  },
  "cells": [
    {
      "cell_type": "code",
      "execution_count": 1,
      "metadata": {
        "id": "4oRaSgO7RqkW"
      },
      "outputs": [],
      "source": [
        "import sympy as sy\n",
        "import numpy as np\n",
        "import pandas as pd"
      ]
    },
    {
      "cell_type": "markdown",
      "source": [
        "Alan Henrique Pereira Miranda 202102140072"
      ],
      "metadata": {
        "id": "EqjVJDF9msd9"
      }
    },
    {
      "cell_type": "markdown",
      "source": [
        "# Questão 1"
      ],
      "metadata": {
        "id": "63t_HRjfi2nO"
      }
    },
    {
      "cell_type": "code",
      "source": [
        "x, y, c = sy.symbols('x y c')\n",
        "sy.init_printing()"
      ],
      "metadata": {
        "id": "XeRDqrCZTRlX"
      },
      "execution_count": 2,
      "outputs": []
    },
    {
      "cell_type": "markdown",
      "source": [
        "função interpoladora de lagrange"
      ],
      "metadata": {
        "id": "0nAoqmTui6Ad"
      }
    },
    {
      "cell_type": "code",
      "source": [
        "def interpol_lagrange(z, xn, lista_x, lista_y):\n",
        "    \"\"\"\n",
        "    Função que calcula a interpolação de Lagrange para um polinômio de grau m.\n",
        "    \"\"\"\n",
        "    # Calcula o polinômio de Lagrange\n",
        "    f = xn + z\n",
        "    n = xn\n",
        "    p = 0\n",
        "    for j in range(n, f):\n",
        "        interpol_L = 1\n",
        "        for i in range(0, z):\n",
        "            if xn != i:\n",
        "                interpol_L = interpol_L * ((x - lista_x[i]) / (lista_x[xn] - lista_x[i]))\n",
        "        p += (interpol_L * (lista_y[j]))\n",
        "        xn = xn + 1\n",
        "    print(p)\n",
        "\n",
        "    return p"
      ],
      "metadata": {
        "id": "I5FV8LtTRyZn"
      },
      "execution_count": 3,
      "outputs": []
    },
    {
      "cell_type": "markdown",
      "source": [
        "entrada dos dados da função g(x) da questão 1"
      ],
      "metadata": {
        "id": "Q9qLStQOi-g1"
      }
    },
    {
      "cell_type": "code",
      "source": [
        "X = [-4, -2, 0, 2]\n",
        "Y = [-2, -3, -2, 1]\n",
        "sy.expand(interpol_lagrange(3, 0, X, Y))\n"
      ],
      "metadata": {
        "colab": {
          "base_uri": "https://localhost:8080/",
          "height": 71
        },
        "id": "Re2mAnMWV97_",
        "outputId": "3f40afeb-c8e9-4045-f303-8dea38218a4a"
      },
      "execution_count": 4,
      "outputs": [
        {
          "output_type": "stream",
          "name": "stdout",
          "text": [
            "x*(-x/2 - 1)/2 + 3*x*(x/2 + 2)/2 - 2*(x/4 + 1)*(x/2 + 1)\n"
          ]
        },
        {
          "output_type": "execute_result",
          "data": {
            "text/plain": [
              " 2        \n",
              "x         \n",
              "── + x - 2\n",
              "4         "
            ],
            "image/png": "[encoded data removed]",
            "text/latex": "$\\displaystyle \\frac{x^{2}}{4} + x - 2$"
          },
          "metadata": {},
          "execution_count": 4
        }
      ]
    },
    {
      "cell_type": "markdown",
      "source": [
        "função circulo"
      ],
      "metadata": {
        "id": "wjwNfKH0i9q1"
      }
    },
    {
      "cell_type": "code",
      "source": [
        "def circulo(x):\n",
        "  return (x+2)**2 + (y+2)**2 -4"
      ],
      "metadata": {
        "id": "haqo5NK3UA_e"
      },
      "execution_count": 5,
      "outputs": []
    },
    {
      "cell_type": "markdown",
      "source": [
        "Função de integração numérica por método trapezoidal:"
      ],
      "metadata": {
        "id": "PHg2vzQ7jId1"
      }
    },
    {
      "cell_type": "code",
      "source": [
        "def integral_trapezoidal(f, a, b, n):\n",
        "    \"\"\"\n",
        "    Integração numérica por trapézios.\n",
        "    n é o número de subintervalos\n",
        "    a é o limite inferior\n",
        "    b é o limite superior\n",
        "    f é a função a ser integrada\n",
        "    \"\"\"\n",
        "    h = (b - a) / n\n",
        "    sum = 0\n",
        "    for i in range(1, n):\n",
        "        sum += f(a + i * h)\n",
        "    return (h / 2) * (f(a) + 2 * sum + f(b))\n",
        "\n",
        "\n",
        "def error_trapezoidal(f, a, b, n):\n",
        "    \"\"\"\n",
        "    Calcula o erro do método de trapézios.\n",
        "    \"\"\"\n",
        "    return abs(integral_trapezoidal(f, a, b, n) - integral_trapezoidal(f, a, b, 2 * n))"
      ],
      "metadata": {
        "id": "Qk6avM0MX-2u"
      },
      "execution_count": 6,
      "outputs": []
    },
    {
      "cell_type": "markdown",
      "source": [
        "a função gerada pelo método de interpolação de lagrange"
      ],
      "metadata": {
        "id": "PVtEkJlMjO6V"
      }
    },
    {
      "cell_type": "code",
      "source": [
        "def g(x):\n",
        "  return x*(-x/2 - 1)/2 + 3*x*(x/2 + 2)/2 - 2*(x/4 + 1)*(x/2 + 1)"
      ],
      "metadata": {
        "id": "9FWDTc1WbMQl"
      },
      "execution_count": 7,
      "outputs": []
    },
    {
      "cell_type": "code",
      "source": [
        "print('valor da área: {:.4f}'.format(integral_trapezoidal(g, -4, 2, 6))) # integral da função g no intervalo [-4, 2] com 6 pontos no intervalo"
      ],
      "metadata": {
        "colab": {
          "base_uri": "https://localhost:8080/"
        },
        "id": "ICLhOdIobhfs",
        "outputId": "f53a592b-7a1e-449b-f9dd-2c6400d6f0e8"
      },
      "execution_count": 8,
      "outputs": [
        {
          "output_type": "stream",
          "name": "stdout",
          "text": [
            "valor da área: -11.7500\n"
          ]
        }
      ]
    },
    {
      "cell_type": "code",
      "source": [
        "integral_trapezoidal(circulo, -4, 2, 10) # integral do circulo "
      ],
      "metadata": {
        "colab": {
          "base_uri": "https://localhost:8080/",
          "height": 39
        },
        "id": "bjxs6Dchcna8",
        "outputId": "723e2dad-91ef-42c2-f026-ca1b5bba8cfb"
      },
      "execution_count": 9,
      "outputs": [
        {
          "output_type": "execute_result",
          "data": {
            "text/plain": [
              "           2                    \n",
              "6.0⋅(y + 2)  + 0.359999999999998"
            ],
            "image/png": "[encoded data removed]",
            "text/latex": "$\\displaystyle 6.0 \\left(y + 2\\right)^{2} + 0.359999999999998$"
          },
          "metadata": {},
          "execution_count": 9
        }
      ]
    },
    {
      "cell_type": "code",
      "source": [],
      "metadata": {
        "id": "HHPcbiIvc5Kt"
      },
      "execution_count": 9,
      "outputs": []
    },
    {
      "cell_type": "markdown",
      "source": [
        "# Questão 2\n"
      ],
      "metadata": {
        "id": "iPCoxNUQeCFv"
      }
    },
    {
      "cell_type": "markdown",
      "source": [
        "Adicionar a função g(x) da questão anterior no intervalo [-1, 3] com erro menor que 10^(-4) pelo método dos trapézios"
      ],
      "metadata": {
        "id": "bWPR_T5weLse"
      }
    },
    {
      "cell_type": "markdown",
      "source": [
        "Na celula a seguir, temos o cálculo do número de iterações para o erro definido:"
      ],
      "metadata": {
        "id": "KIUZX6KoiBe2"
      }
    },
    {
      "cell_type": "code",
      "source": [
        "erro = 1\n",
        "def calcula_erro():\n",
        "  for i in range(1, 10000):\n",
        "    erro = error_trapezoidal(integrar,-3, -1, i)\n",
        "    if erro < 0.0001:\n",
        "      return i"
      ],
      "metadata": {
        "id": "Z55hX7e1eup8"
      },
      "execution_count": 10,
      "outputs": []
    },
    {
      "cell_type": "markdown",
      "source": [
        "número de iterações necessárias"
      ],
      "metadata": {
        "id": "uSvxt3BQiN09"
      }
    },
    {
      "cell_type": "code",
      "source": [
        "w = calcula_erro()\n",
        "w"
      ],
      "metadata": {
        "colab": {
          "base_uri": "https://localhost:8080/",
          "height": 306
        },
        "id": "KFQHoWTNfYbD",
        "outputId": "df641176-1b38-446d-c99b-3a93792520de"
      },
      "execution_count": 11,
      "outputs": [
        {
          "output_type": "error",
          "ename": "NameError",
          "evalue": "ignored",
          "traceback": [
            "\u001b[0;31m---------------------------------------------------------------------------\u001b[0m",
            "\u001b[0;31mNameError\u001b[0m                                 Traceback (most recent call last)",
            "\u001b[0;32m<ipython-input-11-44c85051bed9>\u001b[0m in \u001b[0;36m<module>\u001b[0;34m\u001b[0m\n\u001b[0;32m----> 1\u001b[0;31m \u001b[0mw\u001b[0m \u001b[0;34m=\u001b[0m \u001b[0mcalcula_erro\u001b[0m\u001b[0;34m(\u001b[0m\u001b[0;34m)\u001b[0m\u001b[0;34m\u001b[0m\u001b[0;34m\u001b[0m\u001b[0m\n\u001b[0m\u001b[1;32m      2\u001b[0m \u001b[0mw\u001b[0m\u001b[0;34m\u001b[0m\u001b[0;34m\u001b[0m\u001b[0m\n",
            "\u001b[0;32m<ipython-input-10-e1a2db6bac9a>\u001b[0m in \u001b[0;36mcalcula_erro\u001b[0;34m()\u001b[0m\n\u001b[1;32m      2\u001b[0m \u001b[0;32mdef\u001b[0m \u001b[0mcalcula_erro\u001b[0m\u001b[0;34m(\u001b[0m\u001b[0;34m)\u001b[0m\u001b[0;34m:\u001b[0m\u001b[0;34m\u001b[0m\u001b[0;34m\u001b[0m\u001b[0m\n\u001b[1;32m      3\u001b[0m   \u001b[0;32mfor\u001b[0m \u001b[0mi\u001b[0m \u001b[0;32min\u001b[0m \u001b[0mrange\u001b[0m\u001b[0;34m(\u001b[0m\u001b[0;36m1\u001b[0m\u001b[0;34m,\u001b[0m \u001b[0;36m10000\u001b[0m\u001b[0;34m)\u001b[0m\u001b[0;34m:\u001b[0m\u001b[0;34m\u001b[0m\u001b[0;34m\u001b[0m\u001b[0m\n\u001b[0;32m----> 4\u001b[0;31m     \u001b[0merro\u001b[0m \u001b[0;34m=\u001b[0m \u001b[0merror_trapezoidal\u001b[0m\u001b[0;34m(\u001b[0m\u001b[0mintegrar\u001b[0m\u001b[0;34m,\u001b[0m\u001b[0;34m-\u001b[0m\u001b[0;36m3\u001b[0m\u001b[0;34m,\u001b[0m \u001b[0;34m-\u001b[0m\u001b[0;36m1\u001b[0m\u001b[0;34m,\u001b[0m \u001b[0mi\u001b[0m\u001b[0;34m)\u001b[0m\u001b[0;34m\u001b[0m\u001b[0;34m\u001b[0m\u001b[0m\n\u001b[0m\u001b[1;32m      5\u001b[0m     \u001b[0;32mif\u001b[0m \u001b[0merro\u001b[0m \u001b[0;34m<\u001b[0m \u001b[0;36m0.0001\u001b[0m\u001b[0;34m:\u001b[0m\u001b[0;34m\u001b[0m\u001b[0;34m\u001b[0m\u001b[0m\n\u001b[1;32m      6\u001b[0m       \u001b[0;32mreturn\u001b[0m \u001b[0mi\u001b[0m\u001b[0;34m\u001b[0m\u001b[0;34m\u001b[0m\u001b[0m\n",
            "\u001b[0;31mNameError\u001b[0m: name 'integrar' is not defined"
          ]
        }
      ]
    },
    {
      "cell_type": "markdown",
      "source": [
        "valor da integral para o número de iterações:"
      ],
      "metadata": {
        "id": "lTY6UwPEiS5d"
      }
    },
    {
      "cell_type": "code",
      "source": [
        "integral_trapezoidal(integrar, -3, 1, w)"
      ],
      "metadata": {
        "colab": {
          "base_uri": "https://localhost:8080/",
          "height": 167
        },
        "id": "QQ52tb-Rg9AU",
        "outputId": "d5e5de4a-09a6-4832-aba0-86916f1984da"
      },
      "execution_count": 12,
      "outputs": [
        {
          "output_type": "error",
          "ename": "NameError",
          "evalue": "ignored",
          "traceback": [
            "\u001b[0;31m---------------------------------------------------------------------------\u001b[0m",
            "\u001b[0;31mNameError\u001b[0m                                 Traceback (most recent call last)",
            "\u001b[0;32m<ipython-input-12-5805476e1c03>\u001b[0m in \u001b[0;36m<module>\u001b[0;34m\u001b[0m\n\u001b[0;32m----> 1\u001b[0;31m \u001b[0mintegral_trapezoidal\u001b[0m\u001b[0;34m(\u001b[0m\u001b[0mintegrar\u001b[0m\u001b[0;34m,\u001b[0m \u001b[0;34m-\u001b[0m\u001b[0;36m3\u001b[0m\u001b[0;34m,\u001b[0m \u001b[0;36m1\u001b[0m\u001b[0;34m,\u001b[0m \u001b[0mw\u001b[0m\u001b[0;34m)\u001b[0m\u001b[0;34m\u001b[0m\u001b[0;34m\u001b[0m\u001b[0m\n\u001b[0m",
            "\u001b[0;31mNameError\u001b[0m: name 'integrar' is not defined"
          ]
        }
      ]
    },
    {
      "cell_type": "markdown",
      "source": [
        "erro associado ao número de iterações:"
      ],
      "metadata": {
        "id": "UKm45xp3iSK9"
      }
    },
    {
      "cell_type": "code",
      "source": [
        "error_trapezoidal(integrar, -3, 1, w)"
      ],
      "metadata": {
        "colab": {
          "base_uri": "https://localhost:8080/",
          "height": 167
        },
        "id": "3sa78BshhWFM",
        "outputId": "58f3d356-5931-475f-b271-ba35c7a8569d"
      },
      "execution_count": 13,
      "outputs": [
        {
          "output_type": "error",
          "ename": "NameError",
          "evalue": "ignored",
          "traceback": [
            "\u001b[0;31m---------------------------------------------------------------------------\u001b[0m",
            "\u001b[0;31mNameError\u001b[0m                                 Traceback (most recent call last)",
            "\u001b[0;32m<ipython-input-13-8bc6ea8151a4>\u001b[0m in \u001b[0;36m<module>\u001b[0;34m\u001b[0m\n\u001b[0;32m----> 1\u001b[0;31m \u001b[0merror_trapezoidal\u001b[0m\u001b[0;34m(\u001b[0m\u001b[0mintegrar\u001b[0m\u001b[0;34m,\u001b[0m \u001b[0;34m-\u001b[0m\u001b[0;36m3\u001b[0m\u001b[0;34m,\u001b[0m \u001b[0;36m1\u001b[0m\u001b[0;34m,\u001b[0m \u001b[0mw\u001b[0m\u001b[0;34m)\u001b[0m\u001b[0;34m\u001b[0m\u001b[0;34m\u001b[0m\u001b[0m\n\u001b[0m",
            "\u001b[0;31mNameError\u001b[0m: name 'integrar' is not defined"
          ]
        }
      ]
    },
    {
      "cell_type": "code",
      "source": [],
      "metadata": {
        "id": "jfFP3WzHh5ls"
      },
      "execution_count": null,
      "outputs": []
    },
    {
      "cell_type": "markdown",
      "source": [
        "# Questão 3:"
      ],
      "metadata": {
        "id": "RM1EsQgdj-wl"
      }
    },
    {
      "cell_type": "markdown",
      "source": [
        "criar um arquivo csv no excel, separado por \";\" com as seguinte estrutura: \n",
        " \n",
        ";idade 1;idade 2;idade 3;idade 4;idade 5;idade 6\n",
        "pesos;20;25;30;35;40;45\n",
        "50;2020;1986;1950;1915;1879;1845\n",
        "60;2164;2130;2094;2059;2023;1989\n",
        "70;2308;2274;2238;2203;2167;2133\n",
        "80;2452;2418;2382;2347;2311;2277\n",
        "90;2596;2562;2526;2491;2455;2421\n",
        "100;2740;2706;2670;2635;2599;2565\n",
        "110;2884;2850;2814;2779;2743;2709"
      ],
      "metadata": {
        "id": "UZb081bJlwlM"
      }
    },
    {
      "cell_type": "code",
      "source": [],
      "metadata": {
        "id": "CDvB-DdbmF1k"
      },
      "execution_count": 13,
      "outputs": []
    },
    {
      "cell_type": "markdown",
      "source": [
        "\n",
        "Aquisição de dados\n",
        "\n"
      ],
      "metadata": {
        "id": "hwIFPNNOmEhU"
      }
    },
    {
      "cell_type": "code",
      "source": [
        "data_df = pd.DataFrame(file)\n",
        "pesos = data_df.iloc[1:, 0].squeeze()\n",
        "idades = data_df.iloc[:1, 1:].squeeze()\n",
        "data_df.drop(data_df.columns[0], axis=1, inplace=True)  # remove a primeira coluna\n",
        "data_df.drop(data_df.index[0], inplace=True)  # remove a primeira linha"
      ],
      "metadata": {
        "colab": {
          "base_uri": "https://localhost:8080/",
          "height": 235
        },
        "id": "At88VVfokAmb",
        "outputId": "a52426ef-95fe-477f-a1e9-fb036a2bd22b"
      },
      "execution_count": null,
      "outputs": [
        {
          "output_type": "error",
          "ename": "NameError",
          "evalue": "ignored",
          "traceback": [
            "\u001b[0;31m---------------------------------------------------------------------------\u001b[0m",
            "\u001b[0;31mNameError\u001b[0m                                 Traceback (most recent call last)",
            "\u001b[0;32m<ipython-input-64-974f0f6a8084>\u001b[0m in \u001b[0;36m<module>\u001b[0;34m()\u001b[0m\n\u001b[0;32m----> 1\u001b[0;31m \u001b[0mdata_df\u001b[0m \u001b[0;34m=\u001b[0m \u001b[0mpd\u001b[0m\u001b[0;34m.\u001b[0m\u001b[0mDataFrame\u001b[0m\u001b[0;34m(\u001b[0m\u001b[0mfile\u001b[0m\u001b[0;34m)\u001b[0m\u001b[0;34m\u001b[0m\u001b[0;34m\u001b[0m\u001b[0m\n\u001b[0m\u001b[1;32m      2\u001b[0m \u001b[0mpesos\u001b[0m \u001b[0;34m=\u001b[0m \u001b[0mdata_df\u001b[0m\u001b[0;34m.\u001b[0m\u001b[0miloc\u001b[0m\u001b[0;34m[\u001b[0m\u001b[0;36m1\u001b[0m\u001b[0;34m:\u001b[0m\u001b[0;34m,\u001b[0m \u001b[0;36m0\u001b[0m\u001b[0;34m]\u001b[0m\u001b[0;34m.\u001b[0m\u001b[0msqueeze\u001b[0m\u001b[0;34m(\u001b[0m\u001b[0;34m)\u001b[0m\u001b[0;34m\u001b[0m\u001b[0;34m\u001b[0m\u001b[0m\n\u001b[1;32m      3\u001b[0m \u001b[0midades\u001b[0m \u001b[0;34m=\u001b[0m \u001b[0mdata_df\u001b[0m\u001b[0;34m.\u001b[0m\u001b[0miloc\u001b[0m\u001b[0;34m[\u001b[0m\u001b[0;34m:\u001b[0m\u001b[0;36m1\u001b[0m\u001b[0;34m,\u001b[0m \u001b[0;36m1\u001b[0m\u001b[0;34m:\u001b[0m\u001b[0;34m]\u001b[0m\u001b[0;34m.\u001b[0m\u001b[0msqueeze\u001b[0m\u001b[0;34m(\u001b[0m\u001b[0;34m)\u001b[0m\u001b[0;34m\u001b[0m\u001b[0;34m\u001b[0m\u001b[0m\n\u001b[1;32m      4\u001b[0m \u001b[0mdata_df\u001b[0m\u001b[0;34m.\u001b[0m\u001b[0mdrop\u001b[0m\u001b[0;34m(\u001b[0m\u001b[0mdata_df\u001b[0m\u001b[0;34m.\u001b[0m\u001b[0mcolumns\u001b[0m\u001b[0;34m[\u001b[0m\u001b[0;36m0\u001b[0m\u001b[0;34m]\u001b[0m\u001b[0;34m,\u001b[0m \u001b[0maxis\u001b[0m\u001b[0;34m=\u001b[0m\u001b[0;36m1\u001b[0m\u001b[0;34m,\u001b[0m \u001b[0minplace\u001b[0m\u001b[0;34m=\u001b[0m\u001b[0;32mTrue\u001b[0m\u001b[0;34m)\u001b[0m  \u001b[0;31m# remove a primeira coluna\u001b[0m\u001b[0;34m\u001b[0m\u001b[0;34m\u001b[0m\u001b[0m\n\u001b[1;32m      5\u001b[0m \u001b[0mdata_df\u001b[0m\u001b[0;34m.\u001b[0m\u001b[0mdrop\u001b[0m\u001b[0;34m(\u001b[0m\u001b[0mdata_df\u001b[0m\u001b[0;34m.\u001b[0m\u001b[0mindex\u001b[0m\u001b[0;34m[\u001b[0m\u001b[0;36m0\u001b[0m\u001b[0;34m]\u001b[0m\u001b[0;34m,\u001b[0m \u001b[0minplace\u001b[0m\u001b[0;34m=\u001b[0m\u001b[0;32mTrue\u001b[0m\u001b[0;34m)\u001b[0m  \u001b[0;31m# remove a primeira linha\u001b[0m\u001b[0;34m\u001b[0m\u001b[0;34m\u001b[0m\u001b[0m\n",
            "\u001b[0;31mNameError\u001b[0m: name 'pd' is not defined"
          ]
        }
      ]
    },
    {
      "cell_type": "markdown",
      "source": [
        "entradas do usuário:"
      ],
      "metadata": {
        "id": "7_WQONU2mUdE"
      }
    },
    {
      "cell_type": "code",
      "source": [
        "get_age = float(input('Digite a idade: '))\n"
      ],
      "metadata": {
        "id": "Ch9NHL35mQoT"
      },
      "execution_count": null,
      "outputs": []
    },
    {
      "cell_type": "code",
      "source": [
        "get_weight = float(input('Digite o peso: '))"
      ],
      "metadata": {
        "id": "1ilglBoMmkAV"
      },
      "execution_count": null,
      "outputs": []
    },
    {
      "cell_type": "code",
      "source": [],
      "metadata": {
        "id": "2E7nL0dkmYIb"
      },
      "execution_count": null,
      "outputs": []
    },
    {
      "cell_type": "markdown",
      "source": [
        "condicionais para filtragem:"
      ],
      "metadata": {
        "id": "-0jDNvjrmZWM"
      }
    },
    {
      "cell_type": "code",
      "source": [
        "if get_age < 20 or get_age > 45:\n",
        "    print('Idade inválida')\n",
        "    exit()\n",
        "if get_weight < 50 or get_weight > 110:\n",
        "    print('Peso inválido')\n",
        "    exit()\n",
        "index_rows = round(get_age / 10 - 2)\n",
        "index_collumns = round(get_weight / 10 - 5)\n",
        "X = data_df.iloc[index_rows, :].tolist()\n",
        "Y = data_df.iloc[:, index_collumns].tolist()\n",
        "u = interpol_lagrange(3, 0, X, Y)\n",
        "u = sy.expand(u)\n",
        "print(u)\n",
        "print(u.subs(x, 30))"
      ],
      "metadata": {
        "id": "jQvYTl00mbvb"
      },
      "execution_count": null,
      "outputs": []
    }
  ]
}