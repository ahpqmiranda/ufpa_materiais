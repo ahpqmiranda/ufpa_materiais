{
 "cells": [
  {
   "cell_type": "code",
   "execution_count": 100,
   "outputs": [],
   "source": [
    "import numpy as np\n",
    "import sympy as sy\n",
    "import matplotlib.pyplot as plt\n",
    "import scipy as sc\n",
    "from sympy import *\n",
    "from sympy.physics.units import meter, kilogram, second, joule, newton, ampere, kelvin, mole, candela"
   ],
   "metadata": {
    "collapsed": false,
    "pycharm": {
     "name": "#%%\n"
    }
   }
  },
  {
   "cell_type": "code",
   "execution_count": 89,
   "outputs": [],
   "source": [
    "sy.init_printing(use_latex='mathjax')\n",
    "x, y = sy.symbols('x y')\n",
    "f, g = sy.symbols('f g', cls=sy.Function)\n",
    "i, j, k, t = sy.symbols('i j k t', vectorize=True)\n",
    "m = sy.symbols('k m', integer=True)"
   ],
   "metadata": {
    "collapsed": false,
    "pycharm": {
     "name": "#%%\n"
    }
   }
  },
  {
   "cell_type": "code",
   "execution_count": 90,
   "outputs": [
    {
     "data": {
      "text/plain": "-sin(x) + cos(x)",
      "text/latex": "$\\displaystyle - \\sin{\\left(x \\right)} + \\cos{\\left(x \\right)}$"
     },
     "execution_count": 90,
     "metadata": {},
     "output_type": "execute_result"
    }
   ],
   "source": [
    "r = cos(x) + sin(x)\n",
    "Derivative(r, x, evaluate=True)"
   ],
   "metadata": {
    "collapsed": false,
    "pycharm": {
     "name": "#%%\n"
    }
   }
  },
  {
   "cell_type": "code",
   "execution_count": 91,
   "outputs": [
    {
     "data": {
      "text/plain": "2",
      "text/latex": "$\\displaystyle 2$"
     },
     "execution_count": 91,
     "metadata": {},
     "output_type": "execute_result"
    }
   ],
   "source": [
    "limit(sin(x) * 2 / x, x, 0)"
   ],
   "metadata": {
    "collapsed": false,
    "pycharm": {
     "name": "#%%\n"
    }
   }
  },
  {
   "cell_type": "code",
   "execution_count": 92,
   "outputs": [
    {
     "data": {
      "text/plain": "π",
      "text/latex": "$\\displaystyle \\pi$"
     },
     "execution_count": 92,
     "metadata": {},
     "output_type": "execute_result"
    }
   ],
   "source": [
    "integrate(sin(x) * x, (x, 0, sy.pi))"
   ],
   "metadata": {
    "collapsed": false,
    "pycharm": {
     "name": "#%%\n"
    }
   }
  },
  {
   "cell_type": "code",
   "execution_count": 93,
   "outputs": [
    {
     "data": {
      "text/plain": "⎡19  22⎤\n⎢      ⎥\n⎣43  50⎦",
      "text/latex": "$\\displaystyle \\left[\\begin{matrix}19 & 22\\\\43 & 50\\end{matrix}\\right]$"
     },
     "execution_count": 93,
     "metadata": {},
     "output_type": "execute_result"
    }
   ],
   "source": [
    "a = sy.Matrix([[1, 2], [3, 4]])\n",
    "b = sy.Matrix([[5, 6], [7, 8]])\n",
    "a * b"
   ],
   "metadata": {
    "collapsed": false,
    "pycharm": {
     "name": "#%%\n"
    }
   }
  },
  {
   "cell_type": "code",
   "execution_count": 98,
   "outputs": [
    {
     "data": {
      "text/plain": "⎡ i    j    k    t ⎤\n⎢                  ⎥\n⎢2⋅i  2⋅j  2⋅k  2⋅t⎥\n⎢                  ⎥\n⎢3⋅i  3⋅j  3⋅k  3⋅t⎥\n⎢                  ⎥\n⎣4⋅i  4⋅j  4⋅k  4⋅t⎦",
      "text/latex": "$\\displaystyle \\left[\\begin{matrix}i & j & k & t\\\\2 i & 2 j & 2 k & 2 t\\\\3 i & 3 j & 3 k & 3 t\\\\4 i & 4 j & 4 k & 4 t\\end{matrix}\\right]$"
     },
     "execution_count": 98,
     "metadata": {},
     "output_type": "execute_result"
    }
   ],
   "source": [
    "c = sy.Matrix([1, 2, 3, 4])\n",
    "d = sy.Matrix([i, j, k, t])\n",
    "c * d.T"
   ],
   "metadata": {
    "collapsed": false,
    "pycharm": {
     "name": "#%%\n"
    }
   }
  },
  {
   "cell_type": "code",
   "execution_count": 108,
   "outputs": [],
   "source": [
    "F1 = 50\n",
    "F2 = 100"
   ],
   "metadata": {
    "collapsed": false,
    "pycharm": {
     "name": "#%%\n"
    }
   }
  },
  {
   "cell_type": "code",
   "execution_count": null,
   "outputs": [],
   "source": [],
   "metadata": {
    "collapsed": false,
    "pycharm": {
     "name": "#%%\n"
    }
   }
  },
  {
   "cell_type": "code",
   "execution_count": 114,
   "outputs": [
    {
     "name": "stderr",
     "output_type": "stream",
     "text": [
      "C:\\Users\\alana\\anaconda3\\envs\\mathplots\\lib\\site-packages\\sympy\\plotting\\plot.py:2040: SymPyDeprecationWarning: \n",
      "\n",
      "The string fallback in sympify() is deprecated.\n",
      "\n",
      "To explicitly convert the string form of an object, use\n",
      "sympify(str(obj)). To add define sympify behavior on custom\n",
      "objects, use sympy.core.sympify.converter or define obj._sympy_\n",
      "(see the sympify() docstring).\n",
      "\n",
      "sympify() performed the string fallback resulting in the following string:\n",
      "\n",
      "'<function <lambda> at 0x00000182FE9F1040>'\n",
      "\n",
      "See https://docs.sympy.org/latest/explanation/active-deprecations.html#deprecated-sympify-string-fallback\n",
      "for details.\n",
      "\n",
      "This has been deprecated since SymPy version 1.6. It\n",
      "will be removed in a future version of SymPy.\n",
      "\n",
      "  args = list(map(sympify, args))\n"
     ]
    },
    {
     "ename": "SympifyError",
     "evalue": "Sympify of expression 'could not parse '<function <lambda> at 0x00000182FE9F1040>'' failed, because of exception being raised:\nSyntaxError: invalid syntax (<string>, line 1)",
     "output_type": "error",
     "traceback": [
      "\u001B[1;31m---------------------------------------------------------------------------\u001B[0m",
      "\u001B[1;31mValueError\u001B[0m                                Traceback (most recent call last)",
      "\u001B[1;31mValueError\u001B[0m: Error from parse_expr with transformed code: \"<Symbol ('function' )<lambda >Symbol ('at' )Integer (0x00000182FE9F1040 )>\"",
      "\nThe above exception was the direct cause of the following exception:\n",
      "\u001B[1;31mSyntaxError\u001B[0m                               Traceback (most recent call last)",
      "File \u001B[1;32m~\\anaconda3\\envs\\mathplots\\lib\\site-packages\\sympy\\core\\sympify.py:495\u001B[0m, in \u001B[0;36msympify\u001B[1;34m(a, locals, convert_xor, strict, rational, evaluate)\u001B[0m\n\u001B[0;32m    494\u001B[0m     a \u001B[38;5;241m=\u001B[39m a\u001B[38;5;241m.\u001B[39mreplace(\u001B[38;5;124m'\u001B[39m\u001B[38;5;130;01m\\n\u001B[39;00m\u001B[38;5;124m'\u001B[39m, \u001B[38;5;124m'\u001B[39m\u001B[38;5;124m'\u001B[39m)\n\u001B[1;32m--> 495\u001B[0m     expr \u001B[38;5;241m=\u001B[39m \u001B[43mparse_expr\u001B[49m\u001B[43m(\u001B[49m\u001B[43ma\u001B[49m\u001B[43m,\u001B[49m\u001B[43m \u001B[49m\u001B[43mlocal_dict\u001B[49m\u001B[38;5;241;43m=\u001B[39;49m\u001B[38;5;28;43mlocals\u001B[39;49m\u001B[43m,\u001B[49m\u001B[43m \u001B[49m\u001B[43mtransformations\u001B[49m\u001B[38;5;241;43m=\u001B[39;49m\u001B[43mtransformations\u001B[49m\u001B[43m,\u001B[49m\u001B[43m \u001B[49m\u001B[43mevaluate\u001B[49m\u001B[38;5;241;43m=\u001B[39;49m\u001B[43mevaluate\u001B[49m\u001B[43m)\u001B[49m\n\u001B[0;32m    496\u001B[0m \u001B[38;5;28;01mexcept\u001B[39;00m (TokenError, \u001B[38;5;167;01mSyntaxError\u001B[39;00m) \u001B[38;5;28;01mas\u001B[39;00m exc:\n",
      "File \u001B[1;32m~\\anaconda3\\envs\\mathplots\\lib\\site-packages\\sympy\\parsing\\sympy_parser.py:1105\u001B[0m, in \u001B[0;36mparse_expr\u001B[1;34m(s, local_dict, transformations, global_dict, evaluate)\u001B[0m\n\u001B[0;32m   1104\u001B[0m     local_dict[i] \u001B[38;5;241m=\u001B[39m null\n\u001B[1;32m-> 1105\u001B[0m \u001B[38;5;28;01mraise\u001B[39;00m e \u001B[38;5;28;01mfrom\u001B[39;00m \u001B[38;5;21;01mValueError\u001B[39;00m(\u001B[38;5;124mf\u001B[39m\u001B[38;5;124m\"\u001B[39m\u001B[38;5;124mError from parse_expr with transformed code: \u001B[39m\u001B[38;5;132;01m{\u001B[39;00mcode\u001B[38;5;132;01m!r}\u001B[39;00m\u001B[38;5;124m\"\u001B[39m)\n",
      "File \u001B[1;32m~\\anaconda3\\envs\\mathplots\\lib\\site-packages\\sympy\\parsing\\sympy_parser.py:1096\u001B[0m, in \u001B[0;36mparse_expr\u001B[1;34m(s, local_dict, transformations, global_dict, evaluate)\u001B[0m\n\u001B[0;32m   1095\u001B[0m \u001B[38;5;28;01mtry\u001B[39;00m:\n\u001B[1;32m-> 1096\u001B[0m     rv \u001B[38;5;241m=\u001B[39m \u001B[43meval_expr\u001B[49m\u001B[43m(\u001B[49m\u001B[43mcode\u001B[49m\u001B[43m,\u001B[49m\u001B[43m \u001B[49m\u001B[43mlocal_dict\u001B[49m\u001B[43m,\u001B[49m\u001B[43m \u001B[49m\u001B[43mglobal_dict\u001B[49m\u001B[43m)\u001B[49m\n\u001B[0;32m   1097\u001B[0m     \u001B[38;5;66;03m# restore neutral definitions for names\u001B[39;00m\n",
      "File \u001B[1;32m~\\anaconda3\\envs\\mathplots\\lib\\site-packages\\sympy\\parsing\\sympy_parser.py:915\u001B[0m, in \u001B[0;36meval_expr\u001B[1;34m(code, local_dict, global_dict)\u001B[0m\n\u001B[0;32m    910\u001B[0m \u001B[38;5;124;03m\"\"\"\u001B[39;00m\n\u001B[0;32m    911\u001B[0m \u001B[38;5;124;03mEvaluate Python code generated by ``stringify_expr``.\u001B[39;00m\n\u001B[0;32m    912\u001B[0m \n\u001B[0;32m    913\u001B[0m \u001B[38;5;124;03mGenerally, ``parse_expr`` should be used.\u001B[39;00m\n\u001B[0;32m    914\u001B[0m \u001B[38;5;124;03m\"\"\"\u001B[39;00m\n\u001B[1;32m--> 915\u001B[0m expr \u001B[38;5;241m=\u001B[39m \u001B[38;5;28;43meval\u001B[39;49m\u001B[43m(\u001B[49m\n\u001B[0;32m    916\u001B[0m \u001B[43m    \u001B[49m\u001B[43mcode\u001B[49m\u001B[43m,\u001B[49m\u001B[43m \u001B[49m\u001B[43mglobal_dict\u001B[49m\u001B[43m,\u001B[49m\u001B[43m \u001B[49m\u001B[43mlocal_dict\u001B[49m\u001B[43m)\u001B[49m  \u001B[38;5;66;03m# take local objects in preference\u001B[39;00m\n\u001B[0;32m    917\u001B[0m \u001B[38;5;28;01mreturn\u001B[39;00m expr\n",
      "\u001B[1;31mSyntaxError\u001B[0m: invalid syntax (<string>, line 1)",
      "\nDuring handling of the above exception, another exception occurred:\n",
      "\u001B[1;31mSympifyError\u001B[0m                              Traceback (most recent call last)",
      "Input \u001B[1;32mIn [114]\u001B[0m, in \u001B[0;36m<cell line: 1>\u001B[1;34m()\u001B[0m\n\u001B[1;32m----> 1\u001B[0m \u001B[43mplot_parametric\u001B[49m\u001B[43m(\u001B[49m\u001B[38;5;28;43;01mlambda\u001B[39;49;00m\u001B[43m \u001B[49m\u001B[43mt\u001B[49m\u001B[43m:\u001B[49m\u001B[43m \u001B[49m\u001B[43m(\u001B[49m\u001B[43mt\u001B[49m\u001B[43m,\u001B[49m\u001B[43m \u001B[49m\u001B[43mF1\u001B[49m\u001B[43m \u001B[49m\u001B[38;5;241;43m*\u001B[39;49m\u001B[43m \u001B[49m\u001B[43mt\u001B[49m\u001B[43m)\u001B[49m\u001B[43m,\u001B[49m\u001B[43m \u001B[49m\u001B[43m(\u001B[49m\u001B[38;5;241;43m0\u001B[39;49m\u001B[43m,\u001B[49m\u001B[43m \u001B[49m\u001B[38;5;241;43m1\u001B[39;49m\u001B[43m)\u001B[49m\u001B[43m)\u001B[49m\n",
      "File \u001B[1;32m~\\anaconda3\\envs\\mathplots\\lib\\site-packages\\sympy\\plotting\\plot.py:2040\u001B[0m, in \u001B[0;36mplot_parametric\u001B[1;34m(show, *args, **kwargs)\u001B[0m\n\u001B[0;32m   1858\u001B[0m \u001B[38;5;28;01mdef\u001B[39;00m \u001B[38;5;21mplot_parametric\u001B[39m(\u001B[38;5;241m*\u001B[39margs, show\u001B[38;5;241m=\u001B[39m\u001B[38;5;28;01mTrue\u001B[39;00m, \u001B[38;5;241m*\u001B[39m\u001B[38;5;241m*\u001B[39mkwargs):\n\u001B[0;32m   1859\u001B[0m     \u001B[38;5;124;03m\"\"\"\u001B[39;00m\n\u001B[0;32m   1860\u001B[0m \u001B[38;5;124;03m    Plots a 2D parametric curve.\u001B[39;00m\n\u001B[0;32m   1861\u001B[0m \n\u001B[1;32m   (...)\u001B[0m\n\u001B[0;32m   2038\u001B[0m \u001B[38;5;124;03m    Plot, Parametric2DLineSeries\u001B[39;00m\n\u001B[0;32m   2039\u001B[0m \u001B[38;5;124;03m    \"\"\"\u001B[39;00m\n\u001B[1;32m-> 2040\u001B[0m     args \u001B[38;5;241m=\u001B[39m \u001B[38;5;28;43mlist\u001B[39;49m\u001B[43m(\u001B[49m\u001B[38;5;28;43mmap\u001B[39;49m\u001B[43m(\u001B[49m\u001B[43msympify\u001B[49m\u001B[43m,\u001B[49m\u001B[43m \u001B[49m\u001B[43margs\u001B[49m\u001B[43m)\u001B[49m\u001B[43m)\u001B[49m\n\u001B[0;32m   2041\u001B[0m     series \u001B[38;5;241m=\u001B[39m []\n\u001B[0;32m   2042\u001B[0m     plot_expr \u001B[38;5;241m=\u001B[39m check_arguments(args, \u001B[38;5;241m2\u001B[39m, \u001B[38;5;241m1\u001B[39m)\n",
      "File \u001B[1;32m~\\anaconda3\\envs\\mathplots\\lib\\site-packages\\sympy\\core\\sympify.py:497\u001B[0m, in \u001B[0;36msympify\u001B[1;34m(a, locals, convert_xor, strict, rational, evaluate)\u001B[0m\n\u001B[0;32m    495\u001B[0m     expr \u001B[38;5;241m=\u001B[39m parse_expr(a, local_dict\u001B[38;5;241m=\u001B[39m\u001B[38;5;28mlocals\u001B[39m, transformations\u001B[38;5;241m=\u001B[39mtransformations, evaluate\u001B[38;5;241m=\u001B[39mevaluate)\n\u001B[0;32m    496\u001B[0m \u001B[38;5;28;01mexcept\u001B[39;00m (TokenError, \u001B[38;5;167;01mSyntaxError\u001B[39;00m) \u001B[38;5;28;01mas\u001B[39;00m exc:\n\u001B[1;32m--> 497\u001B[0m     \u001B[38;5;28;01mraise\u001B[39;00m SympifyError(\u001B[38;5;124m'\u001B[39m\u001B[38;5;124mcould not parse \u001B[39m\u001B[38;5;132;01m%r\u001B[39;00m\u001B[38;5;124m'\u001B[39m \u001B[38;5;241m%\u001B[39m a, exc)\n\u001B[0;32m    499\u001B[0m \u001B[38;5;28;01mreturn\u001B[39;00m expr\n",
      "\u001B[1;31mSympifyError\u001B[0m: Sympify of expression 'could not parse '<function <lambda> at 0x00000182FE9F1040>'' failed, because of exception being raised:\nSyntaxError: invalid syntax (<string>, line 1)"
     ]
    }
   ],
   "source": [],
   "metadata": {
    "collapsed": false,
    "pycharm": {
     "name": "#%%\n"
    }
   }
  },
  {
   "cell_type": "code",
   "execution_count": null,
   "outputs": [],
   "source": [],
   "metadata": {
    "collapsed": false,
    "pycharm": {
     "name": "#%%\n"
    }
   }
  }
 ],
 "metadata": {
  "kernelspec": {
   "display_name": "Python 3",
   "language": "python",
   "name": "python3"
  },
  "language_info": {
   "codemirror_mode": {
    "name": "ipython",
    "version": 2
   },
   "file_extension": ".py",
   "mimetype": "text/x-python",
   "name": "python",
   "nbconvert_exporter": "python",
   "pygments_lexer": "ipython2",
   "version": "2.7.6"
  }
 },
 "nbformat": 4,
 "nbformat_minor": 0
}