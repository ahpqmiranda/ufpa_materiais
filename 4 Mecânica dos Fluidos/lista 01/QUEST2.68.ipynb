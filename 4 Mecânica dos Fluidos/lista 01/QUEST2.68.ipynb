{
 "cells": [
  {
   "cell_type": "code",
   "execution_count": 44,
   "metadata": {
    "collapsed": true
   },
   "outputs": [],
   "source": [
    "import matplotlib.pyplot as plt\n",
    "import pandas as pd\n",
    "import math\n",
    "import numpy as np\n",
    "from sklearn.linear_model import LinearRegression\n",
    "from sklearn.pipeline import make_pipeline\n",
    "from sklearn.preprocessing import PolynomialFeatures"
   ]
  },
  {
   "cell_type": "code",
   "execution_count": 45,
   "outputs": [],
   "source": [
    "velocidade = [(10 + x*10) for x in range(8)]"
   ],
   "metadata": {
    "collapsed": false
   }
  },
  {
   "cell_type": "code",
   "execution_count": 46,
   "outputs": [],
   "source": [
    "viscosidade = [0.121, 0.139, 0.153, 0.159, 0.172, 0.172, 0.183, 0.185]"
   ],
   "metadata": {
    "collapsed": false
   }
  },
  {
   "cell_type": "code",
   "execution_count": 47,
   "outputs": [],
   "source": [
    "angle = math.radians(0.5)\n",
    "velocidade_rad = np.array(velocidade) * ((2 * math.pi) / 60)\n",
    "viscosidade3 = np.array(viscosidade)*1000\n",
    "deform = np.array(velocidade) * ((2 * math.pi) / 60) / angle"
   ],
   "metadata": {
    "collapsed": false
   }
  },
  {
   "cell_type": "code",
   "execution_count": 48,
   "outputs": [
    {
     "data": {
      "text/plain": "   Velocidade (rpm)  velocidade (rad/s)  viscosidade (10**3)  \\\n0                10            1.047198                121.0   \n1                20            2.094395                139.0   \n2                30            3.141593                153.0   \n3                40            4.188790                159.0   \n4                50            5.235988                172.0   \n5                60            6.283185                172.0   \n6                70            7.330383                183.0   \n7                80            8.377580                185.0   \n\n   Taxa de deformação (w/theta)  \n0                         120.0  \n1                         240.0  \n2                         360.0  \n3                         480.0  \n4                         600.0  \n5                         720.0  \n6                         840.0  \n7                         960.0  ",
      "text/html": "<div>\n<style scoped>\n    .dataframe tbody tr th:only-of-type {\n        vertical-align: middle;\n    }\n\n    .dataframe tbody tr th {\n        vertical-align: top;\n    }\n\n    .dataframe thead th {\n        text-align: right;\n    }\n</style>\n<table border=\"1\" class=\"dataframe\">\n  <thead>\n    <tr style=\"text-align: right;\">\n      <th></th>\n      <th>Velocidade (rpm)</th>\n      <th>velocidade (rad/s)</th>\n      <th>viscosidade (10**3)</th>\n      <th>Taxa de deformação (w/theta)</th>\n    </tr>\n  </thead>\n  <tbody>\n    <tr>\n      <th>0</th>\n      <td>10</td>\n      <td>1.047198</td>\n      <td>121.0</td>\n      <td>120.0</td>\n    </tr>\n    <tr>\n      <th>1</th>\n      <td>20</td>\n      <td>2.094395</td>\n      <td>139.0</td>\n      <td>240.0</td>\n    </tr>\n    <tr>\n      <th>2</th>\n      <td>30</td>\n      <td>3.141593</td>\n      <td>153.0</td>\n      <td>360.0</td>\n    </tr>\n    <tr>\n      <th>3</th>\n      <td>40</td>\n      <td>4.188790</td>\n      <td>159.0</td>\n      <td>480.0</td>\n    </tr>\n    <tr>\n      <th>4</th>\n      <td>50</td>\n      <td>5.235988</td>\n      <td>172.0</td>\n      <td>600.0</td>\n    </tr>\n    <tr>\n      <th>5</th>\n      <td>60</td>\n      <td>6.283185</td>\n      <td>172.0</td>\n      <td>720.0</td>\n    </tr>\n    <tr>\n      <th>6</th>\n      <td>70</td>\n      <td>7.330383</td>\n      <td>183.0</td>\n      <td>840.0</td>\n    </tr>\n    <tr>\n      <th>7</th>\n      <td>80</td>\n      <td>8.377580</td>\n      <td>185.0</td>\n      <td>960.0</td>\n    </tr>\n  </tbody>\n</table>\n</div>"
     },
     "execution_count": 48,
     "metadata": {},
     "output_type": "execute_result"
    }
   ],
   "source": [
    "df = pd.DataFrame({\n",
    "    'Velocidade (rpm)':velocidade,\n",
    "    'velocidade (rad/s)':velocidade_rad,\n",
    "    'viscosidade (10**3)':viscosidade3,\n",
    "    'Taxa de deformação (w/theta)':deform\n",
    "})\n",
    "df"
   ],
   "metadata": {
    "collapsed": false
   }
  },
  {
   "cell_type": "code",
   "execution_count": 49,
   "outputs": [
    {
     "data": {
      "text/plain": "Pipeline(steps=[('polynomialfeatures', PolynomialFeatures()),\n                ('linearregression', LinearRegression())])"
     },
     "execution_count": 49,
     "metadata": {},
     "output_type": "execute_result"
    }
   ],
   "source": [
    "xdic = {'X':np.log10(deform)}\n",
    "ydic = {'Y':np.log10(viscosidade3)}\n",
    "\n",
    "X = pd.DataFrame.from_dict(xdic)\n",
    "Y = pd.DataFrame.from_dict(ydic)\n",
    "\n",
    "x_SEQ = np.linspace(X.min(),X.max(),300).reshape(-1, 1)\n",
    "\n",
    "value = 2 # grau do polinômio\n",
    "\n",
    "polynomial_regression = make_pipeline(PolynomialFeatures(value),LinearRegression())\n",
    "polynomial_regression.fit(X,Y)"
   ],
   "metadata": {
    "collapsed": false
   }
  },
  {
   "cell_type": "code",
   "execution_count": 50,
   "outputs": [
    {
     "name": "stderr",
     "output_type": "stream",
     "text": [
      "C:\\Users\\alana\\anaconda3\\envs\\mathplots\\lib\\site-packages\\sklearn\\base.py:450: UserWarning: X does not have valid feature names, but PolynomialFeatures was fitted with feature names\n",
      "  warnings.warn(\n"
     ]
    },
    {
     "data": {
      "text/plain": "<Figure size 1152x648 with 1 Axes>",
      "image/png": "[encoded data removed]"
     },
     "metadata": {
      "needs_background": "light"
     },
     "output_type": "display_data"
    }
   ],
   "source": [
    "plt.figure(figsize=(16,9))\n",
    "plt.scatter(X,Y)\n",
    "plt.plot(x_SEQ, polynomial_regression.predict(x_SEQ),color='Green')\n",
    "plt.title('Regressão Polinomial (log x log) de ordem: '+str(value))\n",
    "plt.grid(True)\n",
    "plt.xlabel(\"Cisalhamento (1/s)\")\n",
    "plt.ylabel(\"Viscosidade (N.s/m² * 10³)\")\n",
    "plt.show()"
   ],
   "metadata": {
    "collapsed": false
   }
  },
  {
   "cell_type": "code",
   "execution_count": null,
   "outputs": [],
   "source": [
    "X = deform\n",
    "Y = viscosidade"
   ],
   "metadata": {
    "collapsed": false
   }
  },
  {
   "cell_type": "code",
   "execution_count": null,
   "outputs": [],
   "source": [
    "fig, ax = plt.subplots(figsize=(16,9))\n",
    "ax.plot(X,Y,'-o')\n",
    "ax.set_xlabel(\"Deformação (10**3)\")\n",
    "ax.set_ylabel(\"Viscosidade\")\n",
    "ax.set_title(\"Gráfico\")\n",
    "plt.grid(True)\n",
    "plt.show()"
   ],
   "metadata": {
    "collapsed": false
   }
  },
  {
   "cell_type": "code",
   "execution_count": 53,
   "outputs": [],
   "source": [
    "datas_regression = pd.DataFrame({    'X': np.log10(deform),\n",
    "    'Y': np.log10(viscosidade3),\n",
    "    'XY': np.log10(deform) * np.log10(viscosidade3),\n",
    "    'X2': np.log10(deform) * np.log10(deform)\n",
    "    })\n",
    "\n",
    "\n",
    "A = (len(deform) * sum(datas_regression.XY) - sum(datas_regression.Y) * sum(datas_regression.X))/(len(deform) * sum(datas_regression.X2) - (sum(datas_regression.X)**2))\n",
    "# A é o coeficiente n-1, onde n vai ser 1.20676\n",
    "\n",
    "B = (sum(datas_regression.X)*sum(datas_regression.XY) - sum(datas_regression.Y)*sum(datas_regression.X2))/((sum(datas_regression.X)**2) - len(deform) * sum(datas_regression.X2))\n",
    "# B é o log10(k) * 10^3, logo k tem que ser 0.0449"
   ],
   "metadata": {
    "collapsed": false
   }
  },
  {
   "cell_type": "code",
   "execution_count": 57,
   "outputs": [
    {
     "name": "stdout",
     "output_type": "stream",
     "text": [
      "Y = AX + B = 0.20676779835247724 * X + 1.65262915872381\n",
      "convertendo da escala logarítmica para a escala real, temos:\n",
      "\n"
     ]
    }
   ],
   "source": [
    "print('Y = AX + B = {} * X + {}'.format(A, B))\n",
    "print('convertendo da escala logarítmica para a escala real, temos:\\n')"
   ],
   "metadata": {
    "collapsed": false
   }
  },
  {
   "cell_type": "code",
   "execution_count": 59,
   "outputs": [
    {
     "name": "stdout",
     "output_type": "stream",
     "text": [
      "os coeficientes k:0.0449 e n:1.2068\n"
     ]
    }
   ],
   "source": [
    "n = A + 1\n",
    "k = (10 ** B) / 1000\n",
    "print('os coeficientes k:{:.4f} e n:{:.4f}'.format(k, n))"
   ],
   "metadata": {
    "collapsed": false
   }
  },
  {
   "cell_type": "code",
   "execution_count": 63,
   "outputs": [
    {
     "name": "stdout",
     "output_type": "stream",
     "text": [
      "Y=0.045*X + 1.207\n"
     ]
    }
   ],
   "source": [
    "print(f'Y={k:.3f}*X + {n:.3f}')"
   ],
   "metadata": {
    "collapsed": false
   }
  }
 ],
 "metadata": {
  "kernelspec": {
   "display_name": "Python 3",
   "language": "python",
   "name": "python3"
  },
  "language_info": {
   "codemirror_mode": {
    "name": "ipython",
    "version": 2
   },
   "file_extension": ".py",
   "mimetype": "text/x-python",
   "name": "python",
   "nbconvert_exporter": "python",
   "pygments_lexer": "ipython2",
   "version": "2.7.6"
  }
 },
 "nbformat": 4,
 "nbformat_minor": 0
}
