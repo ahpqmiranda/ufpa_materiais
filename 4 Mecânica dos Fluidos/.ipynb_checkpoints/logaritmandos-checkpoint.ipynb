{
 "cells": [
  {
   "cell_type": "code",
   "execution_count": 51,
   "metadata": {
    "collapsed": true
   },
   "outputs": [],
   "source": [
    "import matplotlib.pyplot as plt\n",
    "import pandas as pd\n",
    "import math\n",
    "import numpy as np\n",
    "from sklearn.linear_model import LinearRegression\n",
    "import statsmodels.api as sm"
   ]
  },
  {
   "cell_type": "code",
   "execution_count": 52,
   "metadata": {
    "pycharm": {
     "name": "#%%\n"
    }
   },
   "outputs": [
    {
     "data": {
      "text/html": [
       "<div>\n",
       "<style scoped>\n",
       "    .dataframe tbody tr th:only-of-type {\n",
       "        vertical-align: middle;\n",
       "    }\n",
       "\n",
       "    .dataframe tbody tr th {\n",
       "        vertical-align: top;\n",
       "    }\n",
       "\n",
       "    .dataframe thead th {\n",
       "        text-align: right;\n",
       "    }\n",
       "</style>\n",
       "<table border=\"1\" class=\"dataframe\">\n",
       "  <thead>\n",
       "    <tr style=\"text-align: right;\">\n",
       "      <th></th>\n",
       "      <th>Velocidade (RPM)</th>\n",
       "      <th>Vel. Angular (rad/s)</th>\n",
       "      <th>Taxa de Deformação (ω/θ)</th>\n",
       "      <th>Viscosidade (N.s/m²*10³)</th>\n",
       "      <th>Deformação log (ln(ω/θ))</th>\n",
       "      <th>Viscosidade log (ln(n))</th>\n",
       "    </tr>\n",
       "  </thead>\n",
       "  <tbody>\n",
       "    <tr>\n",
       "      <th>0</th>\n",
       "      <td>10</td>\n",
       "      <td>1.047198</td>\n",
       "      <td>120.0</td>\n",
       "      <td>121.0</td>\n",
       "      <td>2.079181</td>\n",
       "      <td>2.082785</td>\n",
       "    </tr>\n",
       "    <tr>\n",
       "      <th>1</th>\n",
       "      <td>20</td>\n",
       "      <td>2.094395</td>\n",
       "      <td>240.0</td>\n",
       "      <td>139.0</td>\n",
       "      <td>2.380211</td>\n",
       "      <td>2.143015</td>\n",
       "    </tr>\n",
       "    <tr>\n",
       "      <th>2</th>\n",
       "      <td>30</td>\n",
       "      <td>3.141593</td>\n",
       "      <td>360.0</td>\n",
       "      <td>153.0</td>\n",
       "      <td>2.556303</td>\n",
       "      <td>2.184691</td>\n",
       "    </tr>\n",
       "    <tr>\n",
       "      <th>3</th>\n",
       "      <td>40</td>\n",
       "      <td>4.188790</td>\n",
       "      <td>480.0</td>\n",
       "      <td>159.0</td>\n",
       "      <td>2.681241</td>\n",
       "      <td>2.201397</td>\n",
       "    </tr>\n",
       "    <tr>\n",
       "      <th>4</th>\n",
       "      <td>50</td>\n",
       "      <td>5.235988</td>\n",
       "      <td>600.0</td>\n",
       "      <td>172.0</td>\n",
       "      <td>2.778151</td>\n",
       "      <td>2.235528</td>\n",
       "    </tr>\n",
       "    <tr>\n",
       "      <th>5</th>\n",
       "      <td>60</td>\n",
       "      <td>6.283185</td>\n",
       "      <td>720.0</td>\n",
       "      <td>172.0</td>\n",
       "      <td>2.857332</td>\n",
       "      <td>2.235528</td>\n",
       "    </tr>\n",
       "    <tr>\n",
       "      <th>6</th>\n",
       "      <td>70</td>\n",
       "      <td>7.330383</td>\n",
       "      <td>840.0</td>\n",
       "      <td>183.0</td>\n",
       "      <td>2.924279</td>\n",
       "      <td>2.262451</td>\n",
       "    </tr>\n",
       "    <tr>\n",
       "      <th>7</th>\n",
       "      <td>80</td>\n",
       "      <td>8.377580</td>\n",
       "      <td>960.0</td>\n",
       "      <td>185.0</td>\n",
       "      <td>2.982271</td>\n",
       "      <td>2.267172</td>\n",
       "    </tr>\n",
       "  </tbody>\n",
       "</table>\n",
       "</div>"
      ],
      "text/plain": [
       "   Velocidade (RPM)  Vel. Angular (rad/s)  Taxa de Deformação (ω/θ)  \\\n",
       "0                10              1.047198                     120.0   \n",
       "1                20              2.094395                     240.0   \n",
       "2                30              3.141593                     360.0   \n",
       "3                40              4.188790                     480.0   \n",
       "4                50              5.235988                     600.0   \n",
       "5                60              6.283185                     720.0   \n",
       "6                70              7.330383                     840.0   \n",
       "7                80              8.377580                     960.0   \n",
       "\n",
       "   Viscosidade (N.s/m²*10³)  Deformação log (ln(ω/θ))  Viscosidade log (ln(n))  \n",
       "0                     121.0                  2.079181                 2.082785  \n",
       "1                     139.0                  2.380211                 2.143015  \n",
       "2                     153.0                  2.556303                 2.184691  \n",
       "3                     159.0                  2.681241                 2.201397  \n",
       "4                     172.0                  2.778151                 2.235528  \n",
       "5                     172.0                  2.857332                 2.235528  \n",
       "6                     183.0                  2.924279                 2.262451  \n",
       "7                     185.0                  2.982271                 2.267172  "
      ]
     },
     "execution_count": 52,
     "metadata": {},
     "output_type": "execute_result"
    }
   ],
   "source": [
    "velocidade = [10, 20, 30, 40, 50, 60, 70, 80]\n",
    "viscosidade = [0.121, 0.139, 0.153, 0.159, 0.172, 0.172, 0.183, 0.185]\n",
    "theta = math.radians(0.5)  # converte graus para radianos\n",
    "\n",
    "var_veloc = pd.Series(velocidade)  #\n",
    "var_visco = pd.Series(viscosidade)\n",
    "var_freq = pd.Series(velocidade)\n",
    "var_freq = var_freq * (2 * math.pi) / 60  # converte a frequência em hz para velocidade angular rad/s\n",
    "var_visco = var_visco * 1000  # viscosidade a 10³\n",
    "angular = var_freq / theta # taxa de deformação du/dy\n",
    "angularlog = np.log10(angular)\n",
    "viscolog = np.log10(var_visco)\n",
    "\n",
    "# dicionário de dados\n",
    "bloco_de_dados = {'Velocidade (RPM)': var_veloc,\n",
    "                  'Vel. Angular (rad/s)': var_freq,\n",
    "                  'Taxa de Deformação (ω/θ)': angular,\n",
    "                  'Viscosidade (N.s/m²*10³)': var_visco,\n",
    "                  'Deformação log (ln(ω/θ))': angularlog,\n",
    "                  'Viscosidade log (ln(n))':viscolog\n",
    "                  }\n",
    "\n",
    "# formatação com pandas dataframe\n",
    "quadro_info = pd.DataFrame(bloco_de_dados)\n",
    "quadro_info"
   ]
  },
  {
   "cell_type": "code",
   "execution_count": 57,
   "metadata": {
    "pycharm": {
     "name": "#%%\n"
    }
   },
   "outputs": [
    {
     "name": "stderr",
     "output_type": "stream",
     "text": [
      "C:\\Users\\alana\\anaconda3\\envs\\CALCULONUMERICO\\lib\\site-packages\\scipy\\stats\\stats.py:1541: UserWarning: kurtosistest only valid for n>=20 ... continuing anyway, n=8\n",
      "  warnings.warn(\"kurtosistest only valid for n>=20 ... continuing \"\n"
     ]
    },
    {
     "data": {
      "text/html": [
       "<table class=\"simpletable\">\n",
       "<caption>OLS Regression Results</caption>\n",
       "<tr>\n",
       "  <th>Dep. Variable:</th>            <td>y</td>        <th>  R-squared:         </th> <td>   0.939</td>\n",
       "</tr>\n",
       "<tr>\n",
       "  <th>Model:</th>                   <td>OLS</td>       <th>  Adj. R-squared:    </th> <td>   0.929</td>\n",
       "</tr>\n",
       "<tr>\n",
       "  <th>Method:</th>             <td>Least Squares</td>  <th>  F-statistic:       </th> <td>   92.60</td>\n",
       "</tr>\n",
       "<tr>\n",
       "  <th>Date:</th>             <td>Sat, 09 Apr 2022</td> <th>  Prob (F-statistic):</th> <td>7.21e-05</td>\n",
       "</tr>\n",
       "<tr>\n",
       "  <th>Time:</th>                 <td>23:40:47</td>     <th>  Log-Likelihood:    </th> <td> -24.424</td>\n",
       "</tr>\n",
       "<tr>\n",
       "  <th>No. Observations:</th>      <td>     8</td>      <th>  AIC:               </th> <td>   52.85</td>\n",
       "</tr>\n",
       "<tr>\n",
       "  <th>Df Residuals:</th>          <td>     6</td>      <th>  BIC:               </th> <td>   53.01</td>\n",
       "</tr>\n",
       "<tr>\n",
       "  <th>Df Model:</th>              <td>     1</td>      <th>                     </th>     <td> </td>   \n",
       "</tr>\n",
       "<tr>\n",
       "  <th>Covariance Type:</th>      <td>nonrobust</td>    <th>                     </th>     <td> </td>   \n",
       "</tr>\n",
       "</table>\n",
       "<table class=\"simpletable\">\n",
       "<tr>\n",
       "    <td></td>       <th>coef</th>     <th>std err</th>      <th>t</th>      <th>P>|t|</th>  <th>[0.025</th>    <th>0.975]</th>  \n",
       "</tr>\n",
       "<tr>\n",
       "  <th>const</th> <td>  120.9643</td> <td>    4.611</td> <td>   26.236</td> <td> 0.000</td> <td>  109.683</td> <td>  132.246</td>\n",
       "</tr>\n",
       "<tr>\n",
       "  <th>0</th>     <td>    0.0732</td> <td>    0.008</td> <td>    9.623</td> <td> 0.000</td> <td>    0.055</td> <td>    0.092</td>\n",
       "</tr>\n",
       "</table>\n",
       "<table class=\"simpletable\">\n",
       "<tr>\n",
       "  <th>Omnibus:</th>       <td> 0.433</td> <th>  Durbin-Watson:     </th> <td>   1.265</td>\n",
       "</tr>\n",
       "<tr>\n",
       "  <th>Prob(Omnibus):</th> <td> 0.805</td> <th>  Jarque-Bera (JB):  </th> <td>   0.473</td>\n",
       "</tr>\n",
       "<tr>\n",
       "  <th>Skew:</th>          <td>-0.327</td> <th>  Prob(JB):          </th> <td>   0.789</td>\n",
       "</tr>\n",
       "<tr>\n",
       "  <th>Kurtosis:</th>      <td> 2.004</td> <th>  Cond. No.          </th> <td>1.34e+03</td>\n",
       "</tr>\n",
       "</table><br/><br/>Notes:<br/>[1] Standard Errors assume that the covariance matrix of the errors is correctly specified.<br/>[2] The condition number is large, 1.34e+03. This might indicate that there are<br/>strong multicollinearity or other numerical problems."
      ],
      "text/plain": [
       "<class 'statsmodels.iolib.summary.Summary'>\n",
       "\"\"\"\n",
       "                            OLS Regression Results                            \n",
       "==============================================================================\n",
       "Dep. Variable:                      y   R-squared:                       0.939\n",
       "Model:                            OLS   Adj. R-squared:                  0.929\n",
       "Method:                 Least Squares   F-statistic:                     92.60\n",
       "Date:                Sat, 09 Apr 2022   Prob (F-statistic):           7.21e-05\n",
       "Time:                        23:40:47   Log-Likelihood:                -24.424\n",
       "No. Observations:                   8   AIC:                             52.85\n",
       "Df Residuals:                       6   BIC:                             53.01\n",
       "Df Model:                           1                                         \n",
       "Covariance Type:            nonrobust                                         \n",
       "==============================================================================\n",
       "                 coef    std err          t      P>|t|      [0.025      0.975]\n",
       "------------------------------------------------------------------------------\n",
       "const        120.9643      4.611     26.236      0.000     109.683     132.246\n",
       "0              0.0732      0.008      9.623      0.000       0.055       0.092\n",
       "==============================================================================\n",
       "Omnibus:                        0.433   Durbin-Watson:                   1.265\n",
       "Prob(Omnibus):                  0.805   Jarque-Bera (JB):                0.473\n",
       "Skew:                          -0.327   Prob(JB):                        0.789\n",
       "Kurtosis:                       2.004   Cond. No.                     1.34e+03\n",
       "==============================================================================\n",
       "\n",
       "Notes:\n",
       "[1] Standard Errors assume that the covariance matrix of the errors is correctly specified.\n",
       "[2] The condition number is large, 1.34e+03. This might indicate that there are\n",
       "strong multicollinearity or other numerical problems.\n",
       "\"\"\""
      ]
     },
     "execution_count": 57,
     "metadata": {},
     "output_type": "execute_result"
    }
   ],
   "source": [
    "x_sm = sm.add_constant(angular)\n",
    "resultados = sm.OLS(var_visco, x_sm).fit()\n",
    "resultados.summary()"
   ]
  },
  {
   "cell_type": "code",
   "execution_count": 54,
   "metadata": {
    "pycharm": {
     "name": "#%%\n"
    }
   },
   "outputs": [
    {
     "data": {
      "text/plain": [
       "array([2.08253689, 2.1447802 , 2.1811902 , 2.20702351, 2.22706138,\n",
       "       2.24343351, 2.25727595, 2.26926682])"
      ]
     },
     "execution_count": 54,
     "metadata": {},
     "output_type": "execute_result"
    }
   ],
   "source": [
    "resultados.predict(x_sm)"
   ]
  },
  {
   "cell_type": "code",
   "execution_count": null,
   "metadata": {
    "pycharm": {
     "name": "#%%\n"
    }
   },
   "outputs": [],
   "source": []
  }
 ],
 "metadata": {
  "kernelspec": {
   "display_name": "Python 3 (ipykernel)",
   "language": "python",
   "name": "python3"
  },
  "language_info": {
   "codemirror_mode": {
    "name": "ipython",
    "version": 3
   },
   "file_extension": ".py",
   "mimetype": "text/x-python",
   "name": "python",
   "nbconvert_exporter": "python",
   "pygments_lexer": "ipython3",
   "version": "3.9.11"
  }
 },
 "nbformat": 4,
 "nbformat_minor": 1
}
