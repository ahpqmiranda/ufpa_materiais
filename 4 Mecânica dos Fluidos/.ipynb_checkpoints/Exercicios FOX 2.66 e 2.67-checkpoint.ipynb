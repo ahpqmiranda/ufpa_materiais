{
 "cells": [
  {
   "cell_type": "markdown",
   "metadata": {
    "pycharm": {
     "name": "#%% md\n"
    }
   },
   "source": [
    "# Gráficos das questões 2.67 e 2.68 FOX"
   ]
  },
  {
   "cell_type": "markdown",
   "metadata": {
    "pycharm": {
     "name": "#%% md\n"
    }
   },
   "source": [
    "**Declaração de bibliotecas**"
   ]
  },
  {
   "cell_type": "code",
   "execution_count": 151,
   "metadata": {
    "pycharm": {
     "name": "#%%\n"
    }
   },
   "outputs": [],
   "source": [
    "import numpy as np\n",
    "import matplotlib.pyplot as plt"
   ]
  },
  {
   "cell_type": "markdown",
   "metadata": {
    "pycharm": {
     "name": "#%% md\n"
    }
   },
   "source": [
    "**Bloco de dados a tratar**"
   ]
  },
  {
   "cell_type": "code",
   "execution_count": 152,
   "metadata": {
    "pycharm": {
     "name": "#%%\n"
    }
   },
   "outputs": [],
   "source": [
    "velocidade = [10, 20, 30, 40, 50, 60, 70, 80]\n",
    "viscosidade = [0.121, 0.139, 0.153, 0.159, 0.172, 0.172, 0.183,0.185]\n",
    "\n",
    "x = np.array(velocidade)\n",
    "y = np.array(viscosidade)\n",
    "\n",
    "plot = np.polyfit(x,y,1) # estabelecendo a interpolação destes dados, o 1, indica grau 1 de polinômio"
   ]
  },
  {
   "cell_type": "markdown",
   "metadata": {
    "pycharm": {
     "name": "#%% md\n"
    }
   },
   "source": [
    "**Bloco de processamento de dados**"
   ]
  },
  {
   "cell_type": "code",
   "execution_count": 153,
   "metadata": {
    "pycharm": {
     "name": "#%%\n"
    }
   },
   "outputs": [
    {
     "name": "stdout",
     "output_type": "stream",
     "text": [
      "[0.12975    0.13853571 0.14732143 0.15610714 0.16489286 0.17367857\n",
      " 0.18246429 0.19125   ] \n",
      " -59.63844975997355\n"
     ]
    }
   ],
   "source": [
    "media_y = plot[0] * x + plot[1] # escrevo os dados no formato y = ax + b\n",
    "residuo_y = y - media_y # cálculo das diferenças da média\n",
    "dp_medio_y = sum(pow(media_y,2)) #cálculo do desvio-médio\n",
    "dp_padrao = len(y)*np.var(y) # cálculo do desvio padrão\n",
    "coef_angular = 1 - dp_medio_y / dp_padrao # coef de regressão linear\n",
    "print('{} \\n {}'.format(media_y,coef_angular))"
   ]
  },
  {
   "cell_type": "markdown",
   "metadata": {
    "pycharm": {
     "name": "#%% md\n"
    }
   },
   "source": [
    "# Gráfico Velocidade vs Viscosidade\n",
    "**Bloco de elaboração de gráfico**"
   ]
  },
  {
   "cell_type": "code",
   "execution_count": 154,
   "metadata": {
    "pycharm": {
     "name": "#%%\n"
    }
   },
   "outputs": [
    {
     "data": {
      "image/png": "[encoded data removed]",
      "text/plain": [
       "<Figure size 432x288 with 1 Axes>"
      ]
     },
     "metadata": {
      "needs_background": "light"
     },
     "output_type": "display_data"
    }
   ],
   "source": [
    "plt.plot(x,y,'c')\n",
    "ax = plt.gca()\n",
    "ax.set_facecolor('#F8F8FF')\n",
    "plt.grid(True)\n",
    "plt.xlim(0,100)\n",
    "plt.ylim(0.1,0.2)\n",
    "plt.title('Fluido Pseudo-Plástico')\n",
    "plt.plot(x,np.polyval(media_y,x),'g--')\n",
    "plt.xlabel(\"Velocidade ângular (rpm)\")\n",
    "plt.ylabel(\"Viscosidade (N.s/m²)\")\n",
    "plt.show()"
   ]
  },
  {
   "cell_type": "markdown",
   "metadata": {
    "pycharm": {
     "name": "#%% md\n"
    }
   },
   "source": [
    "**Elaborando o Gráfico"
   ]
  },
  {
   "cell_type": "code",
   "execution_count": 154,
   "metadata": {
    "pycharm": {
     "name": "#%%\n"
    }
   },
   "outputs": [],
   "source": []
  }
 ],
 "metadata": {
  "kernelspec": {
   "display_name": "Python 3 (ipykernel)",
   "language": "python",
   "name": "python3"
  },
  "language_info": {
   "codemirror_mode": {
    "name": "ipython",
    "version": 3
   },
   "file_extension": ".py",
   "mimetype": "text/x-python",
   "name": "python",
   "nbconvert_exporter": "python",
   "pygments_lexer": "ipython3",
   "version": "3.9.11"
  }
 },
 "nbformat": 4,
 "nbformat_minor": 1
}
