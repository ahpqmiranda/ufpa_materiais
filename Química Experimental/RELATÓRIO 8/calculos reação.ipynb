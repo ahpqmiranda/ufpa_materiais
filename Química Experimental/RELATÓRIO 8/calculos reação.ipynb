{
 "cells": [
  {
   "cell_type": "code",
   "execution_count": 35,
   "metadata": {
    "collapsed": true
   },
   "outputs": [],
   "source": [
    "import pandas as pd\n",
    "import numpy as np\n",
    "import sympy as sp\n",
    "import math as m\n",
    "sp.init_printing(use_latex=True)\n",
    "Hi, Hf, Ea, Ti, Tf, R, m, c, T = sp.symbols(\"Hi Hf Ea Ti Tf R m c T\")"
   ]
  },
  {
   "cell_type": "code",
   "execution_count": 36,
   "outputs": [
    {
     "data": {
      "text/plain": "0 elemento entalpia\n1        H        0\n2       Cl     -167\n3       Na     -240\n4       OH     -230\n5        O     -249\n6      HCl      167\n7     NaOH      470\n8      H2O      286\n9     NaCl      411",
      "text/html": "<div>\n<style scoped>\n    .dataframe tbody tr th:only-of-type {\n        vertical-align: middle;\n    }\n\n    .dataframe tbody tr th {\n        vertical-align: top;\n    }\n\n    .dataframe thead th {\n        text-align: right;\n    }\n</style>\n<table border=\"1\" class=\"dataframe\">\n  <thead>\n    <tr style=\"text-align: right;\">\n      <th></th>\n      <th>elemento</th>\n      <th>entalpia</th>\n    </tr>\n  </thead>\n  <tbody>\n    <tr>\n      <th>1</th>\n      <td>H</td>\n      <td>0</td>\n    </tr>\n    <tr>\n      <th>2</th>\n      <td>Cl</td>\n      <td>-167</td>\n    </tr>\n    <tr>\n      <th>3</th>\n      <td>Na</td>\n      <td>-240</td>\n    </tr>\n    <tr>\n      <th>4</th>\n      <td>OH</td>\n      <td>-230</td>\n    </tr>\n    <tr>\n      <th>5</th>\n      <td>O</td>\n      <td>-249</td>\n    </tr>\n    <tr>\n      <th>6</th>\n      <td>HCl</td>\n      <td>167</td>\n    </tr>\n    <tr>\n      <th>7</th>\n      <td>NaOH</td>\n      <td>470</td>\n    </tr>\n    <tr>\n      <th>8</th>\n      <td>H2O</td>\n      <td>286</td>\n    </tr>\n    <tr>\n      <th>9</th>\n      <td>NaCl</td>\n      <td>411</td>\n    </tr>\n  </tbody>\n</table>\n</div>"
     },
     "execution_count": 36,
     "metadata": {},
     "output_type": "execute_result"
    }
   ],
   "source": [
    "file = pd.read_csv(\"entalpias 1.csv\")\n",
    "df = pd.DataFrame(file)\n",
    "df.columns = df.iloc[0]\n",
    "df = df[1:]\n",
    "df"
   ],
   "metadata": {
    "collapsed": false
   }
  },
  {
   "cell_type": "code",
   "execution_count": 37,
   "outputs": [
    {
     "data": {
      "text/plain": "{'H': ['0'],\n 'Cl': ['-167'],\n 'Na': ['-240'],\n 'OH': ['-230'],\n 'O': ['-249'],\n 'HCl': ['167'],\n 'NaOH': ['470'],\n 'H2O': ['286'],\n 'NaCl': ['411']}"
     },
     "execution_count": 37,
     "metadata": {},
     "output_type": "execute_result"
    }
   ],
   "source": [
    "dicts = df.set_index(\"elemento\").T.to_dict('list')\n",
    "dicts"
   ],
   "metadata": {
    "collapsed": false
   }
  },
  {
   "cell_type": "code",
   "execution_count": 38,
   "outputs": [
    {
     "data": {
      "text/plain": "0 elemento entalpia\n3       Na     -240",
      "text/html": "<div>\n<style scoped>\n    .dataframe tbody tr th:only-of-type {\n        vertical-align: middle;\n    }\n\n    .dataframe tbody tr th {\n        vertical-align: top;\n    }\n\n    .dataframe thead th {\n        text-align: right;\n    }\n</style>\n<table border=\"1\" class=\"dataframe\">\n  <thead>\n    <tr style=\"text-align: right;\">\n      <th></th>\n      <th>elemento</th>\n      <th>entalpia</th>\n    </tr>\n  </thead>\n  <tbody>\n    <tr>\n      <th>3</th>\n      <td>Na</td>\n      <td>-240</td>\n    </tr>\n  </tbody>\n</table>\n</div>"
     },
     "execution_count": 38,
     "metadata": {},
     "output_type": "execute_result"
    }
   ],
   "source": [
    "df.iloc[2:3]"
   ],
   "metadata": {
    "collapsed": false
   }
  },
  {
   "cell_type": "code",
   "execution_count": 39,
   "outputs": [],
   "source": [
    "q_vidro = {\n",
    "    \"m\":128.192,\n",
    "    \"c\": 0.6672,\n",
    "    \"T\": 2.5\n",
    "}\n",
    "q_solucao = {\n",
    "    \"m\": 103.822,\n",
    "    \"c\": 4.17,\n",
    "    \"T\":2.5\n",
    "}"
   ],
   "metadata": {
    "collapsed": false
   }
  },
  {
   "cell_type": "code",
   "execution_count": 40,
   "outputs": [
    {
     "data": {
      "text/plain": "T⋅c⋅m",
      "image/png": "[encoded data removed]",
      "text/latex": "$\\displaystyle T c m$"
     },
     "execution_count": 40,
     "metadata": {},
     "output_type": "execute_result"
    }
   ],
   "source": [
    "dH = m * c * T\n",
    "dH"
   ],
   "metadata": {
    "collapsed": false
   }
  },
  {
   "cell_type": "code",
   "execution_count": 41,
   "outputs": [],
   "source": [
    "vidro = dH.subs(q_vidro)\n",
    "solu  = dH.subs(q_solucao)\n",
    "conj = vidro + solu"
   ],
   "metadata": {
    "collapsed": false
   }
  },
  {
   "cell_type": "code",
   "execution_count": 42,
   "outputs": [
    {
     "name": "stdout",
     "output_type": "stream",
     "text": [
      "calor do vidro: 213.824 ; calor da solução 1082.344 e a soma de ambos 1296.169\n"
     ]
    }
   ],
   "source": [
    "print(\"calor do vidro: {:.3f} ; calor da solução {:.3f} e a soma de ambos {:.3f}\".format(vidro, solu, conj))"
   ],
   "metadata": {
    "collapsed": false
   }
  },
  {
   "cell_type": "code",
   "execution_count": 52,
   "outputs": [],
   "source": [
    "eq1 = np.array([-427.7, -92.5, 407, 285.8])"
   ],
   "metadata": {
    "collapsed": false
   }
  },
  {
   "cell_type": "code",
   "execution_count": 53,
   "outputs": [
    {
     "data": {
      "text/plain": "(array([-427.7,  -92.5,  407. ,  285.8]), 172.59999999999997, 1.726)"
     },
     "execution_count": 53,
     "metadata": {},
     "output_type": "execute_result"
    }
   ],
   "source": [
    "eq1, sum(eq1), sum(eq1) * 0.1 * 0.1"
   ],
   "metadata": {
    "collapsed": false
   }
  },
  {
   "cell_type": "code",
   "execution_count": 44,
   "outputs": [],
   "source": [],
   "metadata": {
    "collapsed": false
   }
  }
 ],
 "metadata": {
  "kernelspec": {
   "display_name": "Python 3",
   "language": "python",
   "name": "python3"
  },
  "language_info": {
   "codemirror_mode": {
    "name": "ipython",
    "version": 2
   },
   "file_extension": ".py",
   "mimetype": "text/x-python",
   "name": "python",
   "nbconvert_exporter": "python",
   "pygments_lexer": "ipython2",
   "version": "2.7.6"
  }
 },
 "nbformat": 4,
 "nbformat_minor": 0
}
