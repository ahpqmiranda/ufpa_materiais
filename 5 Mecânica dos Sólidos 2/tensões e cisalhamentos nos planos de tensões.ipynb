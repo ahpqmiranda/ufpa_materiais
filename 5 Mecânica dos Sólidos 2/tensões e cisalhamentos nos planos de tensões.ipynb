{
 "cells": [
  {
   "cell_type": "markdown",
   "metadata": {
    "collapsed": true
   },
   "source": [
    "# Rotações nos planos de análise\n",
    "\n",
    "**Passo 1:**\n",
    "Estudar o efeito das tensões e cisalhamentos atuantes\n",
    "\n",
    "**Passo 2:**\n",
    "Identificar o plano de análise em questão\n",
    "\n",
    "**Passo 3:**\n",
    "Mapear os esforços atuantes no plano em questão\n",
    "\n",
    "**Passo 4:**\n",
    "Montar o novo diagrama de tensões com base nos dados obtidos\n"
   ]
  },
  {
   "cell_type": "code",
   "execution_count": 1,
   "outputs": [],
   "source": [
    "import math\n",
    "from sympy import *\n",
    "init_printing(use_unicode=True)"
   ],
   "metadata": {
    "collapsed": false,
    "ExecuteTime": {
     "start_time": "2023-04-24T14:33:03.948135Z",
     "end_time": "2023-04-24T14:33:04.143049Z"
    }
   }
  },
  {
   "cell_type": "code",
   "execution_count": 2,
   "outputs": [],
   "source": [
    "def analise_tensoes_plano (x, y ,z, a):\n",
    "    angle = math.radians(a)\n",
    "    sigma_x_linha = ((x + y) / 2) + ((x - y) / 2) * math.cos(2 * angle) + z * math.sin(2 * angle)\n",
    "    sigma_y_linha = ((x + y) / 2) - ((x - y) / 2) * math.cos(2 * angle) - z * math.sin(2 * angle)\n",
    "    tau_cis = - ((x - y) / 2) * math.sin(2 * angle) + z * math.cos(2 * angle)\n",
    "    texto = \"O esforço de tensão sigma_x' é: {:.3f} MPa\\n\" \\\n",
    "            \"O esforço de tensão sigma_y' é: {:.3f} MPa\\n\" \\\n",
    "            \"O esforço de cisalhamento tau_xy' é: {:.3f} MPa\".format(sigma_x_linha, sigma_y_linha, tau_cis)\n",
    "\n",
    "    return texto"
   ],
   "metadata": {
    "collapsed": false,
    "ExecuteTime": {
     "start_time": "2023-04-24T14:33:04.146119Z",
     "end_time": "2023-04-24T14:33:04.148960Z"
    }
   }
  },
  {
   "cell_type": "code",
   "execution_count": 3,
   "outputs": [],
   "source": [
    "sigmax = float(input('Digite o valor da tensão x:\\n'))\n",
    "sigmay = float(input('Digite o valor da tensão y:\\n'))\n",
    "tauxy = float(input('Digite o valor do cisalhamento:\\n'))\n",
    "angulo = float(input('Digite o valor do ângulo do plano em graus:\\n'))"
   ],
   "metadata": {
    "collapsed": false,
    "ExecuteTime": {
     "start_time": "2023-04-24T14:33:04.149658Z",
     "end_time": "2023-04-24T14:33:25.670947Z"
    }
   }
  },
  {
   "cell_type": "code",
   "execution_count": 4,
   "outputs": [
    {
     "name": "stdout",
     "output_type": "stream",
     "text": [
      "O esforço de tensão sigma_x' é: -350.000 MPa\n",
      "O esforço de tensão sigma_y' é: 200.000 MPa\n",
      "O esforço de cisalhamento tau_xy' é: 80.000 MPa\n"
     ]
    }
   ],
   "source": [
    "print(analise_tensoes_plano(sigmax,sigmay,tauxy,angulo))"
   ],
   "metadata": {
    "collapsed": false,
    "ExecuteTime": {
     "start_time": "2023-04-24T14:33:25.655050Z",
     "end_time": "2023-04-24T14:33:25.671508Z"
    }
   }
  },
  {
   "cell_type": "code",
   "execution_count": 4,
   "outputs": [],
   "source": [],
   "metadata": {
    "collapsed": false,
    "ExecuteTime": {
     "start_time": "2023-04-24T14:33:25.660681Z",
     "end_time": "2023-04-24T14:33:25.671703Z"
    }
   }
  }
 ],
 "metadata": {
  "kernelspec": {
   "display_name": "Python 3",
   "language": "python",
   "name": "python3"
  },
  "language_info": {
   "codemirror_mode": {
    "name": "ipython",
    "version": 2
   },
   "file_extension": ".py",
   "mimetype": "text/x-python",
   "name": "python",
   "nbconvert_exporter": "python",
   "pygments_lexer": "ipython2",
   "version": "2.7.6"
  }
 },
 "nbformat": 4,
 "nbformat_minor": 0
}
