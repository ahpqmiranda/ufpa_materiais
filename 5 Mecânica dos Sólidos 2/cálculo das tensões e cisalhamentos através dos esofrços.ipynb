{
 "cells": [
  {
   "cell_type": "markdown",
   "metadata": {
    "collapsed": true,
    "pycharm": {
     "name": "#%% md\n"
    }
   },
   "source": [
    "# Usando os braços de alavanca para cálcular tensões e cisalhamentos\n",
    "\n",
    "**Passo 1:**\n",
    "Vir com as magnitudes das forças e braços de alavanca na forma vetorial\n",
    "\n",
    "**Passo 2:**\n",
    "Identificar quando o braço de alavanca e a força atuante possuem ou não coordenadas coincidentes\n",
    "    * Braço e Força possuem extensão coincidente\n",
    "    Gera Tensão Tc (esforço cortante)\n",
    "    * Braço e Força não possuem extensão coincidente\n",
    "    Gera Torsão Ta (esforço cisalhante)\n",
    "\n",
    "**Passo 3:**\n",
    "Aplicar as fórmulas de cálculo de tensão e cisalhamento atuantes nas secções correspondentes\n",
    "tensões:\n",
    "```torsao = Tc / J = Mx * Y / (PI/4 * Y^4) =  ```\n",
    "```Mx = L * F```\n",
    "Torsões:\n",
    "``` tau = Ta * Y / (PI/2 * Y^4) ```\n",
    "```Ta = L * F```\n",
    "\n",
    "**Nota**\n",
    "Ao seguir com as unidades no SI, tanto as tensões, quanto os cisalhamentos estarão em Pa"
   ]
  },
  {
   "cell_type": "code",
   "execution_count": 57,
   "outputs": [],
   "source": [
    "import math\n",
    "\n",
    "import numpy as np\n",
    "# import math as m\n",
    "# from scipy.optimize import curve_fit"
   ],
   "metadata": {
    "collapsed": false,
    "pycharm": {
     "name": "#%%\n"
    }
   }
  },
  {
   "cell_type": "code",
   "execution_count": 58,
   "outputs": [],
   "source": [
    "def calculo_tensoes ():\n",
    "    global ponteiro\n",
    "    l = []\n",
    "    f = []\n",
    "    momento = []\n",
    "    for i in range(3):\n",
    "        ponteiro = float(input('Digite as coorenadas i, j e k do vetor força:\\n'))\n",
    "        f.append(ponteiro)\n",
    "\n",
    "    for i in range(3):\n",
    "        ponteiro = float(input('Digite os valores i, j e k do braço de alavanca: \\n'))\n",
    "        l.append(ponteiro)\n",
    "\n",
    "    for i in range(3):\n",
    "        value_tension = f.index(i) != 0 and l.index(i) != 0\n",
    "        if value_tension is True:\n",
    "            momento.append(np.array(f.index(i) * f.index(l)))\n",
    "\n",
    "        elif\n",
    "\n",
    "    l_magnitude = np.linalg.norm(l)\n",
    "    f_magnitude = np.linalg.norm(f)\n",
    "    momentum = l_magnitude * f_magnitude\n",
    "    texto = 'O Momento da força no braço de alavanca é {:.3f} N.m\\n'.format(momentum)\n",
    "    print(texto)\n",
    "    return"
   ],
   "metadata": {
    "collapsed": false,
    "pycharm": {
     "name": "#%%\n"
    }
   }
  },
  {
   "cell_type": "code",
   "execution_count": 59,
   "outputs": [
    {
     "name": "stdout",
     "output_type": "stream",
     "text": [
      "[0.0, 0.0, 670.0]\n",
      "[0.45, 0.25, 0.0]\n",
      "O Momento da força no braço de alavanca é 344.904 N.m\n",
      "\n"
     ]
    }
   ],
   "source": [
    "calculo_tensoes()"
   ],
   "metadata": {
    "collapsed": false,
    "pycharm": {
     "name": "#%%\n"
    }
   }
  }
 ],
 "metadata": {
  "kernelspec": {
   "display_name": "Python 3",
   "language": "python",
   "name": "python3"
  },
  "language_info": {
   "codemirror_mode": {
    "name": "ipython",
    "version": 2
   },
   "file_extension": ".py",
   "mimetype": "text/x-python",
   "name": "python",
   "nbconvert_exporter": "python",
   "pygments_lexer": "ipython2",
   "version": "2.7.6"
  }
 },
 "nbformat": 4,
 "nbformat_minor": 0
}