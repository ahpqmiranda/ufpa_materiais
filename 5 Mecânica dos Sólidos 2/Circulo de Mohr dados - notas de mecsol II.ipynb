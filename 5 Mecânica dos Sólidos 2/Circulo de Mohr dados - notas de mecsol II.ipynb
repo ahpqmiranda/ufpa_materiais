{
 "cells": [
  {
   "cell_type": "markdown",
   "metadata": {
    "collapsed": true,
    "pycharm": {
     "name": "#%% md\n"
    }
   },
   "source": [
    "# Calculo das tensões principais (em R2)\n",
    "\n",
    "## Cálculo da tensão principal (σ)\n",
    "\n",
    "**Passo 1:**\n",
    "Identificar os planos principais do sistema\n",
    "\n",
    "será dado por:\n",
    "\n",
    "```tan(2a) = 2z/(x - y)```\n",
    "\n",
    "Onde x é a tensão sigma x, y é a tensão sigma y e z é o cisalhamento\n",
    "\n",
    "\"A\" será o ângulo do plano de tensões principais\n",
    "\n",
    "Para encontrar o plano de tensões cisalhantes b, fazemos\n",
    "\n",
    "```b = a + 90```\n",
    "\n",
    "Exemplo, se as tensões dadas para um sistema são\n",
    "\n",
    "```x = 160, y = 60, z = 40 em MPa```\n",
    "\n",
    "temos:\n",
    "```2a = 38.65 degrees```\n",
    "\n",
    " **Tensão principal σ1**\n",
    " ```= (x+y)/2 + (x-y)/2*cos(a) +z*sin(a)```\n",
    "\n",
    "```= (x+y)/2 + sqrt(((x-y)/2)^2+z^2)```\n",
    "\n",
    "```= x * cos(a/2)^2 + y * sin(a/2)^2 + z * sin(a)```\n",
    "\n",
    "\n",
    " **Tensão principal σ2**\n",
    " ```= (x+y)/2 + (x-y)/2*sin(a) +z*cos(a)```\n"
   ]
  },
  {
   "cell_type": "code",
   "execution_count": 1,
   "metadata": {
    "pycharm": {
     "name": "#%%\n"
    }
   },
   "outputs": [],
   "source": [
    "import math\n",
    "import statistics as stats\n",
    "# import numpy as np"
   ]
  },
  {
   "cell_type": "code",
   "execution_count": 2,
   "metadata": {
    "pycharm": {
     "name": "#%%\n"
    }
   },
   "outputs": [],
   "source": [
    "sigmax = float(input('digite a tensão sigma x:'))\n",
    "sigmay = float(input('digite a tensão sigma y:'))\n",
    "tauxy = float(input('digite a tensão de cisalhamento: '))"
   ]
  },
  {
   "cell_type": "markdown",
   "metadata": {
    "pycharm": {
     "name": "#%% md\n"
    }
   },
   "source": [
    "**Ângulo do plano principal de Tensões**"
   ]
  },
  {
   "cell_type": "code",
   "execution_count": 3,
   "metadata": {
    "pycharm": {
     "name": "#%%\n"
    }
   },
   "outputs": [],
   "source": [
    "def angulos_tensoes_principais(x, y, z):\n",
    "    a  = math.atan( 2 * z / (x - y)) / 2\n",
    "    a = math.degrees(a)\n",
    "    b = math.atan( - ((x - y) / (2 * z))) / 2\n",
    "    b = math.degrees(b)\n",
    "    texto = 'O ângulo do plano principal de tensões é {:.3f}º e de cisalhamento é {:.3f}º'.format(a, b)\n",
    "    return texto"
   ]
  },
  {
   "cell_type": "markdown",
   "metadata": {
    "pycharm": {
     "name": "#%% md\n"
    }
   },
   "source": [
    "**Cálculo das tensões máximas e mínimas no par de tensões demonstrado**"
   ]
  },
  {
   "cell_type": "code",
   "execution_count": 4,
   "metadata": {
    "pycharm": {
     "name": "#%%\n"
    }
   },
   "outputs": [],
   "source": [
    "def tensoes_principais (x, y, z):\n",
    "    a = (x + y) / 2 + math.sqrt(math.pow((x-y)/2, 2) + math.pow(z, 2))\n",
    "    b = (x + y) / 2 - math.sqrt(math.pow((x-y)/2, 2) + math.pow(z, 2))\n",
    "    texto = 'A tensão principal sigma x é: {:.3f} MPa\\nA tensão principal simga y é {:.3f} MPa'.format(a, b)\n",
    "    return texto"
   ]
  },
  {
   "cell_type": "markdown",
   "metadata": {
    "pycharm": {
     "name": "#%% md\n"
    }
   },
   "source": [
    "**Cálculo da tensão de cisalhamento máximo**"
   ]
  },
  {
   "cell_type": "code",
   "execution_count": 5,
   "metadata": {
    "pycharm": {
     "name": "#%%\n"
    }
   },
   "outputs": [],
   "source": [
    "def tensao_cisalhamento_max(x, y, z):\n",
    "    tau_principal = math.sqrt(math.pow((x - y) / 2, 2) + math.pow(z, 2))\n",
    "    texto = 'A tensão de cisalhamento máxima é {:.3f} MPa'.format(tau_principal)\n",
    "    return texto"
   ]
  },
  {
   "cell_type": "markdown",
   "metadata": {
    "pycharm": {
     "name": "#%% md\n"
    }
   },
   "source": [
    "**Cálculo da tensão média:**"
   ]
  },
  {
   "cell_type": "code",
   "execution_count": 6,
   "metadata": {
    "pycharm": {
     "name": "#%%\n"
    }
   },
   "outputs": [],
   "source": [
    "def tensao_media (x, y):\n",
    "    sigma_media = stats.mean([x,y])\n",
    "    texto = 'A tensão média de tensões é sistema é: {:.3f} MPa'.format(sigma_media)\n",
    "    return texto"
   ]
  },
  {
   "cell_type": "code",
   "execution_count": 7,
   "metadata": {
    "pycharm": {
     "name": "#%%\n"
    }
   },
   "outputs": [
    {
     "name": "stdout",
     "output_type": "stream",
     "text": [
      "A tensão média de tensões é sistema é: 60.000 MPa\n",
      "O ângulo do plano principal de tensões é 25.670º e de cisalhamento é -19.330º\n",
      "A tensão principal sigma x é: 92.016 MPa\n",
      "A tensão principal simga y é 27.984 MPa\n",
      "A tensão de cisalhamento máxima é 32.016 MPa\n"
     ]
    }
   ],
   "source": [
    "print(tensao_media(sigmax,sigmay))\n",
    "print(angulos_tensoes_principais(sigmax, sigmay, tauxy))\n",
    "print(tensoes_principais(sigmax,sigmay,tauxy))\n",
    "print(tensao_cisalhamento_max(sigmax,sigmay, tauxy))"
   ]
  }
 ],
 "metadata": {
  "kernelspec": {
   "display_name": "Python 3 (ipykernel)",
   "language": "python",
   "name": "python3"
  },
  "language_info": {
   "codemirror_mode": {
    "name": "ipython",
    "version": 3
   },
   "file_extension": ".py",
   "mimetype": "text/x-python",
   "name": "python",
   "nbconvert_exporter": "python",
   "pygments_lexer": "ipython3",
   "version": "3.9.11"
  }
 },
 "nbformat": 4,
 "nbformat_minor": 1
}