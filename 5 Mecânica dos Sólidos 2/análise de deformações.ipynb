{
 "cells": [
  {
   "cell_type": "markdown",
   "source": [
    "# estudo das deformações nas peças"
   ],
   "metadata": {
    "collapsed": false,
    "pycharm": {
     "name": "#%% md\n"
    }
   }
  },
  {
   "cell_type": "code",
   "execution_count": 15,
   "outputs": [],
   "source": [
    "import numpy as np\n",
    "import math"
   ],
   "metadata": {
    "collapsed": false,
    "pycharm": {
     "name": "#%%\n"
    }
   }
  },
  {
   "cell_type": "code",
   "execution_count": 16,
   "outputs": [],
   "source": [
    "def analise_deform (x, y ,z, a):\n",
    "    angle = math.radians(a)\n",
    "    deform_x  = ((x+y)/2) + ((x-y)/2)*np.cos(2*angle) + (z/2)*np.sin(2*angle)\n",
    "    deform_y = ((x+y)/2) - ((x-y)/2)*np.cos(2*angle) - (z/2)*np.sin(2*angle)\n",
    "    deform_cis = -(x-y)*np.sin(2*angle) + z*np.cos(2*angle)\n",
    "\n",
    "    texto = \"Para o plano de tensões com {:.3f}º, os valores do circulo de Mohr, são:\\n\" \\\n",
    "            \"A deformação em X: {:.3f}\\n\" \\\n",
    "            \"A deformação em Y: {:.3f}\\n\" \\\n",
    "            \"A deformação de cisalhamento' é: {:.3f}\\n\".format(a, deform_x, deform_y, deform_cis)\n",
    "\n",
    "    return texto"
   ],
   "metadata": {
    "collapsed": false,
    "pycharm": {
     "name": "#%%\n"
    }
   }
  },
  {
   "cell_type": "code",
   "execution_count": 17,
   "outputs": [],
   "source": [
    "def main_deform (x, y, z):\n",
    "    angular = np.arctan(* z / (x - y)) / 2\n",
    "    angular = math.degrees(angular)\n",
    "    deform_media = (x + y) / 2\n",
    "    radius = math.sqrt(((x - y)/2)**2 + (z/2)**2)\n",
    "    main_1 = deform_media + radius\n",
    "    main_2 = deform_media - radius\n",
    "    texto = \"Angulo do plano principal: {:.3f}º\\n\" \\\n",
    "            \"A deformação média é: {:.3f}\\n\" \\\n",
    "            \"A deformação principal 1: {:.3f}\\n\" \\\n",
    "            \"A deformação principal 2: {:.3f}\\n\" \\\n",
    "            \"A deformação de cisalhamento máximo Yxuy: {:.3f}\\n\".format(angular, deform_media,main_1, main_2, radius)\n",
    "    return texto"
   ],
   "metadata": {
    "collapsed": false,
    "pycharm": {
     "name": "#%%\n"
    }
   }
  },
  {
   "cell_type": "code",
   "execution_count": 18,
   "outputs": [],
   "source": [
    "def main_deform (x, y, z):\n",
    "    angular = np.arctan(* z / (x - y)) / 2\n",
    "    angular = math.degrees(angular)\n",
    "    deform_media = (x + y) / 2\n",
    "    radius = math.sqrt(((x - y)/2)**2 + (z/2)**2)\n",
    "    main_1 = deform_media + radius\n",
    "    main_2 = deform_media - radius\n",
    "    texto = \"Angulo do plano principal: {:.3f}º\\n\" \\\n",
    "            \"A deformação média é: {:.3f}\\n\" \\\n",
    "            \"A deformação principal 1: {:.3f}\\n\" \\\n",
    "            \"A deformação principal 2: {:.3f}\\n\" \\\n",
    "            \"A deformação de cisalhamento máximo Yxuy: {:.3f}\\n\".format(angular, deform_media,main_1, main_2, radius)\n",
    "    return texto"
   ],
   "metadata": {
    "collapsed": false,
    "pycharm": {
     "name": "#%%\n"
    }
   }
  },
  {
   "cell_type": "code",
   "execution_count": 19,
   "outputs": [],
   "source": [
    "def tresca (x, y, z, a):\n",
    "\n",
    "    return"
   ],
   "metadata": {
    "collapsed": false,
    "pycharm": {
     "name": "#%%\n"
    }
   }
  },
  {
   "cell_type": "code",
   "execution_count": 20,
   "outputs": [],
   "source": [
    "def mises (x, y, z, a):\n",
    "\n",
    "    return"
   ],
   "metadata": {
    "collapsed": false,
    "pycharm": {
     "name": "#%%\n"
    }
   }
  },
  {
   "cell_type": "code",
   "execution_count": 20,
   "outputs": [],
   "source": [],
   "metadata": {
    "collapsed": false,
    "pycharm": {
     "name": "#%%\n"
    }
   }
  },
  {
   "cell_type": "code",
   "execution_count": 21,
   "outputs": [
    {
     "ename": "ValueError",
     "evalue": "could not convert string to float: ''",
     "output_type": "error",
     "traceback": [
      "\u001B[1;31m---------------------------------------------------------------------------\u001B[0m",
      "\u001B[1;31mValueError\u001B[0m                                Traceback (most recent call last)",
      "Input \u001B[1;32mIn [21]\u001B[0m, in \u001B[0;36m<cell line: 1>\u001B[1;34m()\u001B[0m\n\u001B[1;32m----> 1\u001B[0m sigmax \u001B[38;5;241m=\u001B[39m \u001B[38;5;28;43mfloat\u001B[39;49m\u001B[43m(\u001B[49m\u001B[38;5;28;43minput\u001B[39;49m\u001B[43m(\u001B[49m\u001B[38;5;124;43m'\u001B[39;49m\u001B[38;5;124;43mDigite o valor da deformação x:\u001B[39;49m\u001B[38;5;130;43;01m\\n\u001B[39;49;00m\u001B[38;5;124;43m'\u001B[39;49m\u001B[43m)\u001B[49m\u001B[43m)\u001B[49m\n\u001B[0;32m      2\u001B[0m sigmay \u001B[38;5;241m=\u001B[39m \u001B[38;5;28mfloat\u001B[39m(\u001B[38;5;28minput\u001B[39m(\u001B[38;5;124m'\u001B[39m\u001B[38;5;124mDigite o valor da deformação y:\u001B[39m\u001B[38;5;130;01m\\n\u001B[39;00m\u001B[38;5;124m'\u001B[39m))\n\u001B[0;32m      3\u001B[0m tauxy \u001B[38;5;241m=\u001B[39m \u001B[38;5;28mfloat\u001B[39m(\u001B[38;5;28minput\u001B[39m(\u001B[38;5;124m'\u001B[39m\u001B[38;5;124mDigite o valor da deformação cisalhante:\u001B[39m\u001B[38;5;130;01m\\n\u001B[39;00m\u001B[38;5;124m'\u001B[39m))\n",
      "\u001B[1;31mValueError\u001B[0m: could not convert string to float: ''"
     ]
    }
   ],
   "source": [
    "sigmax = float(input('Digite o valor da deformação x:\\n'))\n",
    "sigmay = float(input('Digite o valor da deformação y:\\n'))\n",
    "tauxy = float(input('Digite o valor da deformação cisalhante:\\n'))\n",
    "angulo = float(input('Digite o valor do ângulo do plano em graus:\\n'))"
   ],
   "metadata": {
    "collapsed": false,
    "pycharm": {
     "name": "#%%\n"
    }
   }
  },
  {
   "cell_type": "code",
   "execution_count": null,
   "outputs": [],
   "source": [
    "print(analise_deform(sigmax, sigmay, tauxy, angulo))\n",
    "print(main_deform(sigmax, sigmay, tauxy))"
   ],
   "metadata": {
    "collapsed": false,
    "pycharm": {
     "name": "#%%\n"
    }
   }
  }
 ],
 "metadata": {
  "kernelspec": {
   "display_name": "Python 3",
   "language": "python",
   "name": "python3"
  },
  "language_info": {
   "codemirror_mode": {
    "name": "ipython",
    "version": 2
   },
   "file_extension": ".py",
   "mimetype": "text/x-python",
   "name": "python",
   "nbconvert_exporter": "python",
   "pygments_lexer": "ipython2",
   "version": "2.7.6"
  }
 },
 "nbformat": 4,
 "nbformat_minor": 0
}