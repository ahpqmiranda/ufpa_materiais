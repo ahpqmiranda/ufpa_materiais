{
 "cells": [
  {
   "cell_type": "markdown",
   "metadata": {},
   "source": [
    "# estudo das deformações nas peças"
   ]
  },
  {
   "cell_type": "code",
   "execution_count": 1,
   "metadata": {
    "ExecuteTime": {
     "start_time": "2023-04-26T08:32:37.380575Z",
     "end_time": "2023-04-26T08:32:37.517390Z"
    }
   },
   "outputs": [],
   "source": [
    "import numpy as np\n",
    "import math"
   ]
  },
  {
   "cell_type": "code",
   "execution_count": 2,
   "metadata": {
    "ExecuteTime": {
     "start_time": "2023-04-26T08:32:37.558099Z",
     "end_time": "2023-04-26T08:32:37.562125Z"
    }
   },
   "outputs": [],
   "source": [
    "def analise_deform (x, y ,z, a):\n",
    "    angle = math.radians(a)\n",
    "    deform_x  = ((x+y)/2) + ((x-y)/2)*np.cos(2*angle) + (z/2)*np.sin(2*angle)\n",
    "    deform_y = ((x+y)/2) - ((x-y)/2)*np.cos(2*angle) - (z/2)*np.sin(2*angle)\n",
    "    deform_cis = -(x-y)*np.sin(2*angle) + z*np.cos(2*angle)\n",
    "\n",
    "    texto = \"Para o plano de tensões com {:.3f}º, os valores do circulo de Mohr, são:\\n\" \\\n",
    "            \"A deformação em X: {:.3f}\\n\" \\\n",
    "            \"A deformação em Y: {:.3f}\\n\" \\\n",
    "            \"A deformação de cisalhamento' é: {:.3f}\\n\".format(a, deform_x, deform_y, deform_cis)\n",
    "\n",
    "    return texto"
   ]
  },
  {
   "cell_type": "code",
   "execution_count": 3,
   "metadata": {
    "ExecuteTime": {
     "start_time": "2023-04-26T08:32:37.558269Z",
     "end_time": "2023-04-26T08:32:37.562661Z"
    }
   },
   "outputs": [],
   "source": [
    "def main_deform(x, y, z):\n",
    "    angular = np.arctan(z / (x - y)) / 2\n",
    "    angular_cs = np.arctan(- (x - y) / z) / 2\n",
    "    angular_cs = math.degrees(angular_cs)\n",
    "    angular = math.degrees(angular)\n",
    "    deform_media = (x + y) / 2\n",
    "    radius = math.sqrt(((x - y)/2)**2 + (z/2)**2)\n",
    "    main_1 = deform_media + radius\n",
    "    main_2 = deform_media - radius\n",
    "    texto = \"Angulo do plano principal: {:.3f}º\\n\" \\\n",
    "            \"Angulo do plano de cisalhamento máximo: {:.3f}º\\n\" \\\n",
    "            \"A deformação média é: {:.3f}\\n\" \\\n",
    "            \"A deformação principal 1: {:.3f}\\n\" \\\n",
    "            \"A deformação principal 2: {:.3f}\\n\" \\\n",
    "            \"A deformação de cisalhamento máximo Yxuy: {:.3f}\\n\".format(angular, angular_cs, deform_media,main_1, main_2, radius)\n",
    "    return texto"
   ]
  },
  {
   "cell_type": "code",
   "execution_count": 4,
   "metadata": {
    "ExecuteTime": {
     "start_time": "2023-04-26T08:32:37.558424Z",
     "end_time": "2023-04-26T08:32:37.562967Z"
    }
   },
   "outputs": [],
   "source": [
    "def tresca (x, y, z, a):\n",
    "\n",
    "    return"
   ]
  },
  {
   "cell_type": "code",
   "execution_count": 5,
   "metadata": {
    "ExecuteTime": {
     "start_time": "2023-04-26T08:32:37.558650Z",
     "end_time": "2023-04-26T08:32:37.563270Z"
    }
   },
   "outputs": [],
   "source": [
    "def mises (x, y, z, a):\n",
    "\n",
    "    return"
   ]
  },
  {
   "cell_type": "code",
   "execution_count": 5,
   "metadata": {
    "ExecuteTime": {
     "start_time": "2023-04-26T08:32:37.559146Z",
     "end_time": "2023-04-26T08:32:37.563591Z"
    }
   },
   "outputs": [],
   "source": []
  },
  {
   "cell_type": "code",
   "execution_count": 6,
   "metadata": {
    "ExecuteTime": {
     "start_time": "2023-04-26T08:32:37.560325Z",
     "end_time": "2023-04-26T08:33:02.518493Z"
    }
   },
   "outputs": [],
   "source": [
    "sigmax = float(input('Digite o valor da deformação x:\\n'))\n",
    "sigmay = float(input('Digite o valor da deformação y:\\n'))\n",
    "tauxy = float(input('Digite o valor da deformação cisalhante:\\n'))\n",
    "angulo = float(input('Digite o valor do ângulo do plano em graus:\\n'))"
   ]
  },
  {
   "cell_type": "code",
   "execution_count": 7,
   "metadata": {
    "ExecuteTime": {
     "start_time": "2023-04-26T08:33:02.476952Z",
     "end_time": "2023-04-26T08:33:02.520034Z"
    }
   },
   "outputs": [
    {
     "name": "stdout",
     "output_type": "stream",
     "text": [
      "Para o plano de tensões com 0.000º, os valores do circulo de Mohr, são:\n",
      "A deformação em X: 40.000\n",
      "A deformação em Y: 860.000\n",
      "A deformação de cisalhamento' é: 750.000\n",
      "\n",
      "Angulo do plano principal: -21.224º\n",
      "Angulo do plano de cisalhamento máximo: 23.776º\n",
      "A deformação média é: 450.000\n",
      "A deformação principal 1: 1005.630\n",
      "A deformação principal 2: -105.630\n",
      "A deformação de cisalhamento máximo Yxuy: 555.630\n",
      "\n"
     ]
    }
   ],
   "source": [
    "print(analise_deform(sigmax, sigmay, tauxy, angulo))\n",
    "print(main_deform(sigmax, sigmay, tauxy))"
   ]
  }
 ],
 "metadata": {
  "kernelspec": {
   "display_name": "Python 3 (ipykernel)",
   "language": "python",
   "name": "python3"
  },
  "language_info": {
   "codemirror_mode": {
    "name": "ipython",
    "version": 3
   },
   "file_extension": ".py",
   "mimetype": "text/x-python",
   "name": "python",
   "nbconvert_exporter": "python",
   "pygments_lexer": "ipython3",
   "version": "3.9.15"
  }
 },
 "nbformat": 4,
 "nbformat_minor": 1
}
