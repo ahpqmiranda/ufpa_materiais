{
 "cells": [
  {
   "cell_type": "markdown",
   "metadata": {},
   "source": [
    "# estudo das deformações nas peças"
   ]
  },
  {
   "cell_type": "code",
   "execution_count": 9,
   "metadata": {
    "ExecuteTime": {
     "end_time": "2023-04-24T14:37:40.065275Z",
     "start_time": "2023-04-24T14:37:40.016222Z"
    }
   },
   "outputs": [],
   "source": [
    "import numpy as np\n",
    "import math"
   ]
  },
  {
   "cell_type": "code",
   "execution_count": 10,
   "metadata": {
    "ExecuteTime": {
     "end_time": "2023-04-24T14:37:40.734089Z",
     "start_time": "2023-04-24T14:37:40.730965Z"
    }
   },
   "outputs": [],
   "source": [
    "def analise_deform (x, y ,z, a):\n",
    "    angle = math.radians(a)\n",
    "    deform_x  = ((x+y)/2) + ((x-y)/2)*np.cos(2*angle) + (z/2)*np.sin(2*angle)\n",
    "    deform_y = ((x+y)/2) - ((x-y)/2)*np.cos(2*angle) - (z/2)*np.sin(2*angle)\n",
    "    deform_cis = -(x-y)*np.sin(2*angle) + z*np.cos(2*angle)\n",
    "\n",
    "    texto = \"Para o plano de tensões com {:.3f}º, os valores do circulo de Mohr, são:\\n\" \\\n",
    "            \"A deformação em X: {:.3f}\\n\" \\\n",
    "            \"A deformação em Y: {:.3f}\\n\" \\\n",
    "            \"A deformação de cisalhamento' é: {:.3f}\\n\".format(a, deform_x, deform_y, deform_cis)\n",
    "\n",
    "    return texto"
   ]
  },
  {
   "cell_type": "code",
   "execution_count": 11,
   "metadata": {
    "ExecuteTime": {
     "end_time": "2023-04-24T14:37:41.502057Z",
     "start_time": "2023-04-24T14:37:41.496497Z"
    }
   },
   "outputs": [],
   "source": [
    "def main_deform (x, y, z):\n",
    "    u = z / (x - y)\n",
    "    angular = np.arctan(u) / 2\n",
    "    angular = math.degrees(angular)\n",
    "    deform_media = (x + y) / 2\n",
    "    radius = math.sqrt(((x - y)/2)**2 + (z/2)**2)\n",
    "    main_1 = deform_media + radius\n",
    "    main_2 = deform_media - radius\n",
    "    texto = \"Angulo do plano principal: {:.3f}º\\n\" \\\n",
    "            \"A deformação média é: {:.3f}\\n\" \\\n",
    "            \"A deformação principal 1: {:.3f}\\n\" \\\n",
    "            \"A deformação principal 2: {:.3f}\\n\" \\\n",
    "            \"A deformação de cisalhamento máximo Yxuy: {:.3f}\\n\".format(angular, deform_media,main_1, main_2, radius)\n",
    "    return texto"
   ]
  },
  {
   "cell_type": "code",
   "execution_count": 12,
   "metadata": {
    "ExecuteTime": {
     "end_time": "2023-04-24T14:37:42.819485Z",
     "start_time": "2023-04-24T14:37:42.813655Z"
    }
   },
   "outputs": [],
   "source": [
    "def main_deform (x, y, z):\n",
    "    angular = np.arctan(* z / (x - y)) / 2\n",
    "    angular = math.degrees(angular)\n",
    "    deform_media = (x + y) / 2\n",
    "    radius = math.sqrt(((x - y)/2)**2 + (z/2)**2)\n",
    "    main_1 = deform_media + radius\n",
    "    main_2 = deform_media - radius\n",
    "    texto = \"Angulo do plano principal: {:.3f}º\\n\" \\\n",
    "            \"A deformação média é: {:.3f}\\n\" \\\n",
    "            \"A deformação principal 1: {:.3f}\\n\" \\\n",
    "            \"A deformação principal 2: {:.3f}\\n\" \\\n",
    "            \"A deformação de cisalhamento máximo Yxuy: {:.3f}\\n\".format(angular, deform_media,main_1, main_2, radius)\n",
    "    return texto"
   ]
  },
  {
   "cell_type": "code",
   "execution_count": 13,
   "metadata": {
    "ExecuteTime": {
     "end_time": "2023-04-24T14:37:43.214626Z",
     "start_time": "2023-04-24T14:37:43.206483Z"
    }
   },
   "outputs": [],
   "source": [
    "def tresca (x, y, z, a):\n",
    "\n",
    "    return"
   ]
  },
  {
   "cell_type": "code",
   "execution_count": 14,
   "metadata": {
    "ExecuteTime": {
     "end_time": "2023-04-24T14:37:43.577545Z",
     "start_time": "2023-04-24T14:37:43.572434Z"
    }
   },
   "outputs": [],
   "source": [
    "def mises (x, y, z, a):\n",
    "\n",
    "    return"
   ]
  },
  {
   "cell_type": "code",
   "execution_count": null,
   "metadata": {
    "ExecuteTime": {
     "end_time": "2023-04-24T14:37:45.084975Z",
     "start_time": "2023-04-24T14:37:45.077998Z"
    }
   },
   "outputs": [],
   "source": []
  },
  {
   "cell_type": "code",
   "execution_count": 15,
   "metadata": {
    "ExecuteTime": {
     "end_time": "2023-04-24T14:37:50.636442Z",
     "start_time": "2023-04-24T14:37:45.515624Z"
    }
   },
   "outputs": [
    {
     "name": "stdout",
     "output_type": "stream",
     "text": [
      "Digite o valor da deformação x:\n",
      "-350\n",
      "Digite o valor da deformação y:\n",
      "200\n",
      "Digite o valor da deformação cisalhante:\n",
      "80\n",
      "Digite o valor do ângulo do plano em graus:\n",
      "0\n"
     ]
    }
   ],
   "source": [
    "sigmax = float(input('Digite o valor da deformação x:\\n'))\n",
    "sigmay = float(input('Digite o valor da deformação y:\\n'))\n",
    "tauxy = float(input('Digite o valor da deformação cisalhante:\\n'))\n",
    "angulo = float(input('Digite o valor do ângulo do plano em graus:\\n'))"
   ]
  },
  {
   "cell_type": "code",
   "execution_count": 8,
   "metadata": {},
   "outputs": [
    {
     "name": "stdout",
     "output_type": "stream",
     "text": [
      "Para o plano de tensões com 0.000º, os valores do circulo de Mohr, são:\n",
      "A deformação em X: -350.000\n",
      "A deformação em Y: 200.000\n",
      "A deformação de cisalhamento' é: 80.000\n",
      "\n"
     ]
    },
    {
     "ename": "TypeError",
     "evalue": "<ufunc 'arctan'> argument after * must be an iterable, not float",
     "output_type": "error",
     "traceback": [
      "\u001b[0;31m---------------------------------------------------------------------------\u001b[0m",
      "\u001b[0;31mTypeError\u001b[0m                                 Traceback (most recent call last)",
      "Cell \u001b[0;32mIn[8], line 2\u001b[0m\n\u001b[1;32m      1\u001b[0m \u001b[38;5;28mprint\u001b[39m(analise_deform(sigmax, sigmay, tauxy, angulo))\n\u001b[0;32m----> 2\u001b[0m \u001b[38;5;28mprint\u001b[39m(\u001b[43mmain_deform\u001b[49m\u001b[43m(\u001b[49m\u001b[43msigmax\u001b[49m\u001b[43m,\u001b[49m\u001b[43m \u001b[49m\u001b[43msigmay\u001b[49m\u001b[43m,\u001b[49m\u001b[43m \u001b[49m\u001b[43mtauxy\u001b[49m\u001b[43m)\u001b[49m)\n",
      "Cell \u001b[0;32mIn[4], line 2\u001b[0m, in \u001b[0;36mmain_deform\u001b[0;34m(x, y, z)\u001b[0m\n\u001b[1;32m      1\u001b[0m \u001b[38;5;28;01mdef\u001b[39;00m \u001b[38;5;21mmain_deform\u001b[39m (x, y, z):\n\u001b[0;32m----> 2\u001b[0m     angular \u001b[38;5;241m=\u001b[39m \u001b[43mnp\u001b[49m\u001b[38;5;241;43m.\u001b[39;49m\u001b[43marctan\u001b[49m\u001b[43m(\u001b[49m\u001b[38;5;241;43m*\u001b[39;49m\u001b[43m \u001b[49m\u001b[43mz\u001b[49m\u001b[43m \u001b[49m\u001b[38;5;241;43m/\u001b[39;49m\u001b[43m \u001b[49m\u001b[43m(\u001b[49m\u001b[43mx\u001b[49m\u001b[43m \u001b[49m\u001b[38;5;241;43m-\u001b[39;49m\u001b[43m \u001b[49m\u001b[43my\u001b[49m\u001b[43m)\u001b[49m\u001b[43m)\u001b[49m \u001b[38;5;241m/\u001b[39m \u001b[38;5;241m2\u001b[39m\n\u001b[1;32m      3\u001b[0m     angular \u001b[38;5;241m=\u001b[39m math\u001b[38;5;241m.\u001b[39mdegrees(angular)\n\u001b[1;32m      4\u001b[0m     deform_media \u001b[38;5;241m=\u001b[39m (x \u001b[38;5;241m+\u001b[39m y) \u001b[38;5;241m/\u001b[39m \u001b[38;5;241m2\u001b[39m\n",
      "\u001b[0;31mTypeError\u001b[0m: <ufunc 'arctan'> argument after * must be an iterable, not float"
     ]
    }
   ],
   "source": [
    "print(analise_deform(sigmax, sigmay, tauxy, angulo))\n",
    "print(main_deform(sigmax, sigmay, tauxy))"
   ]
  }
 ],
 "metadata": {
  "kernelspec": {
   "display_name": "Python 3 (ipykernel)",
   "language": "python",
   "name": "python3"
  },
  "language_info": {
   "codemirror_mode": {
    "name": "ipython",
    "version": 3
   },
   "file_extension": ".py",
   "mimetype": "text/x-python",
   "name": "python",
   "nbconvert_exporter": "python",
   "pygments_lexer": "ipython3",
   "version": "3.9.15"
  }
 },
 "nbformat": 4,
 "nbformat_minor": 1
}
