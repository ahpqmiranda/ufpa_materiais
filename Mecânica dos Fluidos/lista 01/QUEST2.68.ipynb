{
 "cells": [
  {
   "cell_type": "code",
   "execution_count": null,
   "metadata": {
    "collapsed": true,
    "pycharm": {
     "name": "#%%\n",
     "is_executing": true
    }
   },
   "outputs": [],
   "source": [
    "import matplotlib.pyplot as plt\n",
    "import pandas as pd\n",
    "import math\n",
    "import numpy as np\n",
    "from sklearn.linear_model import LinearRegression\n",
    "from sklearn.pipeline import make_pipeline\n",
    "from sklearn.preprocessing import PolynomialFeatures"
   ]
  },
  {
   "cell_type": "code",
   "execution_count": null,
   "outputs": [],
   "source": [
    "velocidade = [(10 + x*10) for x in range(8)]"
   ],
   "metadata": {
    "collapsed": false,
    "pycharm": {
     "name": "#%%\n",
     "is_executing": true
    }
   }
  },
  {
   "cell_type": "code",
   "execution_count": null,
   "outputs": [],
   "source": [
    "viscosidade = [0.121, 0.139, 0.153, 0.159, 0.172, 0.172, 0.183, 0.185]"
   ],
   "metadata": {
    "collapsed": false,
    "pycharm": {
     "name": "#%%\n"
    }
   }
  },
  {
   "cell_type": "code",
   "execution_count": null,
   "outputs": [],
   "source": [
    "angle = math.radians(0.5)\n",
    "velocidade_rad = np.array(velocidade) * ((2 * math.pi) / 60)\n",
    "viscosidade3 = np.array(viscosidade)*1000\n",
    "deform = np.array(velocidade) * ((2 * math.pi) / 60) / angle"
   ],
   "metadata": {
    "collapsed": false,
    "pycharm": {
     "name": "#%%\n"
    }
   }
  },
  {
   "cell_type": "code",
   "execution_count": null,
   "outputs": [],
   "source": [
    "df = pd.DataFrame({\n",
    "    'Velocidade (rpm)':velocidade,\n",
    "    'velocidade (rad/s)':velocidade_rad,\n",
    "    'viscosidade (10**3)':viscosidade3,\n",
    "    'Taxa de deformação (w/theta)':deform\n",
    "})\n",
    "df"
   ],
   "metadata": {
    "collapsed": false,
    "pycharm": {
     "name": "#%%\n"
    }
   }
  },
  {
   "cell_type": "code",
   "execution_count": null,
   "outputs": [],
   "source": [
    "xdic = {'X':np.log10(deform)}\n",
    "ydic = {'Y':np.log10(viscosidade3)}\n",
    "\n",
    "X = pd.DataFrame.from_dict(xdic)\n",
    "Y = pd.DataFrame.from_dict(ydic)\n",
    "\n",
    "x_SEQ = np.linspace(X.min(),X.max(),300).reshape(-1,1)\n",
    "\n",
    "value = 2 # grau do polinômio\n",
    "\n",
    "polynomial_regression = make_pipeline(PolynomialFeatures(value),LinearRegression())\n",
    "polynomial_regression.fit(X,Y)"
   ],
   "metadata": {
    "collapsed": false,
    "pycharm": {
     "name": "#%%\n"
    }
   }
  }
 ],
 "metadata": {
  "kernelspec": {
   "display_name": "Python 3",
   "language": "python",
   "name": "python3"
  },
  "language_info": {
   "codemirror_mode": {
    "name": "ipython",
    "version": 2
   },
   "file_extension": ".py",
   "mimetype": "text/x-python",
   "name": "python",
   "nbconvert_exporter": "python",
   "pygments_lexer": "ipython2",
   "version": "2.7.6"
  }
 },
 "nbformat": 4,
 "nbformat_minor": 0
}