{
 "cells": [
  {
   "cell_type": "code",
   "execution_count": 33,
   "id": "initial_id",
   "metadata": {
    "collapsed": true,
    "ExecuteTime": {
     "end_time": "2023-10-24T19:39:58.768520410Z",
     "start_time": "2023-10-24T19:39:58.690830793Z"
    }
   },
   "outputs": [],
   "source": [
    "import numpy as np\n",
    "import pandas as pd\n",
    "import matplotlib.pyplot as plt\n",
    "import sympy as sp\n",
    "from IPython.display import Image\n",
    "x, y, m1, m2, g, a, b, T1, T2, fat1, fat2, p1, p2, n1, n2, coef1, coef2 = sp.symbols('x y m1 m2 g alpha beta T1 T2 fat_1 fat_2 p_1 p_2 n_1 n_2 sigma_1 sigma_2')\n",
    "\n",
    "sp.init_printing(use_latex='mathjax', backcolor='white', forecolor='red')"
   ]
  },
  {
   "cell_type": "code",
   "execution_count": 34,
   "outputs": [
    {
     "data": {
      "text/plain": "(p₁ = g⋅m₁, p₂ = g⋅m₂)",
      "text/latex": "$\\displaystyle \\left( p_{1} = g m_{1}, \\  p_{2} = g m_{2}\\right)$"
     },
     "execution_count": 34,
     "metadata": {},
     "output_type": "execute_result"
    }
   ],
   "source": [
    "eqp1 = sp.Eq(p1, m1 * g)\n",
    "eqp2 = sp.Eq(p2, m2 * g)\n",
    "\n",
    "eqp1, eqp2"
   ],
   "metadata": {
    "collapsed": false,
    "ExecuteTime": {
     "end_time": "2023-10-24T19:39:58.769073806Z",
     "start_time": "2023-10-24T19:39:58.733048850Z"
    }
   },
   "id": "e3cc6ffae6e0ffa5"
  },
  {
   "cell_type": "code",
   "execution_count": 35,
   "outputs": [
    {
     "data": {
      "text/plain": "({fat₁: g⋅m₁⋅σ₁, p₁: g⋅m₁}, {fat₂: g⋅m₂⋅σ₁, p₂: g⋅m₂})",
      "text/latex": "$\\displaystyle \\left( \\left\\{ fat_{1} : g m_{1} \\sigma_{1}, \\  p_{1} : g m_{1}\\right\\}, \\  \\left\\{ fat_{2} : g m_{2} \\sigma_{1}, \\  p_{2} : g m_{2}\\right\\}\\right)$"
     },
     "execution_count": 35,
     "metadata": {},
     "output_type": "execute_result"
    }
   ],
   "source": [
    "eqfat1 = sp.Eq(fat1, p1 * coef1)\n",
    "eqfat2 = sp.Eq(fat2, p2 * coef1)\n",
    "\n",
    "eqfat1 = sp.solve([eqfat1, eqp1], [fat1, p1])\n",
    "eqfat2 = sp.solve([eqfat2, eqp2], [fat2, p2])\n",
    "\n",
    "eqfat1, eqfat2"
   ],
   "metadata": {
    "collapsed": false,
    "ExecuteTime": {
     "end_time": "2023-10-24T19:39:58.804722016Z",
     "start_time": "2023-10-24T19:39:58.733886686Z"
    }
   },
   "id": "4bf1210497fed6aa"
  },
  {
   "cell_type": "code",
   "execution_count": 36,
   "outputs": [],
   "source": [
    "# importar a imagem aqui"
   ],
   "metadata": {
    "collapsed": false,
    "ExecuteTime": {
     "end_time": "2023-10-24T19:39:58.842390981Z",
     "start_time": "2023-10-24T19:39:58.788003176Z"
    }
   },
   "id": "c8b4a3cf14928a4a"
  },
  {
   "cell_type": "code",
   "execution_count": 37,
   "outputs": [
    {
     "data": {
      "text/plain": "({n₁: g⋅m₁⋅cos(α), p₁: g⋅m₁}, {n₂: g⋅m₂⋅cos(β), p₂: g⋅m₂})",
      "text/latex": "$\\displaystyle \\left( \\left\\{ n_{1} : g m_{1} \\cos{\\left(\\alpha \\right)}, \\  p_{1} : g m_{1}\\right\\}, \\  \\left\\{ n_{2} : g m_{2} \\cos{\\left(\\beta \\right)}, \\  p_{2} : g m_{2}\\right\\}\\right)$"
     },
     "execution_count": 37,
     "metadata": {},
     "output_type": "execute_result"
    }
   ],
   "source": [
    "eqn1 = sp.Eq(n1, p1 * sp.cos(a))\n",
    "eqn2 = sp.Eq(n2, p2 * sp.cos(b))\n",
    "eqn1 = sp.solve([eqn1, eqp1], [n1, p1])\n",
    "eqn2 = sp.solve([eqn2, eqp2], [n2, p2])\n",
    "eqn1, eqn2"
   ],
   "metadata": {
    "collapsed": false,
    "ExecuteTime": {
     "end_time": "2023-10-24T19:39:58.904754753Z",
     "start_time": "2023-10-24T19:39:58.829122953Z"
    }
   },
   "id": "5777c3234e302215"
  },
  {
   "cell_type": "code",
   "execution_count": 38,
   "outputs": [],
   "source": [
    "eqT1 = sp.Eq(T1, sp.sqrt(sp.Pow(fat1, 2) + sp.Pow(n1, 2)))\n",
    "eqT1 = eqT1.subs(eqfat1).subs(eqn1).simplify()"
   ],
   "metadata": {
    "collapsed": false,
    "ExecuteTime": {
     "end_time": "2023-10-24T19:39:59.503293033Z",
     "start_time": "2023-10-24T19:39:58.877034823Z"
    }
   },
   "id": "3c2ea5508876aab3"
  },
  {
   "cell_type": "code",
   "execution_count": 39,
   "outputs": [],
   "source": [
    "eqT2 = sp.Eq(T2, sp.sqrt(fat2 ** 2 + n2 ** 2))\n",
    "eqT2 = eqT2.subs(eqfat2).subs(eqn2).simplify()"
   ],
   "metadata": {
    "collapsed": false,
    "ExecuteTime": {
     "end_time": "2023-10-24T19:40:00.025582201Z",
     "start_time": "2023-10-24T19:39:59.510567214Z"
    }
   },
   "id": "d8d4c5cea8a83ead"
  },
  {
   "cell_type": "code",
   "execution_count": 40,
   "outputs": [
    {
     "data": {
      "text/plain": "⎧       _____________________________         _____________________________⎫\n⎨      ╱  2   2   2    2   2    2            ╱  2   2   2    2   2    2    ⎬\n⎩T₁: ╲╱  g ⋅m₁ ⋅σ₁  + g ⋅m₁ ⋅cos (α) , T₂: ╲╱  g ⋅m₂ ⋅σ₁  + g ⋅m₂ ⋅cos (β) ⎭",
      "text/latex": "$\\displaystyle \\left\\{ T_{1} : \\sqrt{g^{2} m_{1}^{2} \\sigma_{1}^{2} + g^{2} m_{1}^{2} \\cos^{2}{\\left(\\alpha \\right)}}, \\  T_{2} : \\sqrt{g^{2} m_{2}^{2} \\sigma_{1}^{2} + g^{2} m_{2}^{2} \\cos^{2}{\\left(\\beta \\right)}}\\right\\}$"
     },
     "execution_count": 40,
     "metadata": {},
     "output_type": "execute_result"
    }
   ],
   "source": [
    "solution = sp.solve([eqT1, eqT2], [T1, T2])\n",
    "solution"
   ],
   "metadata": {
    "collapsed": false,
    "ExecuteTime": {
     "end_time": "2023-10-24T19:40:00.075830724Z",
     "start_time": "2023-10-24T19:40:00.032726014Z"
    }
   },
   "id": "3637942467735006"
  },
  {
   "cell_type": "code",
   "execution_count": 41,
   "outputs": [],
   "source": [
    "param = {\n",
    "    g: 9.81, # m/s²\n",
    "    m1: 5, # kg\n",
    "    m2: 7, # kg   \n",
    "    coef1: 0.7\n",
    "}"
   ],
   "metadata": {
    "collapsed": false,
    "ExecuteTime": {
     "end_time": "2023-10-24T19:40:00.092100019Z",
     "start_time": "2023-10-24T19:40:00.074951071Z"
    }
   },
   "id": "f5c43469be1d50cb"
  },
  {
   "cell_type": "code",
   "execution_count": 42,
   "outputs": [
    {
     "data": {
      "text/plain": "dict"
     },
     "execution_count": 42,
     "metadata": {},
     "output_type": "execute_result"
    }
   ],
   "source": [
    "type(solution)"
   ],
   "metadata": {
    "collapsed": false,
    "ExecuteTime": {
     "end_time": "2023-10-24T19:40:00.109172504Z",
     "start_time": "2023-10-24T19:40:00.081900176Z"
    }
   },
   "id": "ea7dbfd7ef75fb50"
  }
 ],
 "metadata": {
  "kernelspec": {
   "display_name": "Python 3",
   "language": "python",
   "name": "python3"
  },
  "language_info": {
   "codemirror_mode": {
    "name": "ipython",
    "version": 2
   },
   "file_extension": ".py",
   "mimetype": "text/x-python",
   "name": "python",
   "nbconvert_exporter": "python",
   "pygments_lexer": "ipython2",
   "version": "2.7.6"
  }
 },
 "nbformat": 4,
 "nbformat_minor": 5
}
