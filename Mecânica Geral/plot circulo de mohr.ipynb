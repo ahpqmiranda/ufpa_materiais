{
 "cells": [
  {
   "cell_type": "code",
   "execution_count": 9,
   "outputs": [],
   "source": [
    "import math as m\n",
    "import numpy as np\n",
    "import pandas as pd\n",
    "import matplotlib.pyplot as plt\n",
    "import matplotlib.patches as mpatches\n",
    "import seaborn as sns\n",
    "import sympy as sy\n",
    "import scipy.stats as stats\n",
    "\n",
    "x, y, z = sy.symbols('x y z')\n",
    "sy.init_printing()"
   ],
   "metadata": {
    "collapsed": false,
    "pycharm": {
     "name": "#%%\n"
    }
   }
  },
  {
   "cell_type": "code",
   "execution_count": null,
   "outputs": [],
   "source": [
    "def inertia_principal (x, y, z):\n",
    "    angular = np.arctan(2 * z / (x - y)) / 2\n",
    "    angular = m.degrees(angular)\n",
    "    inertia_media = (x + y) / 2\n",
    "    radius = m.sqrt(((x - y) / 2) ** 2 + (z / 2) ** 2)\n",
    "    main_1 = inertia_media + radius\n",
    "    main_2 = inertia_media - radius\n",
    "\n",
    "    data_rotate = pd.DataFrame({\n",
    "    'Centro do circulo (in^4)': inertia_media,\n",
    "    'Ângulo principal ( º)': angular,\n",
    "    'Inércia P1 (in^4)': main_1,\n",
    "    'Inércia P2 (in^4)': main_2,\n",
    "    'Produto max (in^4)': radius\n",
    "    }, index=[0])\n",
    "\n",
    "    return data_rotate.T"
   ],
   "metadata": {
    "collapsed": false,
    "pycharm": {
     "name": "#%%\n"
    }
   }
  },
  {
   "cell_type": "code",
   "execution_count": null,
   "outputs": [],
   "source": [
    "def analise_inertia(ix, iy ,pxy, a):\n",
    "    angle = a\n",
    "    inertia_x  = ((ix+iy)/2) + ((ix- iy)/2)*np.cos(2*angle) + (pxy/2)*np.sin(2*angle)\n",
    "    inertia_y = ((ix+iy)/2) - ((ix-iy)/2)*np.cos(2*angle) - (pxy/2)*np.sin(2*angle)\n",
    "    produto_xy = (ix-iy)/2*np.sin(2*angle) + pxy*np.cos(2*angle)\n",
    "\n",
    "    data_rotate = pd.DataFrame({\n",
    "    'Ângulo ( º)': m.degrees(a),\n",
    "    'Inércia em U (in^4)': inertia_x,\n",
    "    'Inércia em V (in^4)': inertia_y,\n",
    "    'Produto inércia (in^4)': produto_xy\n",
    "    }, index=[0])\n",
    "    return data_rotate"
   ],
   "metadata": {
    "collapsed": false,
    "pycharm": {
     "name": "#%%\n"
    }
   }
  },
  {
   "cell_type": "code",
   "execution_count": null,
   "outputs": [],
   "source": [],
   "metadata": {
    "collapsed": false,
    "pycharm": {
     "name": "#%%\n"
    }
   }
  },
  {
   "cell_type": "code",
   "execution_count": 26,
   "outputs": [
    {
     "data": {
      "text/plain": "<Figure size 432x288 with 1 Axes>",
      "image/png": "[encoded data removed]"
     },
     "metadata": {},
     "output_type": "display_data"
    }
   ],
   "source": [
    "figure, axes = plt.subplots()\n",
    "draw_circle = plt.Circle((0.5, 0.5), 0.3, color='g', fill=False)\n",
    "\n",
    "plt.gcf().gca().add_artist(draw_circle)\n",
    "plt.title('Mohr\\'s Circle')\n",
    "axes.set_aspect(1)\n",
    "plt.show()"
   ],
   "metadata": {
    "collapsed": false,
    "pycharm": {
     "name": "#%%\n"
    }
   }
  },
  {
   "cell_type": "code",
   "execution_count": null,
   "outputs": [],
   "source": [],
   "metadata": {
    "collapsed": false,
    "pycharm": {
     "name": "#%%\n"
    }
   }
  }
 ],
 "metadata": {
  "kernelspec": {
   "display_name": "Python 3",
   "language": "python",
   "name": "python3"
  },
  "language_info": {
   "codemirror_mode": {
    "name": "ipython",
    "version": 2
   },
   "file_extension": ".py",
   "mimetype": "text/x-python",
   "name": "python",
   "nbconvert_exporter": "python",
   "pygments_lexer": "ipython2",
   "version": "2.7.6"
  }
 },
 "nbformat": 4,
 "nbformat_minor": 0
}