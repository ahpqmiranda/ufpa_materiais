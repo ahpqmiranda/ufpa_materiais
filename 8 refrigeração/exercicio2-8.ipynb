{
 "cells": [
  {
   "cell_type": "code",
   "id": "b3527fc3ba94bc48",
   "metadata": {
    "ExecuteTime": {
     "end_time": "2025-01-17T19:11:44.590828Z",
     "start_time": "2025-01-17T19:11:44.582729Z"
    }
   },
   "source": [
    "import numpy as np\n",
    "import pandas as pd\n",
    "import CoolProp.CoolProp as cp\n",
    "from sympy import symbols, Eq, solve"
   ],
   "outputs": [],
   "execution_count": 105
  },
  {
   "metadata": {
    "collapsed": true,
    "ExecuteTime": {
     "end_time": "2025-01-17T19:11:44.669633Z",
     "start_time": "2025-01-17T19:11:44.660358Z"
    }
   },
   "cell_type": "code",
   "source": [
    "# aula do dia 17/01/2025 exercicio 8 do slide 2, página 31\n",
    "\n",
    "volume = 20 #L\n",
    "volume = 20/1000 #m³\n",
    "\n",
    "temp = 30 #ºC\n",
    "temp = 30 + 273.15 #K\n",
    "\n",
    "p_abs = 9750 # kgf/cm²\n",
    "p_abs =  9750 * 9.805 /1000 # kPa\n",
    "\n",
    "mm = 31.999 # g/mol"
   ],
   "id": "initial_id",
   "outputs": [],
   "execution_count": 106
  },
  {
   "metadata": {
    "ExecuteTime": {
     "end_time": "2025-01-17T19:11:44.753809Z",
     "start_time": "2025-01-17T19:11:44.742883Z"
    }
   },
   "cell_type": "code",
   "source": [
    "p, v_esp, v, R, T = symbols('p v_esp v R T')\n",
    "V_esp = R * T / p\n",
    "V_esp"
   ],
   "id": "421f4fec7a944fdd",
   "outputs": [
    {
     "data": {
      "text/plain": [
       "R*T/p"
      ],
      "text/latex": "$\\displaystyle \\frac{R T}{p}$"
     },
     "execution_count": 107,
     "metadata": {},
     "output_type": "execute_result"
    }
   ],
   "execution_count": 107
  },
  {
   "metadata": {
    "ExecuteTime": {
     "end_time": "2025-01-17T19:11:44.853371Z",
     "start_time": "2025-01-17T19:11:44.842718Z"
    }
   },
   "cell_type": "code",
   "source": [
    "G_o2 = p * V_esp / (R * T) # ideal gas for O2\n",
    "G_o2"
   ],
   "id": "61675cb19e65d32f",
   "outputs": [
    {
     "data": {
      "text/plain": [
       "1"
      ],
      "text/latex": "$\\displaystyle 1$"
     },
     "execution_count": 108,
     "metadata": {},
     "output_type": "execute_result"
    }
   ],
   "execution_count": 108
  },
  {
   "metadata": {
    "ExecuteTime": {
     "end_time": "2025-01-17T19:11:44.909848Z",
     "start_time": "2025-01-17T19:11:44.900469Z"
    }
   },
   "cell_type": "code",
   "source": [
    "R_o2_c = 8.314 / mm # constant R for O2 in J/(mol K) divided by molar mass\n",
    "R_o2_c # J/(mol K)"
   ],
   "id": "7b7cf3870b8b14c3",
   "outputs": [
    {
     "data": {
      "text/plain": [
       "0.2598206193943561"
      ]
     },
     "execution_count": 109,
     "metadata": {},
     "output_type": "execute_result"
    }
   ],
   "execution_count": 109
  },
  {
   "metadata": {
    "ExecuteTime": {
     "end_time": "2025-01-17T19:11:45.004336Z",
     "start_time": "2025-01-17T19:11:44.996340Z"
    }
   },
   "cell_type": "code",
   "source": [
    "R_o2 = 8.314 / mm**2 # J/(g K)\n",
    "R_o2\n",
    "print(f'Constante específica do oxigênio: {R_o2:.5e} J/(g K)')"
   ],
   "id": "4906e7461598626c",
   "outputs": [
    {
     "name": "stdout",
     "output_type": "stream",
     "text": [
      "Constante específica do oxigênio: 8.11965e-03 J/(g K)\n"
     ]
    }
   ],
   "execution_count": 110
  },
  {
   "metadata": {
    "ExecuteTime": {
     "end_time": "2025-01-17T19:11:45.180809Z",
     "start_time": "2025-01-17T19:11:45.170439Z"
    }
   },
   "cell_type": "code",
   "source": [
    "G_o2 = p_abs * volume / (R_o2 * temp)\n",
    "G_o2"
   ],
   "id": "799de60b7348a0fa",
   "outputs": [
    {
     "data": {
      "text/plain": [
       "0.7767610308709773"
      ]
     },
     "execution_count": 111,
     "metadata": {},
     "output_type": "execute_result"
    }
   ],
   "execution_count": 111
  },
  {
   "metadata": {
    "ExecuteTime": {
     "end_time": "2025-01-17T19:11:45.384513Z",
     "start_time": "2025-01-17T19:11:45.375857Z"
    }
   },
   "cell_type": "code",
   "source": "p_abs, temp, R_o2, volume",
   "id": "ff1f0498cdf8e094",
   "outputs": [
    {
     "data": {
      "text/plain": [
       "(95.59875, 303.15, 0.0081196480950766, 0.02)"
      ]
     },
     "execution_count": 112,
     "metadata": {},
     "output_type": "execute_result"
    }
   ],
   "execution_count": 112
  },
  {
   "metadata": {
    "ExecuteTime": {
     "end_time": "2025-01-17T19:11:45.517196Z",
     "start_time": "2025-01-17T19:11:45.512857Z"
    }
   },
   "cell_type": "code",
   "source": "",
   "id": "5eda1a70232886ce",
   "outputs": [],
   "execution_count": null
  }
 ],
 "metadata": {
  "kernelspec": {
   "display_name": "Python 3",
   "language": "python",
   "name": "python3"
  },
  "language_info": {
   "codemirror_mode": {
    "name": "ipython",
    "version": 2
   },
   "file_extension": ".py",
   "mimetype": "text/x-python",
   "name": "python",
   "nbconvert_exporter": "python",
   "pygments_lexer": "ipython2",
   "version": "2.7.6"
  }
 },
 "nbformat": 4,
 "nbformat_minor": 5
}
